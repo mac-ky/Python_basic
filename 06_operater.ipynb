{
 "cells": [
  {
   "cell_type": "markdown",
   "id": "d5a061f0-2ae1-46e2-a939-39d0c74afefb",
   "metadata": {},
   "source": [
    "# 演算子\n",
    "四則演算や大小比較などを行うときの記号のとき"
   ]
  },
  {
   "cell_type": "markdown",
   "id": "49eff2dc-589d-4705-b8c4-be7c8d904ee9",
   "metadata": {},
   "source": [
    "## 算術演算子 \n",
    "足し算，引き算，掛け算，割り算などを行うためのもの．"
   ]
  },
  {
   "cell_type": "code",
   "execution_count": 18,
   "id": "a1585eae-1bc4-4e05-ac98-12e68ee405a9",
   "metadata": {},
   "outputs": [
    {
     "name": "stdout",
     "output_type": "stream",
     "text": [
      "足し算： 19\n",
      "引き算： 11\n",
      "掛け算： 60\n",
      "割り算： 3.75\n",
      "割り算の余り： 3\n",
      "割り算の商： 3\n"
     ]
    }
   ],
   "source": [
    "a = 15\n",
    "b = 4\n",
    "\n",
    "print(\"足し算：\", a + b)\n",
    "print(\"引き算：\", a - b)\n",
    "print(\"掛け算：\", a * b)\n",
    "print(\"割り算：\", a / b)\n",
    "print(\"割り算の余り：\", a % b)\n",
    "print(\"割り算の商：\", a // b)"
   ]
  },
  {
   "cell_type": "markdown",
   "id": "070bfb07-ffd3-4fc0-80fd-eab51940c281",
   "metadata": {},
   "source": [
    "## 関係演算子\n",
    "2つの値の関係の真偽を判断させる演算子"
   ]
  },
  {
   "cell_type": "code",
   "execution_count": 27,
   "id": "b07ef596-2c35-49d8-8e05-ba4a4ad517c4",
   "metadata": {},
   "outputs": [
    {
     "name": "stdout",
     "output_type": "stream",
     "text": [
      "aがbより大きいか？： True\n",
      "bがaより大きいか？： False\n",
      "aはb以上か？： True\n",
      "bはa以上か？： False\n",
      "aはbと等しいか？： False\n",
      "aはbと等しくないか？： True\n"
     ]
    }
   ],
   "source": [
    "a = 15\n",
    "b = 4\n",
    "\n",
    "print(\"aがbより大きいか？：\",a > b)  # True\n",
    "print(\"bがaより大きいか？：\",a < b)  # False\n",
    "print(\"aはb以上か？：\",a >= b)  # True\n",
    "print(\"bはa以上か？：\",a <= b)  # False\n",
    "print(\"aはbと等しいか？：\",a == b)  # False\n",
    "print(\"aはbと等しくないか？：\",a != b)  # True"
   ]
  },
  {
   "cell_type": "markdown",
   "id": "7ada2e88-2389-41ac-837e-1e247e89fdcf",
   "metadata": {},
   "source": [
    "## 論理演算子\n",
    "複数の条件を判断させる演算子"
   ]
  },
  {
   "cell_type": "code",
   "execution_count": 30,
   "id": "167f5e25-33be-434d-a247-9ace0dcefb01",
   "metadata": {},
   "outputs": [
    {
     "name": "stdout",
     "output_type": "stream",
     "text": [
      "aは10以上かつ20以下か？： True\n",
      "bは10以上かつ20以下か？： False\n",
      "aは10または，bが20以外か？： True\n",
      "aが10より小さいまたは，bが10より大きい？： False\n"
     ]
    }
   ],
   "source": [
    "a = 15\n",
    "b = 4\n",
    "\n",
    "print(\"aは10以上かつ20以下か？：\",a >= 10 and a <= 20)  # True\n",
    "print(\"bは10以上かつ20以下か？：\",b >= 10 and b <= 20)  # False\n",
    "print(\"aは10または，bが20以外か？：\",a == 10 or b != 20)  # True\n",
    "print(\"aが10より小さいまたは，bが10より大きい？：\",a < 10 or b > 10)  # False"
   ]
  },
  {
   "cell_type": "markdown",
   "id": "36d5a07d-acb5-4f03-8390-2be57a9f1026",
   "metadata": {},
   "source": [
    "## 代入演算子・複合代入演算子\n",
    "変数を代入するときに使う\"=\"を代入演算子，足し算・引き算などと組み合わせて代入する演算子(e.g.,\"+=\")のことを複合代入演算子という．"
   ]
  },
  {
   "cell_type": "code",
   "execution_count": 35,
   "id": "99006993-a5f6-4843-b53c-afc286bf09a9",
   "metadata": {},
   "outputs": [
    {
     "name": "stdout",
     "output_type": "stream",
     "text": [
      "24\n",
      "11\n"
     ]
    }
   ],
   "source": [
    "a = 15\n",
    "b = 4\n",
    "c = 7\n",
    "\n",
    "a += 9  # 15 + 9\n",
    "c += b  # 4 + 7\n",
    "\n",
    "print(a)\n",
    "print(c)\n"
   ]
  },
  {
   "cell_type": "markdown",
   "id": "2d17dbed-e585-4acf-933c-78e6a52fcbe8",
   "metadata": {},
   "source": [
    "## is演算子・is not演算子\n",
    "関係演算子で2つのオブジェクトが同じかどうかを判断する演算子．関係演算子の\"==\"を使用すると，異なるオブジェクトでも値が同じであれば，Trueが返される．"
   ]
  },
  {
   "cell_type": "code",
   "execution_count": 53,
   "id": "e793a253-da3f-420e-90ab-a1f635ecc7d9",
   "metadata": {},
   "outputs": [
    {
     "name": "stdout",
     "output_type": "stream",
     "text": [
      "L_fibo1とL_fibo2が同じ値を持つかどうか： True\n",
      "L_fibo1とL_fibo2が同じオブジェクトかどうか： False\n",
      "L_fibo1とL_fibo3が同じ値を持つかどうか： True\n",
      "L_fibo1とL_fibo3が同じオブジェクトかどうか： True\n"
     ]
    }
   ],
   "source": [
    "L_fibo1 = [0,1,1,2,3,5,8,13]\n",
    "L_fibo2 = [0,1,1,2,3,5,8,13]\n",
    "L_fibo3 = L_fibo1  # L_fibo3とL_fibo1は同じオブジェクト\n",
    "\n",
    "print(\"L_fibo1とL_fibo2が同じ値を持つかどうか：\", L_fibo1 == L_fibo2)  # True\n",
    "print(\"L_fibo1とL_fibo2が同じオブジェクトかどうか：\", L_fibo1 is L_fibo2)  # False\n",
    "print(\"L_fibo1とL_fibo3が同じ値を持つかどうか：\", L_fibo1 == L_fibo3)  # True\n",
    "print(\"L_fibo1とL_fibo3が同じオブジェクトかどうか：\", L_fibo1 is L_fibo3)  # True"
   ]
  },
  {
   "cell_type": "code",
   "execution_count": 46,
   "id": "a3e7bf69-07e2-4ba0-99d1-29e74691a72c",
   "metadata": {},
   "outputs": [
    {
     "name": "stdout",
     "output_type": "stream",
     "text": [
      "L_fibo1のid： 4676702656\n",
      "L_fibo2のid： 4676699072\n",
      "L_fibo3のid： 4676702656\n",
      "L_fibo1とL_fibo2のidが同じかどうか： False\n",
      "L_fibo1とL_fibo2のidが同じかどうか： True\n"
     ]
    }
   ],
   "source": [
    "print(\"L_fibo1のid：\", id(L_fibo1)) \n",
    "print(\"L_fibo2のid：\", id(L_fibo2)) \n",
    "print(\"L_fibo3のid：\", id(L_fibo3)) \n",
    "\n",
    "print(\"L_fibo1とL_fibo2のidが同じかどうか：\", id(L_fibo1) == id(L_fibo2))  # False\n",
    "print(\"L_fibo1とL_fibo2のidが同じかどうか：\", id(L_fibo1) == id(L_fibo3))  # True\n"
   ]
  },
  {
   "cell_type": "markdown",
   "id": "207b8838-f52c-48ad-90c9-b0be25926487",
   "metadata": {},
   "source": [
    "listは変更可能なデータ型であるため，要素の変更を行ってもidは変わらない．"
   ]
  },
  {
   "cell_type": "code",
   "execution_count": 50,
   "id": "28eade7e-1899-4b3e-b0ee-6ff026b052b8",
   "metadata": {},
   "outputs": [
    {
     "name": "stdout",
     "output_type": "stream",
     "text": [
      "[0, 1, 1, 2, 3, 5, 8, 13] 4676698816\n",
      "[0, 1, 1, 2, 3, 5, 8, 13, 21] 4676698816\n"
     ]
    }
   ],
   "source": [
    "L_fibo = [0,1,1,2,3,5,8,13]\n",
    "\n",
    "print(L_fibo, id(L_fibo))\n",
    "L_fibo.append(21)\n",
    "print(L_fibo, id(L_fibo))"
   ]
  },
  {
   "cell_type": "code",
   "execution_count": 57,
   "id": "82593770-be4e-4dcb-9316-2895b6fc555e",
   "metadata": {},
   "outputs": [
    {
     "name": "stdout",
     "output_type": "stream",
     "text": [
      "L_fibo1とL_fibo2が同じオブジェクトかどうか： False\n",
      "L_fibo1とL_fibo2が異なるオブジェクトかどうか： True\n",
      "L_fibo1とL_fibo3が同じオブジェクトかどうか： True\n",
      "L_fibo1とL_fibo3が異なるオブジェクトかどうか： False\n"
     ]
    }
   ],
   "source": [
    "L_fibo1 = [0,1,1,2,3,5,8,13]\n",
    "L_fibo2 = [0,1,1,2,3,5,8,13]\n",
    "L_fibo3 = L_fibo1  # L_fibo3とL_fibo1は同じオブジェクト\n",
    "\n",
    "print(\"L_fibo1とL_fibo2が同じオブジェクトかどうか：\", L_fibo1 is L_fibo2)  # False\n",
    "print(\"L_fibo1とL_fibo2が異なるオブジェクトかどうか：\", L_fibo1 is not L_fibo2)  # True\n",
    "print(\"L_fibo1とL_fibo3が同じオブジェクトかどうか：\", L_fibo1 is L_fibo3)  # True\n",
    "print(\"L_fibo1とL_fibo3が異なるオブジェクトかどうか：\", L_fibo1 is not L_fibo3)  # False"
   ]
  },
  {
   "cell_type": "markdown",
   "id": "ae9b4ae4-3b45-4fe9-9113-fc35b3b572b6",
   "metadata": {},
   "source": [
    "## in演算子・not in演算子\n",
    "複数の要素をもつオブジェクトの中に特定の要素が含まれているかどうかを判定する．"
   ]
  },
  {
   "cell_type": "code",
   "execution_count": null,
   "id": "203f4b91-b5c0-4c9c-8a6c-71f309086725",
   "metadata": {},
   "outputs": [],
   "source": [
    "L_university = ['Hokkaido','Tohoku','Tokyo','Nagoya', 'Kyoto','Osaka','Kyusyu']\n",
    "\n",
    "print('Osaka' in L_university)  # True\n",
    "print('Kanazawa' in L_university)  # False"
   ]
  },
  {
   "cell_type": "code",
   "execution_count": 64,
   "id": "efe4b55d-3a24-4042-8875-99265d49ddf3",
   "metadata": {},
   "outputs": [
    {
     "name": "stdout",
     "output_type": "stream",
     "text": [
      "False\n",
      "True\n"
     ]
    }
   ],
   "source": [
    "L_university = ['Hokkaido','Tohoku','Tokyo','Nagoya', 'Kyoto','Osaka','Kyusyu']\n",
    "\n",
    "print('Osaka' not in L_university)  # False\n",
    "print('Kanazawa' not in L_university)  # True"
   ]
  },
  {
   "cell_type": "markdown",
   "id": "4ec12315-3975-418f-9834-dd2dbacf088e",
   "metadata": {},
   "source": [
    "## ビット演算子\n",
    "2進数で表した数値を0と1の羅列とみなして論理演算をする演算子です．"
   ]
  },
  {
   "cell_type": "markdown",
   "id": "905cfb46-86e9-4e05-b3d3-b09e362369a0",
   "metadata": {},
   "source": [
    "2進数は数値の前に\"0b\"をつけると，勝手に10進数に変換して表示してくれる．"
   ]
  },
  {
   "cell_type": "code",
   "execution_count": 70,
   "id": "78a0a6b3-ca3f-41e2-855b-95802d6839a5",
   "metadata": {},
   "outputs": [
    {
     "name": "stdout",
     "output_type": "stream",
     "text": [
      "57\n"
     ]
    }
   ],
   "source": [
    "print(0b111001)  # 57"
   ]
  },
  {
   "cell_type": "markdown",
   "id": "90633fa3-2f3b-44c2-811f-54b012099c71",
   "metadata": {},
   "source": [
    "bin関数で10進数を2進数に変換して表示してくれる．"
   ]
  },
  {
   "cell_type": "code",
   "execution_count": 73,
   "id": "2e7cfddc-5918-4e8c-a4f2-e270e5880221",
   "metadata": {},
   "outputs": [
    {
     "name": "stdout",
     "output_type": "stream",
     "text": [
      "0b111001\n"
     ]
    }
   ],
   "source": [
    "print(bin(57))"
   ]
  },
  {
   "cell_type": "markdown",
   "id": "390db770-109a-4561-9ac3-4cbe8bb1ddeb",
   "metadata": {},
   "source": [
    "参考：以上はキノコードさん([[ブログ](https://kino-code.com/)・[You Tube](https://youtube.com/@kinocode?si=B4f5QLuWVA9U65uI]))のYou Tube動画を見て勉強した内容をまとめたものです．"
   ]
  },
  {
   "cell_type": "code",
   "execution_count": null,
   "id": "3c5f2da1-2f7b-4192-8e88-ec051e617586",
   "metadata": {},
   "outputs": [],
   "source": []
  }
 ],
 "metadata": {
  "kernelspec": {
   "display_name": "Python 3 (ipykernel)",
   "language": "python",
   "name": "python3"
  },
  "language_info": {
   "codemirror_mode": {
    "name": "ipython",
    "version": 3
   },
   "file_extension": ".py",
   "mimetype": "text/x-python",
   "name": "python",
   "nbconvert_exporter": "python",
   "pygments_lexer": "ipython3",
   "version": "3.11.9"
  }
 },
 "nbformat": 4,
 "nbformat_minor": 5
}
