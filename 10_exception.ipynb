{
 "cells": [
  {
   "cell_type": "markdown",
   "id": "1a728aa2-5882-4a62-8b51-6be2ab8d3d64",
   "metadata": {},
   "source": [
    "# 例外処理\n",
    "プログラムでエラーが発生してもその先の処理を実行させるためのもの．"
   ]
  },
  {
   "cell_type": "markdown",
   "id": "288b710c-88aa-4a92-95f3-1e7294c75b3e",
   "metadata": {},
   "source": [
    "## Pythonのエラー\n",
    "- 構文エラー：コードが文法的に間違っている\n",
    "- 例外エラー：文法的に正しかったとしても実行するうえで不具合が生じる．\\\n",
    "例外が発生したときにどのように対処するかを書く処理が例外処理．例外処理が書かれていてエラーが発生すると，プログラムは停止してしまう．"
   ]
  },
  {
   "cell_type": "code",
   "execution_count": 20,
   "id": "95a6b30e-049a-46c0-84a6-ee38bd06e45d",
   "metadata": {},
   "outputs": [
    {
     "ename": "TypeError",
     "evalue": "unsupported operand type(s) for +: 'int' and 'str'",
     "output_type": "error",
     "traceback": [
      "\u001b[0;31m---------------------------------------------------------------------------\u001b[0m",
      "\u001b[0;31mTypeError\u001b[0m                                 Traceback (most recent call last)",
      "Cell \u001b[0;32mIn[20], line 2\u001b[0m\n\u001b[1;32m      1\u001b[0m \u001b[38;5;66;03m# 構文エラーの例\u001b[39;00m\n\u001b[0;32m----> 2\u001b[0m wahaha \u001b[38;5;241m=\u001b[39m \u001b[38;5;241m551\u001b[39m \u001b[38;5;241m+\u001b[39m \u001b[38;5;124m\"\u001b[39m\u001b[38;5;124mがあるとき〜\u001b[39m\u001b[38;5;124m\"\u001b[39m\n\u001b[1;32m      4\u001b[0m \u001b[38;5;28mprint\u001b[39m(wahaha)\n",
      "\u001b[0;31mTypeError\u001b[0m: unsupported operand type(s) for +: 'int' and 'str'"
     ]
    }
   ],
   "source": [
    "# 構文エラーの例\n",
    "wahaha = 551 + \"があるとき〜\"\n",
    "\n",
    "print(wahaha)"
   ]
  },
  {
   "cell_type": "code",
   "execution_count": 25,
   "id": "7484f44a-daf1-4b23-8f40-5c5fc0c41b55",
   "metadata": {},
   "outputs": [
    {
     "name": "stdout",
     "output_type": "stream",
     "text": [
      "計算開始\n"
     ]
    },
    {
     "ename": "ZeroDivisionError",
     "evalue": "division by zero",
     "output_type": "error",
     "traceback": [
      "\u001b[0;31m---------------------------------------------------------------------------\u001b[0m",
      "\u001b[0;31mZeroDivisionError\u001b[0m                         Traceback (most recent call last)",
      "Cell \u001b[0;32mIn[25], line 7\u001b[0m\n\u001b[1;32m      4\u001b[0m y \u001b[38;5;241m=\u001b[39m \u001b[38;5;241m0\u001b[39m\n\u001b[1;32m      6\u001b[0m \u001b[38;5;28mprint\u001b[39m(\u001b[38;5;124m\"\u001b[39m\u001b[38;5;124m計算開始\u001b[39m\u001b[38;5;124m\"\u001b[39m)\n\u001b[0;32m----> 7\u001b[0m \u001b[38;5;28mprint\u001b[39m(x \u001b[38;5;241m/\u001b[39m y)\n\u001b[1;32m      8\u001b[0m \u001b[38;5;28mprint\u001b[39m(\u001b[38;5;124m\"\u001b[39m\u001b[38;5;124m計算終了\u001b[39m\u001b[38;5;124m\"\u001b[39m)\n",
      "\u001b[0;31mZeroDivisionError\u001b[0m: division by zero"
     ]
    }
   ],
   "source": [
    "# 例外エラーの例\n",
    "\n",
    "x = 5\n",
    "y = 0\n",
    "\n",
    "print(\"計算開始\")\n",
    "print(x / y)\n",
    "print(\"計算終了\")"
   ]
  },
  {
   "cell_type": "markdown",
   "id": "9f9443e8-9e8f-401d-9f4e-601bc7179beb",
   "metadata": {},
   "source": [
    "## try ~ except\n",
    "エラーが発生したときの処理を指定しておくことができる．"
   ]
  },
  {
   "cell_type": "code",
   "execution_count": 39,
   "id": "c0e4bfba-10b1-4ce1-8d41-50ecb3cc493a",
   "metadata": {},
   "outputs": [
    {
     "name": "stdout",
     "output_type": "stream",
     "text": [
      "計算開始\n",
      "0では割れましぇん\n"
     ]
    }
   ],
   "source": [
    "# エラーが発生する場合の処理\n",
    "x = 5\n",
    "y = 0\n",
    "\n",
    "print(\"計算開始\")\n",
    "try:\n",
    "    print(x / y)\n",
    "except:\n",
    "    print(\"0では割れましぇん\")\n"
   ]
  },
  {
   "cell_type": "code",
   "execution_count": 41,
   "id": "8757282d-50b4-415f-833b-18698e7948be",
   "metadata": {},
   "outputs": [
    {
     "name": "stdout",
     "output_type": "stream",
     "text": [
      "計算開始\n",
      "5.0\n"
     ]
    }
   ],
   "source": [
    "# エラーが発生しない場合の処理\n",
    "x = 5\n",
    "y = 1\n",
    "\n",
    "print(\"計算開始\")\n",
    "try:\n",
    "    print(x / y)\n",
    "except:\n",
    "    print(\"0では割れましぇん\")\n"
   ]
  },
  {
   "cell_type": "markdown",
   "id": "6d411d6c-004a-4fe9-ac59-c81ba77db352",
   "metadata": {},
   "source": [
    "## try ~ except ~ else\n",
    "エラーが発生しなかった場合の処理をelseの後ろに書いておく．"
   ]
  },
  {
   "cell_type": "code",
   "execution_count": 51,
   "id": "7895cd2f-e1ce-43c6-ac73-33729ec68390",
   "metadata": {},
   "outputs": [
    {
     "name": "stdout",
     "output_type": "stream",
     "text": [
      "計算開始\n",
      "0では割れましぇん\n"
     ]
    }
   ],
   "source": [
    "# エラーが発生する場合の処理\n",
    "x = 5\n",
    "y = 0\n",
    "\n",
    "print(\"計算開始\")\n",
    "try:\n",
    "    print(x / y)\n",
    "except:\n",
    "    print(\"0では割れましぇん\")\n",
    "else:\n",
    "    print(\"計算できたヨ!\")"
   ]
  },
  {
   "cell_type": "code",
   "execution_count": 49,
   "id": "d26774eb-42ee-4483-af05-7ac2f0b94ec1",
   "metadata": {},
   "outputs": [
    {
     "name": "stdout",
     "output_type": "stream",
     "text": [
      "計算開始\n",
      "5.0\n",
      "計算できたヨ!\n"
     ]
    }
   ],
   "source": [
    "# エラーが発生しない場合の処理\n",
    "x = 5\n",
    "y = 1\n",
    "\n",
    "print(\"計算開始\")\n",
    "try:\n",
    "    print(x / y)\n",
    "except:\n",
    "    print(\"0では割れましぇん\")\n",
    "else:\n",
    "    print(\"計算できたヨ!\")"
   ]
  },
  {
   "cell_type": "markdown",
   "id": "2eb2eed9-b25f-4d22-bd13-fea311aae853",
   "metadata": {},
   "source": [
    "## try ~ except ~ else ~ finally\n",
    "エラー発生の有無に関わらず実行したい処理をfinallyの後ろに書いておく．"
   ]
  },
  {
   "cell_type": "code",
   "execution_count": 53,
   "id": "9bb45de5-5083-4960-97aa-0b764429f464",
   "metadata": {},
   "outputs": [
    {
     "name": "stdout",
     "output_type": "stream",
     "text": [
      "計算開始\n",
      "0では割れましぇん\n",
      "計算終了\n"
     ]
    }
   ],
   "source": [
    "# エラーが発生する場合の処理\n",
    "x = 5\n",
    "y = 0\n",
    "\n",
    "print(\"計算開始\")\n",
    "try:\n",
    "    print(x / y)\n",
    "except:\n",
    "    print(\"0では割れましぇん\")\n",
    "else:\n",
    "    print(\"計算できたヨ!\")\n",
    "finally:\n",
    "    print(\"計算終了\")"
   ]
  },
  {
   "cell_type": "code",
   "execution_count": 55,
   "id": "2f176c1c-a26c-4f31-8d2b-fa54557f3fbd",
   "metadata": {},
   "outputs": [
    {
     "name": "stdout",
     "output_type": "stream",
     "text": [
      "計算開始\n",
      "5.0\n",
      "計算できたヨ!\n",
      "計算終了\n"
     ]
    }
   ],
   "source": [
    "# エラーが発生しない場合の処理\n",
    "x = 5\n",
    "y = 1\n",
    "\n",
    "print(\"計算開始\")\n",
    "try:\n",
    "    print(x / y)\n",
    "except:\n",
    "    print(\"0では割れましぇん\")\n",
    "else:\n",
    "    print(\"計算できたヨ!\")\n",
    "finally:\n",
    "    print(\"計算終了\")"
   ]
  },
  {
   "cell_type": "markdown",
   "id": "2c77d281-43a3-41c6-9c5f-22f853b03938",
   "metadata": {},
   "source": [
    "## 例外処理の場合分け\n",
    "発生するエラーの種類によって処理を変えることができる．"
   ]
  },
  {
   "cell_type": "code",
   "execution_count": 60,
   "id": "2e81c52d-1fd0-48d1-887e-da99e04fb623",
   "metadata": {},
   "outputs": [
    {
     "name": "stdout",
     "output_type": "stream",
     "text": [
      "計算開始\n",
      "0では割れましぇん\n"
     ]
    }
   ],
   "source": [
    "# 0で割ったことによって生じるエラー\n",
    "x = 5\n",
    "y = 0\n",
    "\n",
    "print(\"計算開始\")\n",
    "try:\n",
    "    print(x / y)\n",
    "except ZeroDivisionError:\n",
    "    print(\"0では割れましぇん\")\n",
    "except TypeError:\n",
    "    print(\"データ型がアカンねやわ〜\")\n"
   ]
  },
  {
   "cell_type": "code",
   "execution_count": 62,
   "id": "1fa70a9c-d2a0-468a-8300-e965a0f7a51f",
   "metadata": {},
   "outputs": [
    {
     "name": "stdout",
     "output_type": "stream",
     "text": [
      "計算開始\n",
      "データ型がアカンねやわ〜\n"
     ]
    }
   ],
   "source": [
    "# 異なるデータ型を用いたことにより生じるエラー\n",
    "x = 5\n",
    "y = \"0\"\n",
    "\n",
    "print(\"計算開始\")\n",
    "try:\n",
    "    print(x / y)\n",
    "except ZeroDivisionError:\n",
    "    print(\"0では割れましぇん\")\n",
    "except TypeError:\n",
    "    print(\"データ型がアカンねやわ〜\")\n"
   ]
  },
  {
   "cell_type": "markdown",
   "id": "78ffb77c-e804-4b1c-99e9-f03c7385611c",
   "metadata": {},
   "source": [
    "## エラー内容の出力\n",
    "エラー内容を受け取ることもできる．"
   ]
  },
  {
   "cell_type": "code",
   "execution_count": 69,
   "id": "53506bcb-94f5-4c57-b23f-9c2dfe55b9f6",
   "metadata": {},
   "outputs": [
    {
     "name": "stdout",
     "output_type": "stream",
     "text": [
      "計算開始\n",
      "division by zero\n",
      "計算終了\n"
     ]
    }
   ],
   "source": [
    "x = 5\n",
    "y = 0\n",
    "\n",
    "print(\"計算開始\")\n",
    "try:\n",
    "    print(x / y)\n",
    "except Exception as e:\n",
    "    print(e)\n",
    "finally :\n",
    "    print(\"計算終了\")\n"
   ]
  },
  {
   "cell_type": "code",
   "execution_count": 72,
   "id": "59e5616e-7d5e-46f2-ba63-6c216533d012",
   "metadata": {},
   "outputs": [
    {
     "name": "stdout",
     "output_type": "stream",
     "text": [
      "計算開始\n",
      "unsupported operand type(s) for /: 'int' and 'str'\n",
      "計算終了\n"
     ]
    }
   ],
   "source": [
    "x = 5\n",
    "y = \"0\"\n",
    "\n",
    "print(\"計算開始\")\n",
    "try:\n",
    "    print(x / y)\n",
    "except Exception as e:\n",
    "    print(e)\n",
    "finally :\n",
    "    print(\"計算終了\")\n"
   ]
  },
  {
   "cell_type": "markdown",
   "id": "156046e1-203c-413d-b22f-ba378858860b",
   "metadata": {},
   "source": [
    "参考：以上はキノコードさん([[ブログ](https://kino-code.com/)・[You Tube](https://youtube.com/@kinocode?si=B4f5QLuWVA9U65uI]))のYou Tube動画を見て勉強した内容をまとめたものです．"
   ]
  },
  {
   "cell_type": "code",
   "execution_count": null,
   "id": "6ea36d1f-1b70-48fc-9fea-8d4a0368fec8",
   "metadata": {},
   "outputs": [],
   "source": []
  }
 ],
 "metadata": {
  "kernelspec": {
   "display_name": "Python 3 (ipykernel)",
   "language": "python",
   "name": "python3"
  },
  "language_info": {
   "codemirror_mode": {
    "name": "ipython",
    "version": 3
   },
   "file_extension": ".py",
   "mimetype": "text/x-python",
   "name": "python",
   "nbconvert_exporter": "python",
   "pygments_lexer": "ipython3",
   "version": "3.11.9"
  }
 },
 "nbformat": 4,
 "nbformat_minor": 5
}
