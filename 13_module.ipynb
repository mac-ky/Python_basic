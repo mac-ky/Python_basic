{
 "cells": [
  {
   "cell_type": "markdown",
   "id": "f1da64f2-1662-4a52-81b7-382fcc8d1858",
   "metadata": {},
   "source": [
    "# モジュール・パッケージ・ライブラリ"
   ]
  },
  {
   "cell_type": "markdown",
   "id": "998fa254-4172-4a25-b5b6-04b155d0687d",
   "metadata": {},
   "source": [
    "## モジュール・パッケージ・ライブラリの違い\n",
    "- モジュール：関数やクラスをまとめたもので，Pythonファイル(.py)\n",
    "- パッケージ：複数のモジュールをまとめたフォルダ\n",
    "- ライブラリ：関数やクラス，モジュール，パッケージなど他のプログラムから呼び出されるものの総称．"
   ]
  },
  {
   "cell_type": "markdown",
   "id": "37bcdab0-a9c8-4b1b-9d47-8d51d9cec2cb",
   "metadata": {},
   "source": [
    "## モジュールとパッケージの作成\n",
    "自作モジュールやパッケージを作成する際は，同一ディレクトリにPythonファイルを作成する．\\\n",
    "以下は一例でarea.pyがモジュール，calculationがパッケージ：\\\n",
    "├──13\\_module.ipynb \\\n",
    "├──circle.py \\\n",
    "├──calculation \\\n",
    "&emsp;&emsp;&emsp;├── \\_\\_init\\_\\_.py \\\n",
    "&emsp;&emsp;&emsp;├── exponential.py \\\n"
   ]
  },
  {
   "cell_type": "markdown",
   "id": "a6860bd4-e34d-49cb-b21b-75878409576b",
   "metadata": {},
   "source": [
    "### モジュールの作成(一例)\n",
    "同じディレクトリに次のようなPythonファイルを作成する．\\\n",
    "circle.pyの中身：\n",
    "```python\n",
    "pi = 3.14\n",
    "radius = 2\n",
    "\n",
    "def area(pi, radius):\n",
    "    return pi * radius * radius\n",
    "\n",
    "def length(pi, radius):\n",
    "    return 2 * radius * pi\n",
    "```"
   ]
  },
  {
   "cell_type": "markdown",
   "id": "fb0e345c-2bc7-4ca3-83b1-573d9f9b9cc7",
   "metadata": {},
   "source": [
    "### パッケージの作成(一例)\n",
    "同じディレクトリにcalculationというフォルダを作成し，その下に次のファイルを作成する．\\\n",
    "- \\_\\_init\\_\\_.pyには何も書かない：このファイルがあることで，calculationがパッケージとして認識される\n",
    "- exponential.pyの中身：\n",
    "```python\n",
    "a = 2\n",
    "x = 10\n",
    "\n",
    "def exponential(a, x):\n",
    "    return a ** x\n",
    "```"
   ]
  },
  {
   "cell_type": "markdown",
   "id": "c0aaf0f4-1590-4dfe-a579-0cbe5823dcb6",
   "metadata": {},
   "source": [
    "## モジュールとパッケージの使用方法"
   ]
  },
  {
   "cell_type": "markdown",
   "id": "d1ef5cec-4168-47e3-8099-2c7c3ded7064",
   "metadata": {},
   "source": [
    "import文でモジュールやパッケージを読み込み使用することができる．\n",
    "```python\n",
    "import モジュール名\n",
    "\n",
    "from パッケージ名 import モジュール名\n",
    "```"
   ]
  },
  {
   "cell_type": "code",
   "execution_count": 7,
   "id": "1ae69470-f6ee-45eb-a622-d02f0539672b",
   "metadata": {},
   "outputs": [],
   "source": [
    "import circle  # モジュールの読み込み\n",
    "\n",
    "from calculation import exponential  # パッケージの中のモジュールの読み込み"
   ]
  },
  {
   "cell_type": "markdown",
   "id": "e48d53ba-56bb-496a-a287-00b091ac0d53",
   "metadata": {},
   "source": [
    "定義した変数や関数を呼び出すことができる．\n",
    "```python\n",
    "モジュール名.オブジェクト名\n",
    "```"
   ]
  },
  {
   "cell_type": "code",
   "execution_count": 18,
   "id": "10492b93-dd35-4668-88b2-28f7403260f9",
   "metadata": {},
   "outputs": [
    {
     "name": "stdout",
     "output_type": "stream",
     "text": [
      "2\n"
     ]
    }
   ],
   "source": [
    "import circle  # モジュールの読み込み\n",
    "\n",
    "r = circle.radius  # circleモジュールで定義した変数を使用する．\n",
    "\n",
    "print(r)"
   ]
  },
  {
   "cell_type": "code",
   "execution_count": 24,
   "id": "1a4fb8d0-aaf3-48aa-9bab-67de49742d2e",
   "metadata": {},
   "outputs": [
    {
     "name": "stdout",
     "output_type": "stream",
     "text": [
      "81\n"
     ]
    }
   ],
   "source": [
    "from calculation import exponential  # パッケージの中のモジュールの読み込み\n",
    "\n",
    "result = exponential.exponential(3, 4)  # exponentialモジュールで定義した関数を使用する\n",
    "\n",
    "print(result)"
   ]
  },
  {
   "cell_type": "markdown",
   "id": "58fbe8d4-14bd-444f-bcc7-184ebbbc820e",
   "metadata": {},
   "source": [
    "import文でオブジェクトを読み込むこともできる．\n",
    "```python\n",
    "from モジュール名 import オブジェクト名\n",
    "from パッケージ名.モジュール名 import オブジェクト名\n",
    "```"
   ]
  },
  {
   "cell_type": "code",
   "execution_count": 49,
   "id": "89bbf7bc-c040-4601-bf69-b3d34375a1a2",
   "metadata": {},
   "outputs": [
    {
     "name": "stdout",
     "output_type": "stream",
     "text": [
      "2\n",
      "12.56\n"
     ]
    }
   ],
   "source": [
    "from circle import radius, area  # circleモジュールの中のオブジェクトの読み込み\n",
    "\n",
    "print(radius)\n",
    "print(area(3.14, 2))"
   ]
  },
  {
   "cell_type": "code",
   "execution_count": 53,
   "id": "ddbfc6a5-db81-467d-8afa-7adfc5271f37",
   "metadata": {},
   "outputs": [
    {
     "name": "stdout",
     "output_type": "stream",
     "text": [
      "2\n",
      "81\n"
     ]
    }
   ],
   "source": [
    "from calculation.exponential import a, exponential  # calculationパッケージの中のexponentialモジュールの中のオブジェクトの読み込み\n",
    "\n",
    "print(a)\n",
    "print(exponential(3,4))"
   ]
  },
  {
   "cell_type": "markdown",
   "id": "ea17f60f-e8d7-48f0-92ae-cfb25643e0d2",
   "metadata": {},
   "source": [
    "参考：以上はキノコードさん([[ブログ](https://kino-code.com/)・[You Tube](https://youtube.com/@kinocode?si=B4f5QLuWVA9U65uI]))のYou Tube動画を見て勉強した内容をまとめたものです．"
   ]
  },
  {
   "cell_type": "code",
   "execution_count": null,
   "id": "8af6a539-b5fa-4938-a10d-d573f85df230",
   "metadata": {},
   "outputs": [],
   "source": []
  }
 ],
 "metadata": {
  "kernelspec": {
   "display_name": "model_estimation",
   "language": "python",
   "name": "model_estimation"
  },
  "language_info": {
   "codemirror_mode": {
    "name": "ipython",
    "version": 3
   },
   "file_extension": ".py",
   "mimetype": "text/x-python",
   "name": "python",
   "nbconvert_exporter": "python",
   "pygments_lexer": "ipython3",
   "version": "3.10.9"
  }
 },
 "nbformat": 4,
 "nbformat_minor": 5
}
