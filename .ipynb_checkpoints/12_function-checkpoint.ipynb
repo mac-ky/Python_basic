{
 "cells": [
  {
   "cell_type": "markdown",
   "id": "48949cf0-049d-4877-9ec8-14af838cc098",
   "metadata": {},
   "source": [
    "# 関数\n",
    "様々な処理をまとめて一つにしたもの．\n",
    "- 同じコードを2回書かずに済む\n",
    "- 1行で使いまわしができる\n",
    "- 他の人も使うことができる"
   ]
  },
  {
   "cell_type": "markdown",
   "id": "319440b9-14af-4eca-8620-6af793aea0a7",
   "metadata": {},
   "source": [
    "## 関数の種類\n",
    "- 自作する関数\n",
    "- Pythonですでに用意されている組み込み関数(e.g., print関数)"
   ]
  },
  {
   "cell_type": "markdown",
   "id": "5f13dfd5-1b61-4b9c-949c-f05691699a72",
   "metadata": {},
   "source": [
    "## 関数の定義，引数，戻り値\n",
    "- \"def\"を用いて関数を定義する\n",
    "- defの後に関数名を記述する\n",
    "- その後ろに関数に渡したい引数を記述する(省略可能)\n",
    "- \"return\"で返したい処理を記述することができる"
   ]
  },
  {
   "cell_type": "markdown",
   "id": "22f991ad-a599-40d7-a28f-c379cfb8d33c",
   "metadata": {},
   "source": [
    "## 引数なしの関数"
   ]
  },
  {
   "cell_type": "code",
   "execution_count": 30,
   "id": "0c5f8741-3931-4ff7-a1c9-5c15a0574440",
   "metadata": {},
   "outputs": [
    {
     "name": "stdout",
     "output_type": "stream",
     "text": [
      "Hello Python!\n"
     ]
    }
   ],
   "source": [
    "def say_hello():  # 引数を省略\n",
    "    print(\"Hello Python!\")  # \"Hello Python!\"と表示させる関数\n",
    "\n",
    "say_hello()"
   ]
  },
  {
   "cell_type": "markdown",
   "id": "fb5d7655-f529-45d6-8cb6-f7803d3993c3",
   "metadata": {},
   "source": [
    "## 引数ありの関数"
   ]
  },
  {
   "cell_type": "code",
   "execution_count": 34,
   "id": "1ef13be9-8632-4f5a-944e-048c83e65893",
   "metadata": {},
   "outputs": [
    {
     "name": "stdout",
     "output_type": "stream",
     "text": [
      "こんにちは\n"
     ]
    }
   ],
   "source": [
    "def greeting(greeting_word):  # greeting_wordという引数を指定\n",
    "    print(greeting_word)  # 引数として指定した文字を表示させる関数\n",
    "\n",
    "greeting(\"こんにちは\")"
   ]
  },
  {
   "cell_type": "markdown",
   "id": "9e54e624-ad25-428c-9707-417ef3a4cd1e",
   "metadata": {},
   "source": [
    "## 複数の引数がある関数"
   ]
  },
  {
   "cell_type": "code",
   "execution_count": 39,
   "id": "73d3e7af-cb21-42ef-a537-655ed8c85b6a",
   "metadata": {},
   "outputs": [
    {
     "name": "stdout",
     "output_type": "stream",
     "text": [
      "1024\n"
     ]
    }
   ],
   "source": [
    "# 指数関数\n",
    "def exponential(a, x):  # 2つの引数を指定\n",
    "    print(a ** x)\n",
    "\n",
    "exponential(2, 10)"
   ]
  },
  {
   "cell_type": "markdown",
   "id": "66cc7afa-4564-41cc-a0fd-1e9bf9d0566b",
   "metadata": {},
   "source": [
    "## 戻り値がある関数\n",
    "関数の結果をreturnで返すことができる．"
   ]
  },
  {
   "cell_type": "code",
   "execution_count": 50,
   "id": "6ea0013b-2d9c-47c7-8d3b-228179259e61",
   "metadata": {},
   "outputs": [
    {
     "data": {
      "text/plain": [
       "1024"
      ]
     },
     "execution_count": 50,
     "metadata": {},
     "output_type": "execute_result"
    }
   ],
   "source": [
    "# 指数関数\n",
    "def exponential(a, x):  # 2つの引数を指定\n",
    "    return (a ** x)\n",
    "\n",
    "exponential(2, 10)  "
   ]
  },
  {
   "cell_type": "markdown",
   "id": "1239a1b5-202c-4a7a-8f23-b3db900c4fc5",
   "metadata": {},
   "source": [
    "returnで返した戻り値を他の関数でも使用することができる．"
   ]
  },
  {
   "cell_type": "code",
   "execution_count": 56,
   "id": "a32fef5d-c77f-42dd-bef0-8dde5559042f",
   "metadata": {},
   "outputs": [
    {
     "name": "stdout",
     "output_type": "stream",
     "text": [
      "計算結果は1024です．\n"
     ]
    }
   ],
   "source": [
    "# 指数関数\n",
    "def exponential(a, x):  # 2つの引数を指定\n",
    "    return (a ** x)\n",
    "\n",
    "result = exponential(2, 10)  \n",
    "\n",
    "def print_result(result):\n",
    "    print(f\"計算結果は{result}です．\")\n",
    "\n",
    "print_result(result)"
   ]
  },
  {
   "cell_type": "markdown",
   "id": "a8ed2129-54c6-4366-95b0-2c844b10087b",
   "metadata": {},
   "source": [
    "## デフォルト引数\n",
    "引数にあらかじめデフォルトの値を渡しておくことができる．"
   ]
  },
  {
   "cell_type": "code",
   "execution_count": 62,
   "id": "6942c093-ee5f-4ce1-8304-d675e7897de2",
   "metadata": {},
   "outputs": [
    {
     "ename": "TypeError",
     "evalue": "exponential() missing 2 required positional arguments: 'a' and 'x'",
     "output_type": "error",
     "traceback": [
      "\u001b[0;31m---------------------------------------------------------------------------\u001b[0m",
      "\u001b[0;31mTypeError\u001b[0m                                 Traceback (most recent call last)",
      "Cell \u001b[0;32mIn[62], line 5\u001b[0m\n\u001b[1;32m      2\u001b[0m \u001b[38;5;28;01mdef\u001b[39;00m \u001b[38;5;21mexponential\u001b[39m(a, x):  \n\u001b[1;32m      3\u001b[0m     \u001b[38;5;28;01mreturn\u001b[39;00m (a \u001b[38;5;241m*\u001b[39m\u001b[38;5;241m*\u001b[39m x)\n\u001b[0;32m----> 5\u001b[0m exponential()\n",
      "\u001b[0;31mTypeError\u001b[0m: exponential() missing 2 required positional arguments: 'a' and 'x'"
     ]
    }
   ],
   "source": [
    "# デフォルトの引数を与えていないので，引数を渡し忘れるとエラーになる．\n",
    "def exponential(a, x):  \n",
    "    return (a ** x)\n",
    "\n",
    "exponential()  "
   ]
  },
  {
   "cell_type": "code",
   "execution_count": 66,
   "id": "13f21238-4c04-449b-93e4-c72eaae911fc",
   "metadata": {},
   "outputs": [
    {
     "data": {
      "text/plain": [
       "1024"
      ]
     },
     "execution_count": 66,
     "metadata": {},
     "output_type": "execute_result"
    }
   ],
   "source": [
    "# デフォルト引数を与えているので，引数を渡し忘れてもエラーは起きない\n",
    "def exponential(a=2, x=10): \n",
    "    return (a ** x)\n",
    "\n",
    "exponential()  "
   ]
  },
  {
   "cell_type": "code",
   "execution_count": 72,
   "id": "e15556b7-4f11-4fe3-a65e-aa948b4fa54f",
   "metadata": {},
   "outputs": [
    {
     "data": {
      "text/plain": [
       "81"
      ]
     },
     "execution_count": 72,
     "metadata": {},
     "output_type": "execute_result"
    }
   ],
   "source": [
    "# デフォルト引数を与えていているときに，デフォルトと異なる値を渡すと上書きされる\n",
    "def exponential(a=2, x=10): \n",
    "    return (a ** x)\n",
    "\n",
    "exponential(3, 4)  "
   ]
  },
  {
   "cell_type": "markdown",
   "id": "76642dc6-957c-4a4d-9a17-041438e9c555",
   "metadata": {},
   "source": [
    "注意点1：デフォルト値の有無が混在する場合"
   ]
  },
  {
   "cell_type": "code",
   "execution_count": 74,
   "id": "95c8449d-b269-49ba-9cd6-ae57cbb36f12",
   "metadata": {},
   "outputs": [
    {
     "ename": "SyntaxError",
     "evalue": "non-default argument follows default argument (2917300498.py, line 3)",
     "output_type": "error",
     "traceback": [
      "\u001b[0;36m  Cell \u001b[0;32mIn[74], line 3\u001b[0;36m\u001b[0m\n\u001b[0;31m    def exponential(a=2, x):\u001b[0m\n\u001b[0m                         ^\u001b[0m\n\u001b[0;31mSyntaxError\u001b[0m\u001b[0;31m:\u001b[0m non-default argument follows default argument\n"
     ]
    }
   ],
   "source": [
    "# デフォルト値の有無が混在する場合は，デフォルト値を渡さない引数を優先的に記述する．\n",
    "# これはエラーになる\n",
    "def exponential(a=2, x): \n",
    "    return (a ** x)\n",
    "\n",
    "exponential(3, 4)  "
   ]
  },
  {
   "cell_type": "code",
   "execution_count": 76,
   "id": "9ad65c1d-14c2-40e2-87f9-104d64d6a405",
   "metadata": {},
   "outputs": [
    {
     "data": {
      "text/plain": [
       "16"
      ]
     },
     "execution_count": 76,
     "metadata": {},
     "output_type": "execute_result"
    }
   ],
   "source": [
    "# デフォルト値の有無が混在する場合は，デフォルト値を渡さない引数を優先的に記述する．\n",
    "def exponential(x, a=2): \n",
    "    return (a ** x)\n",
    "\n",
    "exponential(4,)  "
   ]
  },
  {
   "cell_type": "markdown",
   "id": "0c76a745-41fe-404c-a222-774c8bbdb92c",
   "metadata": {},
   "source": [
    "注意点2：順次進行の落とし穴"
   ]
  },
  {
   "cell_type": "code",
   "execution_count": 84,
   "id": "b57ea9a6-4a12-4f47-a7d3-5a46befd6d51",
   "metadata": {},
   "outputs": [
    {
     "data": {
      "text/plain": [
       "1024"
      ]
     },
     "execution_count": 84,
     "metadata": {},
     "output_type": "execute_result"
    }
   ],
   "source": [
    "a_default = 2\n",
    "x_default = 10\n",
    "\n",
    "def exponential(a=a_default, x=x_default): \n",
    "    return (a ** x)\n",
    "\n",
    "# ここでデフォルト値を指定し直しても，関数を定義した後なので，デフォルト値は上書きされない．\n",
    "a_default = 3\n",
    "x_default = 4\n",
    "\n",
    "exponential()  "
   ]
  },
  {
   "cell_type": "code",
   "execution_count": 88,
   "id": "5ed73821-11d4-40e6-a655-26d569e37151",
   "metadata": {},
   "outputs": [
    {
     "name": "stdout",
     "output_type": "stream",
     "text": [
      "[1] 4741305152\n",
      "[1, 1] 4741305152\n",
      "[1, 1, 1] 4741305152\n"
     ]
    }
   ],
   "source": [
    "def show_list(L=[]):  # 引数にリストL(はじめは空)を指定\n",
    "    L.append(1)  # リストに要素1を追加\n",
    "    print(L, id(L))\n",
    "\n",
    "show_list()  # 空のリストに要素1が追加されて返ってくる\n",
    "show_list()  # 要素1が入ったリストがデフォルト引数になる\n",
    "show_list()  # 要素[1,1]が入ったリストがデフォルト引数になる"
   ]
  },
  {
   "cell_type": "markdown",
   "id": "690877d9-06cf-4148-a28d-8f8c5d44b839",
   "metadata": {},
   "source": [
    "## キーワード引数\n",
    "名前で値を渡す引数を指定することができる．"
   ]
  },
  {
   "cell_type": "code",
   "execution_count": 91,
   "id": "d7c7983e-646c-4c75-8570-8c4ee8ac810a",
   "metadata": {},
   "outputs": [
    {
     "data": {
      "text/plain": [
       "100"
      ]
     },
     "execution_count": 91,
     "metadata": {},
     "output_type": "execute_result"
    }
   ],
   "source": [
    "# 位置引数(順番で引数を指定する)の場合\n",
    "def exponential(a, x):  \n",
    "    return (a ** x)\n",
    "\n",
    "exponential(10, 2)  # 2の10乗を計算してほしいのに渡す引数の順番を間違えてしまった  "
   ]
  },
  {
   "cell_type": "code",
   "execution_count": 93,
   "id": "ee40799a-ca8e-49d3-b183-07a89a9b5ce2",
   "metadata": {},
   "outputs": [
    {
     "data": {
      "text/plain": [
       "1024"
      ]
     },
     "execution_count": 93,
     "metadata": {},
     "output_type": "execute_result"
    }
   ],
   "source": [
    "# キーワード引数(名前で引数を指定する)の場合\n",
    "def exponential(a, x):  \n",
    "    return (a ** x)\n",
    "\n",
    "exponential(x=10, a=2)  # 順番ではなく名前で指定するので，ミスの心配がない"
   ]
  },
  {
   "cell_type": "markdown",
   "id": "bb5fb49a-3201-42ad-87a7-57b3def83a6d",
   "metadata": {},
   "source": [
    "注意点：キーワード引数と位置引数が混在する場合"
   ]
  },
  {
   "cell_type": "code",
   "execution_count": 96,
   "id": "14dbcce8-bddb-4704-985d-fb9dc220a6a4",
   "metadata": {},
   "outputs": [
    {
     "ename": "SyntaxError",
     "evalue": "positional argument follows keyword argument (3357261351.py, line 6)",
     "output_type": "error",
     "traceback": [
      "\u001b[0;36m  Cell \u001b[0;32mIn[96], line 6\u001b[0;36m\u001b[0m\n\u001b[0;31m    exponential(x=10, 2)\u001b[0m\n\u001b[0m                       ^\u001b[0m\n\u001b[0;31mSyntaxError\u001b[0m\u001b[0;31m:\u001b[0m positional argument follows keyword argument\n"
     ]
    }
   ],
   "source": [
    "# 位置引数を先に書かないとエラーになる\n",
    "# これはエラーになる\n",
    "def exponential(a, x):  \n",
    "    return (a ** x)\n",
    "\n",
    "exponential(x=10, 2) "
   ]
  },
  {
   "cell_type": "code",
   "execution_count": 98,
   "id": "7bfce9dd-5a58-4a93-b368-b752e4df1e96",
   "metadata": {},
   "outputs": [
    {
     "data": {
      "text/plain": [
       "1024"
      ]
     },
     "execution_count": 98,
     "metadata": {},
     "output_type": "execute_result"
    }
   ],
   "source": [
    "# 位置引数を先に書かないとエラーになる\n",
    "# これはエラーになる\n",
    "def exponential(a, x):  \n",
    "    return (a ** x)\n",
    "\n",
    "exponential(2, x=10) "
   ]
  },
  {
   "cell_type": "markdown",
   "id": "56184807-f74c-44c9-8fc9-a247e3c459eb",
   "metadata": {},
   "source": [
    "## 可変長位置引数\n",
    "引数の前にアスタリスクを書くと可変長位置引数を指定できる．可変長位置引数は\"args\"とすることが多い．組み込み関数のprint関数やmax関数で用いられている．"
   ]
  },
  {
   "cell_type": "code",
   "execution_count": 118,
   "id": "a9dbfdea-d6ec-4665-a888-281696179246",
   "metadata": {},
   "outputs": [
    {
     "name": "stdout",
     "output_type": "stream",
     "text": [
      "今日のご飯は\n",
      "(5, 5, 1)\n"
     ]
    }
   ],
   "source": [
    "def arutoki(dinner, *args):\n",
    "    print(dinner)\n",
    "    print(args)  # Tupleとして渡される\n",
    "\n",
    "arutoki(\"今日のご飯は\", 5, 5, 1)"
   ]
  },
  {
   "cell_type": "code",
   "execution_count": 116,
   "id": "a3b7dbec-a358-41c6-af6d-58ece85541c5",
   "metadata": {},
   "outputs": [
    {
     "name": "stdout",
     "output_type": "stream",
     "text": [
      "今日のご飯は\n",
      "5 5 1\n"
     ]
    }
   ],
   "source": [
    "def arutoki(dinner, *args):\n",
    "    print(dinner)\n",
    "    print(*args)  # Tupleが展開されて表示される\n",
    "\n",
    "arutoki(\"今日のご飯は\", 5, 5, 1)"
   ]
  },
  {
   "cell_type": "code",
   "execution_count": 122,
   "id": "9f5586fb-e830-4cf0-abaf-092685da5214",
   "metadata": {},
   "outputs": [
    {
     "name": "stdout",
     "output_type": "stream",
     "text": [
      "今日のご飯は\n",
      "5\n",
      "5\n",
      "1\n"
     ]
    }
   ],
   "source": [
    "def arutoki(dinner, *args):\n",
    "    print(dinner)\n",
    "    for i in args:  # 引数を一つずつ取り出すことも可能\n",
    "        print(i)\n",
    "    \n",
    "arutoki(\"今日のご飯は\", 5, 5, 1)"
   ]
  },
  {
   "cell_type": "markdown",
   "id": "697ebdc6-1cfd-4a43-8836-d43de099cece",
   "metadata": {},
   "source": [
    "## 可変長キーワード引数\n",
    "複数のキーワード指定された引数を辞書として受け取れる．可変長キーワード引数は\"kwargs\"とすることが多い．組み込み関数のdict関数などで用いられている．"
   ]
  },
  {
   "cell_type": "code",
   "execution_count": 141,
   "id": "bc40bf5a-72d7-47f7-bd82-0a622ac2a8ea",
   "metadata": {},
   "outputs": [
    {
     "name": "stdout",
     "output_type": "stream",
     "text": [
      "{'a': 2, 'x': 10, 'result': 1024}\n"
     ]
    }
   ],
   "source": [
    "def exponential(**kwargs):\n",
    "    print(kwargs)\n",
    "\n",
    "exponential(a=2, x=10, result=2**10)"
   ]
  },
  {
   "cell_type": "code",
   "execution_count": 145,
   "id": "1fc8dd3e-b8e3-4168-ab29-9dc32d91e5b8",
   "metadata": {},
   "outputs": [
    {
     "name": "stdout",
     "output_type": "stream",
     "text": [
      "{'a': 2, 'x': 10, 'result': 1024}\n"
     ]
    }
   ],
   "source": [
    "def exponential(**kwargs):\n",
    "    print(kwargs)\n",
    "\n",
    "D = {'a': 2, 'x': 10, 'result': 1024}  # このままDを関数exponentialの引数として渡すと，Dが位置引数になるのでエラーが起こる\n",
    "\n",
    "exponential(**D)  # Dを辞書として展開できるようにして渡す"
   ]
  },
  {
   "cell_type": "markdown",
   "id": "0a843504-dfd2-430f-9ddc-51d6a52c84c7",
   "metadata": {},
   "source": [
    "## 関数内関数\n",
    "関数の中で似たような処理を繰り返したいときに使う．"
   ]
  },
  {
   "cell_type": "code",
   "execution_count": 150,
   "id": "55ef44e0-26e9-4edb-b60e-fa46b399f72b",
   "metadata": {},
   "outputs": [
    {
     "name": "stdout",
     "output_type": "stream",
     "text": [
      "1\n",
      "-3\n"
     ]
    }
   ],
   "source": [
    "def outer_func(a, b):\n",
    "    def inner_func(c, d):\n",
    "        return c - d\n",
    "\n",
    "    x = inner_func(2,1)\n",
    "    y = inner_func(a, b)\n",
    "    print(x)\n",
    "    print(y)\n",
    "\n",
    "outer_func(5,8)"
   ]
  },
  {
   "cell_type": "markdown",
   "id": "62cbe8e7-c3ef-4c8f-9a2e-00eda3e47ee8",
   "metadata": {},
   "source": [
    "参考：以上はキノコードさん([[ブログ](https://kino-code.com/)・[You Tube](https://youtube.com/@kinocode?si=B4f5QLuWVA9U65uI]))のYou Tube動画を見て勉強した内容をまとめたものです．"
   ]
  }
 ],
 "metadata": {
  "kernelspec": {
   "display_name": "Python 3 (ipykernel)",
   "language": "python",
   "name": "python3"
  },
  "language_info": {
   "codemirror_mode": {
    "name": "ipython",
    "version": 3
   },
   "file_extension": ".py",
   "mimetype": "text/x-python",
   "name": "python",
   "nbconvert_exporter": "python",
   "pygments_lexer": "ipython3",
   "version": "3.11.9"
  }
 },
 "nbformat": 4,
 "nbformat_minor": 5
}
