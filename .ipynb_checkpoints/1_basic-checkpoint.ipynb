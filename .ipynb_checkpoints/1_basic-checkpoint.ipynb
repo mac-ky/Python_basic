{
 "cells": [
  {
   "cell_type": "markdown",
   "id": "653ee002-0c13-40ae-811b-39acdfce207b",
   "metadata": {},
   "source": [
    "# Pythonの基本事項\n",
    "## プログラムの3つの基本構造\n",
    "### 順次進行\n",
    "プログラムが書かれている上から順に処理していく．"
   ]
  },
  {
   "cell_type": "code",
   "execution_count": 3,
   "id": "3478443a-d22c-49cb-8fbe-5c484fa9230f",
   "metadata": {},
   "outputs": [
    {
     "name": "stdout",
     "output_type": "stream",
     "text": [
      "Good morning\n",
      "Good afternoon\n",
      "Good evening\n"
     ]
    }
   ],
   "source": [
    "print(\"Good morning\")\n",
    "print(\"Good afternoon\")\n",
    "print(\"Good evening\")"
   ]
  },
  {
   "cell_type": "code",
   "execution_count": 4,
   "id": "057909a6-9ede-4dbe-9045-fce7d8c224e8",
   "metadata": {},
   "outputs": [
    {
     "name": "stdout",
     "output_type": "stream",
     "text": [
      "Good morning\n",
      "Good evening\n",
      "Good afternoon\n"
     ]
    }
   ],
   "source": [
    "print(\"Good morning\")\n",
    "print(\"Good evening\")\n",
    "print(\"Good afternoon\")"
   ]
  },
  {
   "cell_type": "markdown",
   "id": "aeeb6469-f100-4bb9-9db5-c8dfec7cd2f8",
   "metadata": {},
   "source": [
    "コメントアウト機能：\n",
    "メモや注釈はコメント文として追加する．プログラムの先頭に\"# \"を入れる．\n",
    "Macなら， command + /\n",
    "Winなら，Ctrl + /"
   ]
  },
  {
   "cell_type": "code",
   "execution_count": 6,
   "id": "8033ad59-74dd-4eac-bfb2-9b3aadbe3232",
   "metadata": {},
   "outputs": [
    {
     "name": "stdout",
     "output_type": "stream",
     "text": [
      "Good morning\n",
      "Good evening\n",
      "Good afternoon\n"
     ]
    }
   ],
   "source": [
    "# これは挨拶を表示するコードです\n",
    "print(\"Good morning\")\n",
    "print(\"Good evening\")\n",
    "print(\"Good afternoon\")"
   ]
  },
  {
   "cell_type": "markdown",
   "id": "f3c32ee3-534a-4c4e-b57b-8f39ba025655",
   "metadata": {},
   "source": [
    "### 条件分岐\n",
    "特定の条件のときはAという処理，そうでないときはBという処理をする．\n"
   ]
  },
  {
   "cell_type": "code",
   "execution_count": 320,
   "id": "0547f601-6225-42cd-9d95-0aaf1dac081f",
   "metadata": {},
   "outputs": [
    {
     "name": "stdout",
     "output_type": "stream",
     "text": [
      "あるとき〜\n"
     ]
    }
   ],
   "source": [
    "num = 551\n",
    "\n",
    "if num==551:\n",
    "    print('あるとき〜')\n",
    "\n",
    "else:\n",
    "    print('ないとき〜')"
   ]
  },
  {
   "cell_type": "markdown",
   "id": "3a45df1b-4e8c-4e8c-b846-a9ffef602310",
   "metadata": {},
   "source": [
    "### 繰り返し\n",
    "決まった回数や条件を満たすまで同じ処理を行う"
   ]
  },
  {
   "cell_type": "code",
   "execution_count": 322,
   "id": "4fde248c-11d2-4bf0-917f-ff9a2395e43e",
   "metadata": {},
   "outputs": [
    {
     "name": "stdout",
     "output_type": "stream",
     "text": [
      "1\n",
      "2\n",
      "3\n",
      "4\n",
      "5\n"
     ]
    }
   ],
   "source": [
    "l = [1,2,3,4,5]\n",
    "\n",
    "for i in l:\n",
    "    print(i)"
   ]
  },
  {
   "cell_type": "markdown",
   "id": "bd4262b0-17d1-4404-bf9e-b4ba75c2199f",
   "metadata": {},
   "source": [
    "## 変数\n",
    "文字や数字などのデータを入れておくことができる．\n",
    "- 代入：変数に数値やデータを入れること\n",
    "- 参照：変数から数値やデータを取り出すこと\n",
    "- 変数を宣言する：新たに変数を作ること\n",
    "- 変数の初期化：初めて変数に数値やデータを代入する\n"
   ]
  },
  {
   "cell_type": "code",
   "execution_count": 9,
   "id": "bca770ce-f35a-4dd4-9604-f95f630f121c",
   "metadata": {},
   "outputs": [
    {
     "name": "stdout",
     "output_type": "stream",
     "text": [
      "おはよう\n"
     ]
    }
   ],
   "source": [
    "# greetingという変数に\"おはよう\"という単語を代入する\n",
    "greeting = \"おはよう\"\n",
    "print(greeting)"
   ]
  },
  {
   "cell_type": "markdown",
   "id": "f4046070-83b1-4b81-a6f0-a81c0811c8c6",
   "metadata": {},
   "source": [
    "### PEP8における命名ルール\n",
    "- アルファベット，数字，アンダースコアを組み合わせる．：単語を区切りたいときは，大文字orアンダースコアで\n",
    "- 変数名の最初の文字を数字にするのはNG\n",
    "- アルファベットの大文字と小文字は区別される．\n",
    "- 予約語(すでに役割が決まっている単語(e.g., for, return))は使えない．"
   ]
  },
  {
   "cell_type": "code",
   "execution_count": 11,
   "id": "15f70a51-d675-457c-be91-a52c06053ae0",
   "metadata": {},
   "outputs": [
    {
     "ename": "SyntaxError",
     "evalue": "cannot assign to expression here. Maybe you meant '==' instead of '='? (2455950525.py, line 2)",
     "output_type": "error",
     "traceback": [
      "\u001b[0;36m  Cell \u001b[0;32mIn[11], line 2\u001b[0;36m\u001b[0m\n\u001b[0;31m    greeting-morning = \"Good morning\"\u001b[0m\n\u001b[0m    ^\u001b[0m\n\u001b[0;31mSyntaxError\u001b[0m\u001b[0;31m:\u001b[0m cannot assign to expression here. Maybe you meant '==' instead of '='?\n"
     ]
    }
   ],
   "source": [
    "# これはエラーになる\n",
    "greeting-morning = \"Good morning\""
   ]
  },
  {
   "cell_type": "code",
   "execution_count": 19,
   "id": "2d7d97fd-8158-4dfd-b63e-6f2b90345f27",
   "metadata": {},
   "outputs": [
    {
     "name": "stdout",
     "output_type": "stream",
     "text": [
      "おはよう\n",
      "Good morning\n"
     ]
    }
   ],
   "source": [
    "# 大文字やアンダースコアで単語を区切る．\n",
    "# 大文字と小文字は区別される．\n",
    "\n",
    "greeting_morning = \"おはよう\"\n",
    "GreetingMorning = \"Good morning\"\n",
    "\n",
    "print(greeting_morning)\n",
    "print(GreetingMorning)"
   ]
  },
  {
   "cell_type": "code",
   "execution_count": 21,
   "id": "51492fef-6ca8-44db-aab1-13d4998ddfd7",
   "metadata": {},
   "outputs": [
    {
     "ename": "SyntaxError",
     "evalue": "invalid syntax (2505583101.py, line 2)",
     "output_type": "error",
     "traceback": [
      "\u001b[0;36m  Cell \u001b[0;32mIn[21], line 2\u001b[0;36m\u001b[0m\n\u001b[0;31m    return = \"こんにちは\"\u001b[0m\n\u001b[0m           ^\u001b[0m\n\u001b[0;31mSyntaxError\u001b[0m\u001b[0;31m:\u001b[0m invalid syntax\n"
     ]
    }
   ],
   "source": [
    "#  予約語は使えないのでエラーになる\n",
    "return = \"こんにちは\""
   ]
  },
  {
   "cell_type": "code",
   "execution_count": 112,
   "id": "c31f6011-8284-4357-9d0a-852268589650",
   "metadata": {},
   "outputs": [
    {
     "name": "stdout",
     "output_type": "stream",
     "text": [
      "True\n",
      "False\n"
     ]
    }
   ],
   "source": [
    "# 予約語かどうかを調べることができる．\n",
    "import keyword\n",
    "\n",
    "print(keyword.iskeyword('return'))  # returnは予約語\n",
    "print(keyword.iskeyword('Return'))  # Returnは予約語ではない\n"
   ]
  },
  {
   "cell_type": "code",
   "execution_count": 114,
   "id": "0fea904d-224b-4f1d-88fb-57bac60f59c4",
   "metadata": {},
   "outputs": [
    {
     "name": "stdout",
     "output_type": "stream",
     "text": [
      "True\n",
      "False\n"
     ]
    }
   ],
   "source": [
    "# ちなみに，組み込み関数かどうかを調べるなら，以下のコード\n",
    "\n",
    "print('list' in dir(__builtins__))  # listは組み込み関数\n",
    "print('List' in dir(__builtins__))  # Listは組み込み関数"
   ]
  },
  {
   "cell_type": "markdown",
   "id": "bf44c64a-614b-4726-bb1c-0b481e9f9cb2",
   "metadata": {},
   "source": [
    "### ID関数\n",
    "変数の場所を指し示すことができる．\n",
    "文字列や変数，変数など全てのオブジェクトには固有のIDが振り分けられる．"
   ]
  },
  {
   "cell_type": "code",
   "execution_count": 117,
   "id": "3b71de43-8865-4d6c-b3e3-5be621adda20",
   "metadata": {
    "scrolled": true
   },
   "outputs": [
    {
     "name": "stdout",
     "output_type": "stream",
     "text": [
      "4312200368\n",
      "4312200368\n",
      "4312200912\n"
     ]
    }
   ],
   "source": [
    "a = 3\n",
    "print(id(a))\n",
    "b = a \n",
    "a = 20\n",
    "print(id(b))  # 変数aと同じIDになる\n",
    "print(id(a))  # 最初のaとは異なるIDになる"
   ]
  },
  {
   "cell_type": "markdown",
   "id": "3ed49c27-e2bc-4f82-af29-7b44e125bcab",
   "metadata": {},
   "source": [
    "## データ型\n",
    "変数に入れるデータの種類．\n",
    "    - 動的型付け言語(e.g.,Python, Ruby, PHP, Javascript)ではデータ型を指定する必要はない．\n",
    "    - 静的型付け言語(e.g., C言語, Java, Kotolin, Go言語)ではデータ型を指定する必要がある．\n",
    "Pythonにおけるデータ型．\n",
    "- 数値型\n",
    "    - int型：整数\n",
    "    - float型：小数\n",
    "- String型：文字列\n",
    "- bool型：TrueもしくはFalseのどちらかを持つ値．\n",
    "- list型：複数の要素を格納できるデータ型．数値，文字列，リストそのものを入れておける．順番(インデックス)をつけて管理する\n",
    "- tuple型：list型によく似ているが，一度代入した要素を書き換えることができない．要素の追加や削除もできない．\n",
    "- 辞書型：1つの変数で複数の要素を管理できる点はlistやtupleと同じだが，インデックスで管理するのではなく，keyとvaluseをセットで管理する．数字や文字列はkeyに使えるがlistは使えない．\n",
    "- set型：集合を扱う．複数の要素を管理できる．要素の削除，追加も可能で，集合演算ができる．重複した要素がないことと要素に順番がないことがlistとの違い．"
   ]
  },
  {
   "cell_type": "markdown",
   "id": "6f819827-eb3e-40a9-b44f-8c2869c08a02",
   "metadata": {},
   "source": [
    "### type関数でデータ型を確認することができる．"
   ]
  },
  {
   "cell_type": "code",
   "execution_count": 23,
   "id": "e69346f9-73d0-451c-b4cd-6d6dd904a94f",
   "metadata": {},
   "outputs": [
    {
     "name": "stdout",
     "output_type": "stream",
     "text": [
      "<class 'int'>\n",
      "<class 'float'>\n"
     ]
    }
   ],
   "source": [
    "# 数値型\n",
    "I = 5\n",
    "F = 3.14\n",
    "\n",
    "print(type(I))\n",
    "print(type(F))"
   ]
  },
  {
   "cell_type": "code",
   "execution_count": 25,
   "id": "2bacc330-1472-435a-8575-d1459d7a0cd1",
   "metadata": {},
   "outputs": [
    {
     "name": "stdout",
     "output_type": "stream",
     "text": [
      "<class 'str'>\n"
     ]
    }
   ],
   "source": [
    "# String型\n",
    "St = \"Hello python!\" # 文字列は\"もしくは'でくくる必要がある．\n",
    "\n",
    "print(type(St))"
   ]
  },
  {
   "cell_type": "code",
   "execution_count": 27,
   "id": "a3630663-9461-444d-829c-e7b467092dd0",
   "metadata": {},
   "outputs": [
    {
     "name": "stdout",
     "output_type": "stream",
     "text": [
      "True\n",
      "False\n",
      "<class 'bool'>\n",
      "<class 'bool'>\n"
     ]
    }
   ],
   "source": [
    "# bool型\n",
    "a = 3\n",
    "b = 8\n",
    "\n",
    "B_01 = (a < b)  # \"aはbより小さい\"の真偽を検証\n",
    "B_02 = (a == b)  # \"aはbと等しい\"の真偽を検証\n",
    "\n",
    "print(B_01)\n",
    "print(B_02)\n",
    "\n",
    "print(type(B_01))\n",
    "print(type(B_02))"
   ]
  },
  {
   "cell_type": "code",
   "execution_count": 11,
   "id": "fbf831df-3e08-41bb-b176-5b70553bd0a7",
   "metadata": {},
   "outputs": [
    {
     "name": "stdout",
     "output_type": "stream",
     "text": [
      "[5, 3.14, 'Hello python!', True]\n",
      "<class 'list'>\n"
     ]
    }
   ],
   "source": [
    "# list型\n",
    "L = [5, 3.14, \"Hello python!\", (a < b)]\n",
    "\n",
    "print(L)\n",
    "print(type(L))"
   ]
  },
  {
   "cell_type": "code",
   "execution_count": 29,
   "id": "57a6ad8a-c3f9-421b-ad5a-f746060428e2",
   "metadata": {},
   "outputs": [
    {
     "name": "stdout",
     "output_type": "stream",
     "text": [
      "(5, 3.14, 'Hello python!', True)\n",
      "<class 'tuple'>\n"
     ]
    }
   ],
   "source": [
    "# tuple型\n",
    "T = (5, 3.14, \"Hello python!\", (a < b))  # tuple型は丸カッコを使う．\n",
    "\n",
    "print(T)\n",
    "print(type(T))"
   ]
  },
  {
   "cell_type": "code",
   "execution_count": 31,
   "id": "caddebb2-733f-445f-987f-59e58b24c47c",
   "metadata": {},
   "outputs": [
    {
     "name": "stdout",
     "output_type": "stream",
     "text": [
      "{'int': 3, 'float': 3.14, 'string': 'Hello python!', 'bool': True, 'list': [5, 3.14, 'Hello python!', True]}\n",
      "<class 'dict'>\n"
     ]
    }
   ],
   "source": [
    "# 辞書型\n",
    "D = {\"int\": 3, \"float\": 3.14, \"string\": \"Hello python!\", \"bool\": (a < b), \"list\": [5, 3.14, \"Hello python!\", (a < b)]} \n",
    "# 波カッコとコロン，コンマ使う\n",
    "\n",
    "print(D)\n",
    "\n",
    "print(type(D))"
   ]
  },
  {
   "cell_type": "code",
   "execution_count": 33,
   "id": "fc92d99d-5812-49be-8324-9c4615e8e8aa",
   "metadata": {},
   "outputs": [
    {
     "name": "stdout",
     "output_type": "stream",
     "text": [
      "{True, 3.14, 'Hello python!', 5}\n",
      "{False, 'Hello world!', 3.14, 5}\n",
      "<class 'set'>\n",
      "<class 'set'>\n"
     ]
    }
   ],
   "source": [
    "# set型\n",
    "Se_1 = {5, 3.14, \"Hello python!\", (a < b)}\n",
    "Se_2 = {5, \"Hello world!\", (a == b), 3.14, 5} \n",
    "\n",
    "print(Se_1)\n",
    "print(Se_2)  # 重複した要素は無視して表示される．\n",
    "print(type(Se_1))\n",
    "print(type(Se_2))"
   ]
  },
  {
   "cell_type": "markdown",
   "id": "427c4366-96d6-4766-98e5-f2066ec3a08c",
   "metadata": {},
   "source": [
    "### 各データ型には固有の機能(メソッド)が備わっている．"
   ]
  },
  {
   "cell_type": "markdown",
   "id": "dd1d54f1-c461-43c2-9ac6-dd8553c1b715",
   "metadata": {},
   "source": [
    "### データ型の変換\n",
    "データ型を変換するための組み込み関数がいくつか用意されている．"
   ]
  },
  {
   "cell_type": "code",
   "execution_count": 43,
   "id": "635d0a01-409b-4f37-b599-81b274a0a09a",
   "metadata": {},
   "outputs": [
    {
     "name": "stdout",
     "output_type": "stream",
     "text": [
      "(5, 3.14, 'Hello python!', True)\n",
      "<class 'tuple'>\n",
      "[5, 3.14, 'Hello python!', True]\n",
      "<class 'list'>\n"
     ]
    }
   ],
   "source": [
    "# tuple型\n",
    "T = (5, 3.14, \"Hello python!\", (a < b))  \n",
    "\n",
    "# list関数listにで変換する\n",
    "changed_T = list(T)\n",
    "\n",
    "print(T)\n",
    "print(type(T))\n",
    "print(changed_T)\n",
    "print(type(changed_T))"
   ]
  },
  {
   "cell_type": "code",
   "execution_count": 37,
   "id": "48756308-2e39-4133-af34-04ed46cb3279",
   "metadata": {},
   "outputs": [
    {
     "name": "stdout",
     "output_type": "stream",
     "text": [
      "[5, 3.14, 'Hello python!', True]\n",
      "<class 'list'>\n",
      "(5, 3.14, 'Hello python!', True)\n",
      "<class 'tuple'>\n"
     ]
    }
   ],
   "source": [
    "# list型\n",
    "L = [5, 3.14, \"Hello python!\", (a < b)]\n",
    "\n",
    "# tuple関数でtupleに変換する\n",
    "changed_L = tuple(L)\n",
    "\n",
    "print(L)\n",
    "print(type(L))\n",
    "print(changed_L)\n",
    "print(type(changed_L))"
   ]
  },
  {
   "cell_type": "code",
   "execution_count": 45,
   "id": "19c67bd3-7db0-41e5-8159-ae90b6c127db",
   "metadata": {},
   "outputs": [
    {
     "name": "stdout",
     "output_type": "stream",
     "text": [
      "['H', 'e', 'l', 'l', 'o', ' ', 'p', 'y', 't', 'h', 'o', 'n', '!']\n"
     ]
    }
   ],
   "source": [
    "# String型\n",
    "St = \"Hello python!\" \n",
    "\n",
    "# list関数listにで変換する\n",
    "chaged_St = list(St)\n",
    "\n",
    "print(chaged_St)"
   ]
  },
  {
   "cell_type": "code",
   "execution_count": 49,
   "id": "a5d772f1-5bce-4a06-ae67-63873e146f2b",
   "metadata": {},
   "outputs": [
    {
     "name": "stdout",
     "output_type": "stream",
     "text": [
      "<class 'str'>\n",
      "<class 'int'>\n",
      "<class 'str'>\n",
      "<class 'int'>\n"
     ]
    }
   ],
   "source": [
    "# String型\n",
    "St_int = \"57\"\n",
    "St_float = \"3.14\"\n",
    "\n",
    "# int関数とfloat関数で文字列を整数や小数に変換できる．\n",
    "changed_St_int = int(St_int)\n",
    "changed_St_float = float(St_float)\n",
    "\n",
    "print(type(St_int))\n",
    "print(type(changed_St_int))\n",
    "print(type(St_int))\n",
    "print(type(changed_St_int))"
   ]
  },
  {
   "cell_type": "code",
   "execution_count": 51,
   "id": "b15694c6-583b-49ce-8478-ab68f2df7c65",
   "metadata": {},
   "outputs": [
    {
     "ename": "ValueError",
     "evalue": "invalid literal for int() with base 10: 'Hello python!'",
     "output_type": "error",
     "traceback": [
      "\u001b[0;31m---------------------------------------------------------------------------\u001b[0m",
      "\u001b[0;31mValueError\u001b[0m                                Traceback (most recent call last)",
      "Cell \u001b[0;32mIn[51], line 5\u001b[0m\n\u001b[1;32m      2\u001b[0m St \u001b[38;5;241m=\u001b[39m \u001b[38;5;124m\"\u001b[39m\u001b[38;5;124mHello python!\u001b[39m\u001b[38;5;124m\"\u001b[39m \u001b[38;5;66;03m# 文字列は\"もしくは'でくくる必要がある．\u001b[39;00m\n\u001b[1;32m      4\u001b[0m \u001b[38;5;66;03m# これはエラーになる\u001b[39;00m\n\u001b[0;32m----> 5\u001b[0m changed_St \u001b[38;5;241m=\u001b[39m \u001b[38;5;28mint\u001b[39m(St)\n",
      "\u001b[0;31mValueError\u001b[0m: invalid literal for int() with base 10: 'Hello python!'"
     ]
    }
   ],
   "source": [
    "# String型\n",
    "St = \"Hello python!\" # 文字列は\"もしくは'でくくる必要がある．\n",
    "\n",
    "# これはエラーになる\n",
    "changed_St = int(St)"
   ]
  },
  {
   "cell_type": "markdown",
   "id": "5cb5d634-edf8-4e80-92bf-472810037809",
   "metadata": {},
   "source": [
    "## Pythonの計算\n",
    "数値同士では四則演算ができる．\n",
    "文字列同士では複数の文字列の結合や繰り返しができる"
   ]
  },
  {
   "cell_type": "code",
   "execution_count": 293,
   "id": "c055c084-1509-4641-affd-9fb7adaf6ee1",
   "metadata": {},
   "outputs": [
    {
     "name": "stdout",
     "output_type": "stream",
     "text": [
      "3\n",
      "<class 'int'>\n",
      "3.0\n",
      "<class 'float'>\n"
     ]
    }
   ],
   "source": [
    "# 数値同士の足し算\n",
    "a = 1\n",
    "b = 2\n",
    "\n",
    "c = a + b\n",
    "\n",
    "print(c)\n",
    "print(type(c))\n",
    "\n",
    "# ついでにfloat関数のおさらい\n",
    "changed_c = float(c)\n",
    "\n",
    "print(changed_c)\n",
    "print(type(changed_c))"
   ]
  },
  {
   "cell_type": "code",
   "execution_count": 64,
   "id": "89b91064-5f20-4f02-bed0-0d22b6db71cb",
   "metadata": {},
   "outputs": [
    {
     "name": "stdout",
     "output_type": "stream",
     "text": [
      "Hello python!\n",
      "<class 'str'>\n"
     ]
    }
   ],
   "source": [
    "# 文字列同士の足し算\n",
    "St_1 = \"Hello \" \n",
    "St_2 = \"python!\" \n",
    "\n",
    "St = St_1 + St_2\n",
    "print(St)\n",
    "print(type(St))"
   ]
  },
  {
   "cell_type": "markdown",
   "id": "a0084e62-6b73-4d97-aa46-ed7933b04641",
   "metadata": {},
   "source": [
    "Pythonでは異なるデータ型の計算はできない．"
   ]
  },
  {
   "cell_type": "code",
   "execution_count": 75,
   "id": "e6141d73-b05d-4d81-b39e-7b2b18278ed8",
   "metadata": {},
   "outputs": [
    {
     "name": "stdout",
     "output_type": "stream",
     "text": [
      "<class 'int'>\n",
      "<class 'str'>\n"
     ]
    },
    {
     "ename": "TypeError",
     "evalue": "unsupported operand type(s) for +: 'int' and 'str'",
     "output_type": "error",
     "traceback": [
      "\u001b[0;31m---------------------------------------------------------------------------\u001b[0m",
      "\u001b[0;31mTypeError\u001b[0m                                 Traceback (most recent call last)",
      "Cell \u001b[0;32mIn[75], line 8\u001b[0m\n\u001b[1;32m      5\u001b[0m \u001b[38;5;28mprint\u001b[39m(\u001b[38;5;28mtype\u001b[39m(St_1))\n\u001b[1;32m      7\u001b[0m \u001b[38;5;66;03m# これはエラーになる\u001b[39;00m\n\u001b[0;32m----> 8\u001b[0m a_merged_St_1 \u001b[38;5;241m=\u001b[39m a \u001b[38;5;241m+\u001b[39m St_1\n",
      "\u001b[0;31mTypeError\u001b[0m: unsupported operand type(s) for +: 'int' and 'str'"
     ]
    }
   ],
   "source": [
    "a = 1\n",
    "print(type(a))\n",
    "\n",
    "St_1 = \"Hello \"\n",
    "print(type(St_1))\n",
    "\n",
    "# これはエラーになる\n",
    "a_merged_St_1 = a + St_1"
   ]
  },
  {
   "cell_type": "code",
   "execution_count": 79,
   "id": "f15efe5c-0de6-4ebc-ba7e-aecf95d55a30",
   "metadata": {},
   "outputs": [
    {
     "name": "stdout",
     "output_type": "stream",
     "text": [
      "<class 'int'>\n",
      "<class 'str'>\n"
     ]
    }
   ],
   "source": [
    "# 組み込み関数を使ってデータ型を変換するとエラーは回避できる\n",
    "a = 1\n",
    "print(type(a))\n",
    "\n",
    "St_1 = \"Hello \"\n",
    "print(type(St_1))\n",
    "\n",
    "# これはエラーにならない\n",
    "a_merged_St_1 = str(a) + St_1"
   ]
  },
  {
   "cell_type": "markdown",
   "id": "ea2ce2cc-577a-4e89-ab23-fe56845115e7",
   "metadata": {},
   "source": [
    "参考：以上はキノコードさん([[ブログ](https://kino-code.com/)・[You Tube](https://youtube.com/@kinocode?si=B4f5QLuWVA9U65uI]))のYou Tube動画を見て勉強した内容をまとめたものです．"
   ]
  },
  {
   "cell_type": "code",
   "execution_count": null,
   "id": "de9f8f7b-a2d0-4ce7-a997-3071314dee62",
   "metadata": {},
   "outputs": [],
   "source": []
  }
 ],
 "metadata": {
  "kernelspec": {
   "display_name": "Python 3 (ipykernel)",
   "language": "python",
   "name": "python3"
  },
  "language_info": {
   "codemirror_mode": {
    "name": "ipython",
    "version": 3
   },
   "file_extension": ".py",
   "mimetype": "text/x-python",
   "name": "python",
   "nbconvert_exporter": "python",
   "pygments_lexer": "ipython3",
   "version": "3.11.9"
  }
 },
 "nbformat": 4,
 "nbformat_minor": 5
}
