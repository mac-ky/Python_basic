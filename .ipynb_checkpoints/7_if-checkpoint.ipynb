{
 "cells": [
  {
   "cell_type": "markdown",
   "id": "7f038973-db7f-4afa-9116-a7c9772d0d46",
   "metadata": {},
   "source": [
    "# 条件分岐\n",
    "条件に応じて処理を変える"
   ]
  },
  {
   "cell_type": "markdown",
   "id": "5d56b03b-cb3b-46d9-a40d-bcdd9603e9f7",
   "metadata": {},
   "source": [
    "## if文\n",
    "条件を満たすときのみ処理を実行する．"
   ]
  },
  {
   "cell_type": "code",
   "execution_count": 36,
   "id": "d31b6c30-4313-4da1-b8a1-5e91aafcfeef",
   "metadata": {},
   "outputs": [
    {
     "name": "stdout",
     "output_type": "stream",
     "text": [
      "あるとき〜\n"
     ]
    }
   ],
   "source": [
    "dinner = 551\n",
    "\n",
    "if dinner == 551:\n",
    "    print('あるとき〜')  # 551の蓬莱があるとき〜\n"
   ]
  },
  {
   "cell_type": "code",
   "execution_count": 38,
   "id": "08669a93-4479-4d9a-88ea-6839e08606b3",
   "metadata": {},
   "outputs": [],
   "source": [
    "dinner = \"sushiro-\"\n",
    "\n",
    "if dinner == 551:\n",
    "    print('あるとき〜')  # 551の蓬莱があるとき〜\n"
   ]
  },
  {
   "cell_type": "markdown",
   "id": "12c0ba1d-ad60-4a1c-9e93-b0c3f8585ddf",
   "metadata": {},
   "source": [
    "## if-else文\n",
    "条件を満たさないときも処理を実行する．"
   ]
  },
  {
   "cell_type": "code",
   "execution_count": 34,
   "id": "c65e2409-2871-472b-b840-191f0ed8d6b2",
   "metadata": {},
   "outputs": [
    {
     "name": "stdout",
     "output_type": "stream",
     "text": [
      "あるとき〜\n"
     ]
    }
   ],
   "source": [
    "dinner = 551\n",
    "\n",
    "if dinner == 551:\n",
    "    print('あるとき〜')  # 551の蓬莱があるとき〜\n",
    "\n",
    "else:\n",
    "    print('ないとき...')  # 551の蓬莱がないとき..."
   ]
  },
  {
   "cell_type": "code",
   "execution_count": 32,
   "id": "0d561e2c-1c9c-403d-a0bf-df4d54a3a815",
   "metadata": {},
   "outputs": [
    {
     "name": "stdout",
     "output_type": "stream",
     "text": [
      "ないとき...\n"
     ]
    }
   ],
   "source": [
    "dinner = \"sushiro-\"\n",
    "\n",
    "if dinner == 551:\n",
    "    print('あるとき〜')  # 551の蓬莱があるとき〜\n",
    "\n",
    "else:\n",
    "    print('ないとき...')  # 551の蓬莱がないとき..."
   ]
  },
  {
   "cell_type": "markdown",
   "id": "81f7e9af-6c54-46ed-b2c7-c4fabfa2ee74",
   "metadata": {},
   "source": [
    "passを用いると何も処理をしないことを明示することができる．"
   ]
  },
  {
   "cell_type": "code",
   "execution_count": 58,
   "id": "ee03ef8f-e0ba-469b-96c1-8d8b8e7c29e1",
   "metadata": {},
   "outputs": [],
   "source": [
    "dinner = \"sushiro-\"\n",
    "\n",
    "if dinner == 551:\n",
    "    print('あるとき〜')  # 551の蓬莱があるとき〜\n",
    "\n",
    "else:\n",
    "    pass  # 何もしない"
   ]
  },
  {
   "cell_type": "markdown",
   "id": "8347a489-8401-4c35-9d7d-585902f28f46",
   "metadata": {},
   "source": [
    "## if-elif-else文\n",
    "条件Aを満たしていないときに，さらに条件Bを満たしているかを処理の実行過程に組み込むことができる．"
   ]
  },
  {
   "cell_type": "code",
   "execution_count": 40,
   "id": "190f89dd-f20a-4984-9a9c-36f93d3fc702",
   "metadata": {},
   "outputs": [
    {
     "name": "stdout",
     "output_type": "stream",
     "text": [
      "adult\n"
     ]
    }
   ],
   "source": [
    "age = 50\n",
    "\n",
    "if age <= 20:\n",
    "    print(\"child\")\n",
    "elif age >= 65:\n",
    "    print(\"elderly\")\n",
    "else:\n",
    "    print(\"adult\")"
   ]
  },
  {
   "cell_type": "markdown",
   "id": "03e7c081-3e4d-45fc-8c57-50410e97d97b",
   "metadata": {},
   "source": [
    "## match文\n",
    "Python3.10から導入されており，if文と同様に条件分岐ができる．"
   ]
  },
  {
   "cell_type": "code",
   "execution_count": 43,
   "id": "f894e282-dc32-4e71-965b-57756f4ff372",
   "metadata": {},
   "outputs": [
    {
     "name": "stdout",
     "output_type": "stream",
     "text": [
      "大阪府\n"
     ]
    }
   ],
   "source": [
    "# if文で記述した場合\n",
    "pref = \"Osaka\"\n",
    "\n",
    "if pref == \"Hokkaido\":\n",
    "    print(\"北海道\")\n",
    "elif pref == \"Tokyo\":\n",
    "    print(\"東京都\")\n",
    "elif pref == \"Kyoto\":\n",
    "    print(\"京都府\")\n",
    "elif pref == \"Osaka\":\n",
    "    print(\"大阪府\")\n",
    "else:\n",
    "    print(\"〜〜県\")"
   ]
  },
  {
   "cell_type": "code",
   "execution_count": 48,
   "id": "b8d73e26-c98b-42bb-bdd3-0cb6440e8a53",
   "metadata": {},
   "outputs": [
    {
     "name": "stdout",
     "output_type": "stream",
     "text": [
      "大阪府\n"
     ]
    }
   ],
   "source": [
    "# match文で記述した場合\n",
    "pref = \"Osaka\"\n",
    "\n",
    "match pref:\n",
    "    case \"Hokkaido\":\n",
    "        print(\"北海道\")\n",
    "    case \"Tokyo\":\n",
    "        print(\"東京都\")\n",
    "    case \"Kyoto\":\n",
    "        print(\"京都府\")\n",
    "    case  \"Osaka\":\n",
    "        print(\"大阪府\")\n",
    "    case _:\n",
    "        print(\"〜〜県\")"
   ]
  },
  {
   "cell_type": "markdown",
   "id": "e736901b-9c6b-4fd1-8250-80a34cfe6856",
   "metadata": {},
   "source": [
    "## 三項演算子\n",
    "条件分岐を開業せずに1行で書く．"
   ]
  },
  {
   "cell_type": "code",
   "execution_count": null,
   "id": "2be33480-7315-48a3-ba6b-1dd5a6fac1f2",
   "metadata": {},
   "outputs": [],
   "source": [
    "# if文で書く\n",
    "dinner = 551\n",
    "\n",
    "if dinner == 551:\n",
    "    print('あるとき〜')  # 551の蓬莱があるとき〜\n",
    "\n",
    "else:\n",
    "    print('ないとき...')  # 551の蓬莱がないとき..."
   ]
  },
  {
   "cell_type": "code",
   "execution_count": 61,
   "id": "79213911-2785-4015-8887-8348be77bce9",
   "metadata": {},
   "outputs": [
    {
     "name": "stdout",
     "output_type": "stream",
     "text": [
      "あるとき〜\n"
     ]
    }
   ],
   "source": [
    "# 三項演算子を用いる\n",
    "dinner = 551\n",
    "\n",
    "print(\"あるとき〜\" if dinner == 551 else \"ないとき...\")"
   ]
  },
  {
   "cell_type": "markdown",
   "id": "8653e80b-5d69-4789-a12e-4c65526c1c44",
   "metadata": {},
   "source": [
    "参考：以上はキノコードさん([[ブログ](https://kino-code.com/)・[You Tube](https://youtube.com/@kinocode?si=B4f5QLuWVA9U65uI]))のYou Tube動画を見て勉強した内容をまとめたものです．"
   ]
  },
  {
   "cell_type": "code",
   "execution_count": null,
   "id": "cf4fd5f5-5740-4c21-bee9-3ccaf285501e",
   "metadata": {},
   "outputs": [],
   "source": []
  }
 ],
 "metadata": {
  "kernelspec": {
   "display_name": "Python 3 (ipykernel)",
   "language": "python",
   "name": "python3"
  },
  "language_info": {
   "codemirror_mode": {
    "name": "ipython",
    "version": 3
   },
   "file_extension": ".py",
   "mimetype": "text/x-python",
   "name": "python",
   "nbconvert_exporter": "python",
   "pygments_lexer": "ipython3",
   "version": "3.11.9"
  }
 },
 "nbformat": 4,
 "nbformat_minor": 5
}
