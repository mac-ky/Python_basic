{
 "cells": [
  {
   "cell_type": "markdown",
   "id": "4aae1c22-aad4-463f-a2ab-910e5399580b",
   "metadata": {},
   "source": [
    "# 繰り返し\n",
    "決まった回数や条件を満たしていれば，同じ処理を実行する．"
   ]
  },
  {
   "cell_type": "markdown",
   "id": "955a1873-8c04-48f8-ac4b-4738752a2c3a",
   "metadata": {},
   "source": [
    "## for文\n",
    "条件を満たしていれば同じ処理を繰り返す．カウンタ変数(\"i\"が多い)で制御する．"
   ]
  },
  {
   "cell_type": "code",
   "execution_count": 17,
   "id": "3b2d89f9-ce36-41bb-a5ae-d56da96b18d8",
   "metadata": {},
   "outputs": [
    {
     "name": "stdout",
     "output_type": "stream",
     "text": [
      "0\n",
      "1\n",
      "2\n",
      "3\n",
      "4\n",
      "5\n"
     ]
    }
   ],
   "source": [
    "for i in [0,1,2,3,4,5]:\n",
    "    print(i)"
   ]
  },
  {
   "cell_type": "code",
   "execution_count": 19,
   "id": "84daa764-34b1-4ef0-9e93-1cecb1a23452",
   "metadata": {},
   "outputs": [
    {
     "name": "stdout",
     "output_type": "stream",
     "text": [
      "0\n",
      "1\n",
      "2\n",
      "3\n",
      "4\n",
      "5\n"
     ]
    }
   ],
   "source": [
    "for i in range(6):\n",
    "    print(i)"
   ]
  },
  {
   "cell_type": "markdown",
   "id": "2e091d05-121a-47bc-86df-50fd4a29bf44",
   "metadata": {},
   "source": [
    "## break\n",
    "ある条件にあてはまったとき，繰り返し処理を終了させる"
   ]
  },
  {
   "cell_type": "code",
   "execution_count": 24,
   "id": "c521d813-d9ce-4d77-bd2c-9cc4cb20f46f",
   "metadata": {},
   "outputs": [
    {
     "name": "stdout",
     "output_type": "stream",
     "text": [
      "0\n",
      "1\n",
      "2\n",
      "3\n"
     ]
    }
   ],
   "source": [
    "for i in range(6):\n",
    "    if i == 4:\n",
    "        break  # iが4になったら処理を終了させる\n",
    "    print(i)"
   ]
  },
  {
   "cell_type": "markdown",
   "id": "74408d51-72e6-426b-9a41-b92a9f69efc0",
   "metadata": {},
   "source": [
    "## continue\n",
    "ある条件にあてはまったとき，処理をスキップさせる．"
   ]
  },
  {
   "cell_type": "code",
   "execution_count": 27,
   "id": "06962873-8a2a-4452-a812-9bca17b56836",
   "metadata": {},
   "outputs": [
    {
     "name": "stdout",
     "output_type": "stream",
     "text": [
      "0\n",
      "1\n",
      "2\n",
      "3\n",
      "5\n"
     ]
    }
   ],
   "source": [
    "for i in range(6):\n",
    "    if i == 4:\n",
    "        continue  # iが4になったら処理をスキップ\n",
    "    print(i)"
   ]
  },
  {
   "cell_type": "markdown",
   "id": "39958148-6326-40d1-9da7-ff4041930605",
   "metadata": {},
   "source": [
    "## for文のネスト\n",
    "for文の中にfor文を入れる．"
   ]
  },
  {
   "cell_type": "code",
   "execution_count": 32,
   "id": "72b4d9bf-2951-48e4-a1d5-bad23967c9c1",
   "metadata": {},
   "outputs": [
    {
     "name": "stdout",
     "output_type": "stream",
     "text": [
      "0-0\n",
      "0-1\n",
      "0-2\n",
      "1-0\n",
      "1-1\n",
      "1-2\n",
      "2-0\n",
      "2-1\n",
      "2-2\n",
      "3-0\n",
      "3-1\n",
      "3-2\n"
     ]
    }
   ],
   "source": [
    "for i in range(4): \n",
    "    for j in range(3):\n",
    "        print(i,j ,sep=\"-\")\n"
   ]
  },
  {
   "cell_type": "markdown",
   "id": "70935be9-f887-4d27-895c-5c358e47e153",
   "metadata": {},
   "source": [
    "## while文\n",
    "処理を繰り返す条件を書き，条件を満たしている間処理を繰り返す．条件は決まっているが，繰り返す仮数が不明なときに有効．"
   ]
  },
  {
   "cell_type": "code",
   "execution_count": 38,
   "id": "85d08ca9-ee8b-4fe8-91ae-c2998d324673",
   "metadata": {},
   "outputs": [
    {
     "name": "stdout",
     "output_type": "stream",
     "text": [
      "0\n",
      "1\n",
      "2\n",
      "3\n",
      "4\n",
      "5\n"
     ]
    }
   ],
   "source": [
    "i = 0\n",
    "\n",
    "while i < 6:\n",
    "    print(i)\n",
    "    i += 1"
   ]
  },
  {
   "cell_type": "code",
   "execution_count": 40,
   "id": "a58a91ee-7289-477c-9fa1-acedc91ae634",
   "metadata": {},
   "outputs": [
    {
     "name": "stdout",
     "output_type": "stream",
     "text": [
      "1\n",
      "3\n",
      "9\n",
      "27\n",
      "81\n",
      "243\n",
      "しゅーりょー\n"
     ]
    }
   ],
   "source": [
    "i = 1\n",
    "\n",
    "while i < 500:\n",
    "    print(i)\n",
    "    i *= 3\n",
    "print(\"しゅーりょー\")"
   ]
  },
  {
   "cell_type": "markdown",
   "id": "47b40bdc-dc3f-424e-bc2c-79faa4ddfdb6",
   "metadata": {},
   "source": [
    "## 練習問題"
   ]
  },
  {
   "cell_type": "markdown",
   "id": "c7b45702-6221-4a85-b0d8-c7824338f034",
   "metadata": {},
   "source": [
    "### 数列の表示と和\n",
    "フィボナッチ数列の初稿から第5項までを表示し，その和も計算"
   ]
  },
  {
   "cell_type": "code",
   "execution_count": 44,
   "id": "4a9aa8db-bfec-4d5c-ae4d-a419e2dc1c92",
   "metadata": {},
   "outputs": [
    {
     "name": "stdout",
     "output_type": "stream",
     "text": [
      "フィボナッチ数列の第5項まで: [0, 1, 1, 2, 3]\n",
      "その和: 7\n"
     ]
    }
   ],
   "source": [
    "n = 5\n",
    "L_fibo = []\n",
    "\n",
    "# フィボナッチ数列を求める\n",
    "if n == 1:\n",
    "    L_fibo = [0]\n",
    "elif n == 2:\n",
    "    L_fibo = [0, 1]\n",
    "else:\n",
    "    L_fibo = [0, 1]\n",
    "    while len(L_fibo) < n:\n",
    "        next_value = L_fibo[-1] + L_fibo[-2]\n",
    "        L_fibo.append(next_value)\n",
    "\n",
    "# 数列と和を表示\n",
    "print(f\"フィボナッチ数列の第{n}項まで: {L_fibo}\")\n",
    "print(f\"その和: {sum(L_fibo)}\")\n"
   ]
  },
  {
   "cell_type": "markdown",
   "id": "173bb417-ec30-4509-9488-d6dd767a492f",
   "metadata": {},
   "source": [
    "### 素数の判定\n",
    "変数numに入力した値が素数かどうかを判定"
   ]
  },
  {
   "cell_type": "code",
   "execution_count": 55,
   "id": "a11227e1-28f0-4296-b785-6adba42e50d3",
   "metadata": {},
   "outputs": [
    {
     "name": "stdout",
     "output_type": "stream",
     "text": [
      "7は素数です\n"
     ]
    }
   ],
   "source": [
    "num = 7\n",
    "\n",
    "# 2以上の自然数でなければ素数ではない\n",
    "if num < 2:\n",
    "    print(f\"{num}は素数ではありません\")\n",
    "else:\n",
    "    # 2からnumの平方根までの範囲で割り切れるかを確認\n",
    "    for i in range(2, int(num**0.5) + 1):\n",
    "        if num % i == 0:\n",
    "            print(f\"{num}は素数ではありません\")\n",
    "            break\n",
    "    else:\n",
    "        print(f\"{num}は素数です\")\n"
   ]
  },
  {
   "cell_type": "markdown",
   "id": "de740e5c-29cd-41e1-b63d-1c823cea82e0",
   "metadata": {},
   "source": [
    "参考：以上はキノコードさん([[ブログ](https://kino-code.com/)・[You Tube](https://youtube.com/@kinocode?si=B4f5QLuWVA9U65uI]))のYou Tube動画を見て勉強した内容をまとめたものです．"
   ]
  },
  {
   "cell_type": "code",
   "execution_count": null,
   "id": "884c49ec-c7c1-4a3a-8488-0665704f337a",
   "metadata": {},
   "outputs": [],
   "source": []
  }
 ],
 "metadata": {
  "kernelspec": {
   "display_name": "Python 3 (ipykernel)",
   "language": "python",
   "name": "python3"
  },
  "language_info": {
   "codemirror_mode": {
    "name": "ipython",
    "version": 3
   },
   "file_extension": ".py",
   "mimetype": "text/x-python",
   "name": "python",
   "nbconvert_exporter": "python",
   "pygments_lexer": "ipython3",
   "version": "3.11.9"
  }
 },
 "nbformat": 4,
 "nbformat_minor": 5
}
