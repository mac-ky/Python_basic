{
 "cells": [
  {
   "cell_type": "markdown",
   "id": "777db064-76a6-4cc5-b086-badaea569f3a",
   "metadata": {},
   "source": [
    "# 辞書型\n",
    "複数の要素をもつデータ型で，要素の変更や削除が可能である．keyとvalueの組み合わせでデータが格納されている．"
   ]
  },
  {
   "cell_type": "markdown",
   "id": "0283ca1d-feec-4a7a-b5a7-43b05a13748b",
   "metadata": {},
   "source": [
    "## 辞書の作り方\n",
    "波括弧とコンマ，コロンで記述する．"
   ]
  },
  {
   "cell_type": "code",
   "execution_count": 5,
   "id": "819ab116-9e93-4c21-be9d-56c6633fd706",
   "metadata": {},
   "outputs": [
    {
     "name": "stdout",
     "output_type": "stream",
     "text": [
      "{'佐々木': 23, '田中': 54, '中川': 31}\n",
      "<class 'dict'>\n"
     ]
    }
   ],
   "source": [
    "D_age = {'佐々木':23, '田中':54, '中川':31}\n",
    "\n",
    "print(D_age)\n",
    "\n",
    "print(type(D_age))"
   ]
  },
  {
   "cell_type": "markdown",
   "id": "17af8ae6-f133-4078-9ef6-3b0c72d3aa01",
   "metadata": {},
   "source": [
    "dict関数で作成することもできる．"
   ]
  },
  {
   "cell_type": "code",
   "execution_count": 8,
   "id": "a87a2dbf-7b3b-4b6f-807a-59e4d9562432",
   "metadata": {},
   "outputs": [
    {
     "name": "stdout",
     "output_type": "stream",
     "text": [
      "{'佐々木': 23, '田中': 54, '中川': 31}\n",
      "<class 'dict'>\n"
     ]
    }
   ],
   "source": [
    "d_age =dict(佐々木=23, 田中=54, 中川=31)\n",
    "\n",
    "print(D_age)\n",
    "\n",
    "print(type(D_age))"
   ]
  },
  {
   "cell_type": "markdown",
   "id": "b163d18d-6441-4e89-8baf-b0595fee051e",
   "metadata": {},
   "source": [
    "keyとvallueをリストでセットにして，dict関数に渡してもよい．"
   ]
  },
  {
   "cell_type": "code",
   "execution_count": 12,
   "id": "38591d38-36ef-4c99-86ce-4544fb3e64eb",
   "metadata": {},
   "outputs": [
    {
     "name": "stdout",
     "output_type": "stream",
     "text": [
      "{'佐々木': 23, '田中': 54, '中川': 31}\n",
      "<class 'dict'>\n"
     ]
    }
   ],
   "source": [
    "D_age = dict([['佐々木', 23],['田中', 54], ['中川', 31]])\n",
    "\n",
    "print(D_age)\n",
    "\n",
    "print(type(D_age))"
   ]
  },
  {
   "cell_type": "markdown",
   "id": "bef9341d-6fde-4010-9468-55c3c4c1a66e",
   "metadata": {},
   "source": [
    "## keyのルール\n",
    "keyはvalueに対して一意なものである．"
   ]
  },
  {
   "cell_type": "code",
   "execution_count": 16,
   "id": "6b65aa02-bc0e-484b-a161-43e0991501b1",
   "metadata": {},
   "outputs": [
    {
     "name": "stdout",
     "output_type": "stream",
     "text": [
      "{'佐々木': 23, '田中': 46, '中川': 31}\n",
      "<class 'dict'>\n"
     ]
    }
   ],
   "source": [
    "# 複数のvalueに対して一つのkeyを指定しようとすると，上書きされてしまう．\n",
    "D_age = {'佐々木':23, '田中':54, '中川':31, '田中': 46}\n",
    "\n",
    "print(D_age)\n",
    "\n",
    "print(type(D_age))"
   ]
  },
  {
   "cell_type": "markdown",
   "id": "15f21437-b182-454b-974e-fb7e62ef92ce",
   "metadata": {},
   "source": [
    "## 辞書のメソッド・関数・演算子\n",
    "keysメソッドとvaluesメソッドでkeyとvalueの一覧を取得できる．"
   ]
  },
  {
   "cell_type": "code",
   "execution_count": 22,
   "id": "fcc266a7-6660-4894-b7fd-677ed12e5a25",
   "metadata": {},
   "outputs": [
    {
     "name": "stdout",
     "output_type": "stream",
     "text": [
      "dict_keys(['佐々木', '田中', '中川'])\n",
      "dict_values([23, 54, 31])\n"
     ]
    }
   ],
   "source": [
    "D_age = {'佐々木':23, '田中':54, '中川':31}\n",
    "\n",
    "print(D_age.keys())\n",
    "print(D_age.values())\n"
   ]
  },
  {
   "cell_type": "markdown",
   "id": "b37fa08c-7563-4804-ba2d-cb874ad91a29",
   "metadata": {},
   "source": [
    "辞書にはインデックスの考え方がないので，個別のvalueを取得するにはkeyを指定する．"
   ]
  },
  {
   "cell_type": "code",
   "execution_count": 34,
   "id": "60d4c462-892a-4690-9b0b-d1f2111f67d9",
   "metadata": {},
   "outputs": [
    {
     "name": "stdout",
     "output_type": "stream",
     "text": [
      "54\n"
     ]
    }
   ],
   "source": [
    "D_age = {'佐々木':23, '田中':54, '中川':31}\n",
    "\n",
    "print(D_age['田中'])"
   ]
  },
  {
   "cell_type": "markdown",
   "id": "82503fff-9627-4982-a313-0cf048cb4c9a",
   "metadata": {},
   "source": [
    "辞書の要素の変更"
   ]
  },
  {
   "cell_type": "code",
   "execution_count": 36,
   "id": "6fa2eb77-e65b-42bc-84ad-7a58fe30b7d6",
   "metadata": {},
   "outputs": [
    {
     "name": "stdout",
     "output_type": "stream",
     "text": [
      "{'佐々木': 23, '田中': 56, '中川': 31}\n"
     ]
    }
   ],
   "source": [
    "D_age = {'佐々木':23, '田中':54, '中川':31}\n",
    "\n",
    "# 要素の変更においてもkeyの指定で行う．\n",
    "D_age['田中'] = 56\n",
    "\n",
    "print(D_age)"
   ]
  },
  {
   "cell_type": "markdown",
   "id": "955ceffb-eb56-4b79-b2c6-3b8a21bd4be8",
   "metadata": {},
   "source": [
    "辞書の要素の追加"
   ]
  },
  {
   "cell_type": "code",
   "execution_count": 38,
   "id": "fe147c57-82a1-41ac-9ea8-fd5bf3b3f44a",
   "metadata": {},
   "outputs": [
    {
     "name": "stdout",
     "output_type": "stream",
     "text": [
      "{'佐々木': 23, '田中': 54, '中川': 31, '前田': 18}\n"
     ]
    }
   ],
   "source": [
    "D_age = {'佐々木':23, '田中':54, '中川':31}\n",
    "\n",
    "D_age['前田'] = 18\n",
    "\n",
    "print(D_age)"
   ]
  },
  {
   "cell_type": "markdown",
   "id": "08dc04b4-8c57-4a6d-8f94-bbe1cdd2987b",
   "metadata": {},
   "source": [
    "updateメソッドで辞書同士での辞書の更新や追加ができる．"
   ]
  },
  {
   "cell_type": "code",
   "execution_count": 43,
   "id": "458f88d6-48c2-45bf-a286-e57cb920a3b0",
   "metadata": {},
   "outputs": [
    {
     "name": "stdout",
     "output_type": "stream",
     "text": [
      "{'佐々木': 23, '田中': 54, '中川': 31, '前田': 18, '鈴木': 37}\n"
     ]
    }
   ],
   "source": [
    "D_age1 = {'佐々木':23, '田中':54, '中川':31}\n",
    "D_age2 = {'前田':18, '鈴木':37}\n",
    "\n",
    "D_age1.update(D_age2)\n",
    "print(D_age1)"
   ]
  },
  {
   "cell_type": "markdown",
   "id": "ec4c230a-5db4-4a9e-84b5-ed441d7183bc",
   "metadata": {},
   "source": [
    "del文で辞書の要素を削除できる．"
   ]
  },
  {
   "cell_type": "code",
   "execution_count": 46,
   "id": "aecd159f-0214-4675-838b-0a842a94525a",
   "metadata": {},
   "outputs": [
    {
     "name": "stdout",
     "output_type": "stream",
     "text": [
      "{'佐々木': 23, '中川': 31}\n"
     ]
    }
   ],
   "source": [
    "D_age = {'佐々木':23, '田中':54, '中川':31}\n",
    "\n",
    "del D_age['田中']\n",
    "\n",
    "print(D_age)"
   ]
  },
  {
   "cell_type": "markdown",
   "id": "9468a785-feba-4354-ae66-eb8943f51f80",
   "metadata": {},
   "source": [
    "popメソッドでも削除が可能"
   ]
  },
  {
   "cell_type": "code",
   "execution_count": 51,
   "id": "9bc327bc-ec2b-44af-9f78-70d96bfdcc6b",
   "metadata": {},
   "outputs": [
    {
     "name": "stdout",
     "output_type": "stream",
     "text": [
      "{'佐々木': 23, '中川': 31}\n"
     ]
    }
   ],
   "source": [
    "D_age = {'佐々木':23, '田中':54, '中川':31}\n",
    "\n",
    "D_age.pop('田中')\n",
    "\n",
    "print(D_age)"
   ]
  },
  {
   "cell_type": "markdown",
   "id": "8206b33d-fa4b-42e2-9c43-06e8d324c88f",
   "metadata": {},
   "source": [
    "clearメソッドで辞書の要素を全て削除することができる．"
   ]
  },
  {
   "cell_type": "code",
   "execution_count": 56,
   "id": "78a5ae4b-6c70-4ebb-a60d-05d31eb85483",
   "metadata": {},
   "outputs": [
    {
     "name": "stdout",
     "output_type": "stream",
     "text": [
      "{}\n"
     ]
    }
   ],
   "source": [
    "D_age = {'佐々木':23, '田中':54, '中川':31}\n",
    "\n",
    "D_age.clear()\n",
    "\n",
    "print(D_age)"
   ]
  },
  {
   "cell_type": "markdown",
   "id": "4296acf0-b684-49d5-b162-8342c18737ac",
   "metadata": {},
   "source": [
    "in演算子でリストの中に指定した要素が含まれているかを判定する．"
   ]
  },
  {
   "cell_type": "code",
   "execution_count": 59,
   "id": "c089aa43-d96b-4c01-80d7-e5333f84454b",
   "metadata": {},
   "outputs": [
    {
     "name": "stdout",
     "output_type": "stream",
     "text": [
      "True\n",
      "False\n"
     ]
    }
   ],
   "source": [
    "D_age = {'佐々木':23, '田中':54, '中川':31}\n",
    "\n",
    "print('佐々木' in D_age)  # True\n",
    "print('前田' in D_age)  # False"
   ]
  },
  {
   "cell_type": "markdown",
   "id": "49377d79-2c20-46a4-a62a-fc0d38496400",
   "metadata": {},
   "source": [
    "参考：以上はキノコードさん([[ブログ](https://kino-code.com/)・[You Tube](https://youtube.com/@kinocode?si=B4f5QLuWVA9U65uI]))のYou Tube動画を見て勉強した内容をまとめたものです．"
   ]
  },
  {
   "cell_type": "code",
   "execution_count": null,
   "id": "7502527e-c691-4828-ba39-1bc178a6390e",
   "metadata": {},
   "outputs": [],
   "source": []
  }
 ],
 "metadata": {
  "kernelspec": {
   "display_name": "Python 3 (ipykernel)",
   "language": "python",
   "name": "python3"
  },
  "language_info": {
   "codemirror_mode": {
    "name": "ipython",
    "version": 3
   },
   "file_extension": ".py",
   "mimetype": "text/x-python",
   "name": "python",
   "nbconvert_exporter": "python",
   "pygments_lexer": "ipython3",
   "version": "3.11.9"
  }
 },
 "nbformat": 4,
 "nbformat_minor": 5
}
