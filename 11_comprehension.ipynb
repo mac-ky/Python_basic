{
 "cells": [
  {
   "cell_type": "markdown",
   "id": "b1d97727-e806-4ffd-b8c0-71cfb56c2346",
   "metadata": {},
   "source": [
    "# 内包表記\n",
    "一定のルールに従った要素を持つリストなどを作成するための簡潔な記述方法"
   ]
  },
  {
   "cell_type": "markdown",
   "id": "ff8468a6-7d13-4053-804f-0c7d280d039f",
   "metadata": {},
   "source": [
    "## リスト内包表記"
   ]
  },
  {
   "cell_type": "code",
   "execution_count": 23,
   "id": "e69f12e2-aea2-40f5-a81d-79f332b3cf04",
   "metadata": {},
   "outputs": [
    {
     "name": "stdout",
     "output_type": "stream",
     "text": [
      "[0, 1, 2, 3, 4, 5]\n"
     ]
    }
   ],
   "source": [
    "# for文で書く場合\n",
    "L1 = []\n",
    "for i in range(6):\n",
    "    L1.append(i)\n",
    "print(L1)"
   ]
  },
  {
   "cell_type": "code",
   "execution_count": 27,
   "id": "d06c0920-2cec-43b7-ae9d-bc9dc07b0595",
   "metadata": {},
   "outputs": [
    {
     "name": "stdout",
     "output_type": "stream",
     "text": [
      "[0, 1, 2, 3, 4, 5]\n"
     ]
    }
   ],
   "source": [
    "# 内包表記で書く場合\n",
    "L2 = [i for i in range (6)]\n",
    "\n",
    "print(L2)"
   ]
  },
  {
   "cell_type": "code",
   "execution_count": 31,
   "id": "1c0d24c8-850b-49ec-a180-b7a33089d353",
   "metadata": {},
   "outputs": [
    {
     "name": "stdout",
     "output_type": "stream",
     "text": [
      "[121, 144, 169, 196, 225]\n"
     ]
    }
   ],
   "source": [
    "# カウンタ変数の部分を計算式にすることもできる．\n",
    "L3 = [i ** 2 for i in range(11,16,1)] # 11から15まで1ずつ増やした値をiに入れていく\n",
    "\n",
    "print(L3)"
   ]
  },
  {
   "cell_type": "markdown",
   "id": "98e3c1d0-9583-4cc7-8f8b-0bdf04b674d7",
   "metadata": {},
   "source": [
    "## 集合内包表記"
   ]
  },
  {
   "cell_type": "code",
   "execution_count": 41,
   "id": "fba52016-fdb7-4d2d-a791-0a91f13e2401",
   "metadata": {},
   "outputs": [
    {
     "name": "stdout",
     "output_type": "stream",
     "text": [
      "{0, 1, 2, 3, 4, 5}\n"
     ]
    }
   ],
   "source": [
    "# for文で書く場合\n",
    "Se1 = set()\n",
    "for i in range(6):\n",
    "    Se1.add(i)\n",
    "print(Se1)"
   ]
  },
  {
   "cell_type": "code",
   "execution_count": 45,
   "id": "5ad37d5b-d776-44e2-9840-1121f8c9e132",
   "metadata": {},
   "outputs": [
    {
     "name": "stdout",
     "output_type": "stream",
     "text": [
      "{0, 1, 2, 3, 4, 5}\n"
     ]
    }
   ],
   "source": [
    "# 内包表記で書く場合\n",
    "Se2 = {i for i in range (6)}\n",
    "\n",
    "print(Se2)"
   ]
  },
  {
   "cell_type": "code",
   "execution_count": 49,
   "id": "d682694b-d998-4d87-bde3-ecb982fac0ab",
   "metadata": {},
   "outputs": [
    {
     "name": "stdout",
     "output_type": "stream",
     "text": [
      "{225, 196, 169, 144, 121}\n"
     ]
    }
   ],
   "source": [
    "# カウンタ変数の部分を計算式にすることもできる．\n",
    "Se3 = {i ** 2 for i in range(11,16,1)} # 11から15まで1ずつ増やした値をiに入れていく\n",
    "\n",
    "print(Se3)  # 要素に順番がないことに注意が必要"
   ]
  },
  {
   "cell_type": "markdown",
   "id": "19406627-9d44-4e83-8c30-7cb083a45f12",
   "metadata": {},
   "source": [
    "## 辞書内包表記"
   ]
  },
  {
   "cell_type": "code",
   "execution_count": 53,
   "id": "693787d8-acf5-420e-a6ce-9531d3b5ac98",
   "metadata": {},
   "outputs": [
    {
     "name": "stdout",
     "output_type": "stream",
     "text": [
      "{11: 121, 12: 144, 13: 169, 14: 196, 15: 225}\n"
     ]
    }
   ],
   "source": [
    "D = {i : i ** 2 for i in range(11,16,1)}\n",
    "\n",
    "print(D)"
   ]
  },
  {
   "cell_type": "markdown",
   "id": "3a4850e1-5950-45f2-919e-50bcee6d102a",
   "metadata": {},
   "source": [
    "## 条件付き内包表記\n",
    "内包表記の中でifを使うと要素の条件を設定できる．"
   ]
  },
  {
   "cell_type": "code",
   "execution_count": 60,
   "id": "30be5b25-934d-48f8-a9a4-f74417438540",
   "metadata": {},
   "outputs": [
    {
     "name": "stdout",
     "output_type": "stream",
     "text": [
      "[3, 6, 9]\n"
     ]
    }
   ],
   "source": [
    "# ifのみ使う場合\n",
    "# 3の倍数のリスト\n",
    "L = [i for i in range(1, 11, 1) if i % 3 == 0]\n",
    "\n",
    "print(L)"
   ]
  },
  {
   "cell_type": "code",
   "execution_count": 62,
   "id": "21c3350a-9bfa-4004-9586-e8e3b28b64c8",
   "metadata": {},
   "outputs": [
    {
     "name": "stdout",
     "output_type": "stream",
     "text": [
      "{1: '3の倍数ではない', 2: '3の倍数ではない', 3: '3の倍数', 4: '3の倍数ではない', 5: '3の倍数ではない', 6: '3の倍数', 7: '3の倍数ではない', 8: '3の倍数ではない', 9: '3の倍数', 10: '3の倍数ではない'}\n"
     ]
    }
   ],
   "source": [
    "# if~elseを使う場合\n",
    "D = {i : \"3の倍数\" if i % 3 == 0 else \"3の倍数ではない\" for i in range(1,11,1)}\n",
    "\n",
    "print(D)"
   ]
  },
  {
   "cell_type": "markdown",
   "id": "c5e11256-c6ee-4814-94fc-0d5477099054",
   "metadata": {},
   "source": [
    "## 内包表記のネスト"
   ]
  },
  {
   "cell_type": "code",
   "execution_count": 76,
   "id": "9391c333-977f-4f57-a2d8-625ad490c514",
   "metadata": {},
   "outputs": [
    {
     "name": "stdout",
     "output_type": "stream",
     "text": [
      "[[0, 0], [0, 1], [0, 2], [1, 0], [1, 1], [1, 2], [2, 0], [2, 1], [2, 2], [3, 0], [3, 1], [3, 2]]\n",
      "[1, 0, 0, 1, 1, 1, 1, 2, 4, 1, 3, 9]\n"
     ]
    }
   ],
   "source": [
    "# for文で書く場合\n",
    "L1 = []\n",
    "L2 = []\n",
    "for i in range(4): \n",
    "    for j in range(3):\n",
    "        L1.append([i,j])\n",
    "        L2.append(i ** j)\n",
    "\n",
    "print(L1)\n",
    "print(L2)"
   ]
  },
  {
   "cell_type": "code",
   "execution_count": 80,
   "id": "81771751-60a1-4959-8882-ae8f0aecf7ae",
   "metadata": {},
   "outputs": [
    {
     "name": "stdout",
     "output_type": "stream",
     "text": [
      "[[0, 0], [0, 1], [0, 2], [1, 0], [1, 1], [1, 2], [2, 0], [2, 1], [2, 2], [3, 0], [3, 1], [3, 2]]\n",
      "[1, 0, 0, 1, 1, 1, 1, 2, 4, 1, 3, 9]\n"
     ]
    }
   ],
   "source": [
    "# 内包表記で書く場合\n",
    "L3 = [[i,j] for i in range(4) for j in range(3)]\n",
    "L4 = [i ** j for i in range(4) for j in range(3)]\n",
    "\n",
    "print(L3)\n",
    "print(L4)"
   ]
  },
  {
   "cell_type": "markdown",
   "id": "fbc93ff1-588e-449a-9321-5a4fb18cb71b",
   "metadata": {},
   "source": [
    "参考：以上はキノコードさん([[ブログ](https://kino-code.com/)・[You Tube](https://youtube.com/@kinocode?si=B4f5QLuWVA9U65uI]))のYou Tube動画を見て勉強した内容をまとめたものです．"
   ]
  }
 ],
 "metadata": {
  "kernelspec": {
   "display_name": "Python 3 (ipykernel)",
   "language": "python",
   "name": "python3"
  },
  "language_info": {
   "codemirror_mode": {
    "name": "ipython",
    "version": 3
   },
   "file_extension": ".py",
   "mimetype": "text/x-python",
   "name": "python",
   "nbconvert_exporter": "python",
   "pygments_lexer": "ipython3",
   "version": "3.11.9"
  }
 },
 "nbformat": 4,
 "nbformat_minor": 5
}
