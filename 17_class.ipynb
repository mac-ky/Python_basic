{
 "cells": [
  {
   "cell_type": "markdown",
   "id": "45ea48b7-dace-4e89-aeea-cbb198e709b9",
   "metadata": {},
   "source": [
    "# クラス\n"
   ]
  },
  {
   "cell_type": "markdown",
   "id": "0aed1a82-44a1-4671-82ab-39100ea9cb37",
   "metadata": {},
   "source": [
    "## クラスの基本的な概念\n",
    "クラスとはデータと処理をまとめたもの．Pythonではクラス内のデータのことをアトリビュート，処理のことをメソッドという．\n",
    "- アトリビュート：クラス内で定義された変数．数値などの代入や参照が可能\n",
    "- メソッド：クラス内で定義された関数．様々な処理をまとめて一つにしたもの．"
   ]
  },
  {
   "cell_type": "markdown",
   "id": "f490cb33-2a10-4984-80a9-f33b60b80273",
   "metadata": {},
   "source": [
    "### メソッド"
   ]
  },
  {
   "cell_type": "code",
   "execution_count": 4,
   "id": "cc0446a4-6395-4775-a25a-ecab01b1e7ae",
   "metadata": {},
   "outputs": [],
   "source": [
    "class Student:  # クラスを定義．クラス名の最初の1文字は大文字にするのが慣習\n",
    "    \n",
    "    def avg(self):  # メソッドの定義．関数と違って必ず引数が必要で，selfとするのが慣習\n",
    "        print((80 + 70) / 2)\n"
   ]
  },
  {
   "cell_type": "markdown",
   "id": "a67d3309-ed8a-40fa-9c01-0dec204ec68f",
   "metadata": {},
   "source": [
    "### インスタンス化\n",
    "クラスはクラスから作られたインスタンスを変数に代入して使う．\\\n",
    "上記のコードについて，a001の点数が80点と70点であったとする．"
   ]
  },
  {
   "cell_type": "code",
   "execution_count": 6,
   "id": "1c0a79e7-3ac4-43ae-b8ab-e1af4057234d",
   "metadata": {},
   "outputs": [
    {
     "name": "stdout",
     "output_type": "stream",
     "text": [
      "75.0\n"
     ]
    }
   ],
   "source": [
    "class Student:  # クラスを定義．クラス名の最初の1文字は大文字にするのが慣習\n",
    "    \n",
    "    def avg(self):  # メソッドの定義．関数と違って必ず引数が必要で，selfとするのが慣習\n",
    "        print((80 + 70) / 2)\n",
    "\n",
    "a001 = Student()  # インスタンス化\n",
    "a001.avg()  # 定義したメソッドて計算"
   ]
  },
  {
   "cell_type": "code",
   "execution_count": 7,
   "id": "c14c3569-bf4c-4444-ae45-33e04848f372",
   "metadata": {},
   "outputs": [
    {
     "name": "stdout",
     "output_type": "stream",
     "text": [
      "75.0\n"
     ]
    }
   ],
   "source": [
    "class Student:  # クラスを定義．クラス名の最初の1文字は大文字にするのが慣習\n",
    "    \n",
    "    def avg(self, math, english):  # メソッドの定義．関数と違って必ず引数が必要で，selfとするのが慣習\n",
    "        print((math + english) / 2)\n",
    "\n",
    "a001 = Student()  # インスタンス化\n",
    "a001.avg(80,70)  # 定義したメソッドて計算"
   ]
  },
  {
   "cell_type": "markdown",
   "id": "c7349d8d-3c6b-4a3e-a02d-52ee4fcd57b3",
   "metadata": {},
   "source": [
    "### アトリビュート"
   ]
  },
  {
   "cell_type": "code",
   "execution_count": 9,
   "id": "d3522c6f-8ab3-45c6-8faf-28f8efd61dbd",
   "metadata": {},
   "outputs": [
    {
     "name": "stdout",
     "output_type": "stream",
     "text": [
      "75.0\n",
      "sato\n"
     ]
    }
   ],
   "source": [
    "class Student:  # クラスを定義\n",
    "    \n",
    "    def avg(self, math, english):  # メソッドを定義．\n",
    "        print((math + english) / 2)\n",
    "\n",
    "a001 = Student()  # インスタンス化\n",
    "a001.avg(80,70)  # 定義したメソッドて計算\n",
    "\n",
    "a001.name = \"sato\"  # nameというアトリビュートを定義する\n",
    "print(a001.name)\n"
   ]
  },
  {
   "cell_type": "code",
   "execution_count": 10,
   "id": "fe09884a-928b-484e-89bc-72a705c19c3a",
   "metadata": {},
   "outputs": [
    {
     "name": "stdout",
     "output_type": "stream",
     "text": [
      "75.0\n",
      "sato\n"
     ]
    },
    {
     "ename": "AttributeError",
     "evalue": "'Student' object has no attribute 'gender'",
     "output_type": "error",
     "traceback": [
      "\u001b[0;31m---------------------------------------------------------------------------\u001b[0m",
      "\u001b[0;31mAttributeError\u001b[0m                            Traceback (most recent call last)",
      "Cell \u001b[0;32mIn[10], line 12\u001b[0m\n\u001b[1;32m      9\u001b[0m a001\u001b[38;5;241m.\u001b[39mname \u001b[38;5;241m=\u001b[39m \u001b[38;5;124m\"\u001b[39m\u001b[38;5;124msato\u001b[39m\u001b[38;5;124m\"\u001b[39m  \u001b[38;5;66;03m# nameというアトリビュートを定義する\u001b[39;00m\n\u001b[1;32m     10\u001b[0m \u001b[38;5;28mprint\u001b[39m(a001\u001b[38;5;241m.\u001b[39mname)\n\u001b[0;32m---> 12\u001b[0m \u001b[38;5;28mprint\u001b[39m(\u001b[43ma001\u001b[49m\u001b[38;5;241;43m.\u001b[39;49m\u001b[43mgender\u001b[49m)  \u001b[38;5;66;03m# 定義されていないのでエラーになる\u001b[39;00m\n",
      "\u001b[0;31mAttributeError\u001b[0m: 'Student' object has no attribute 'gender'"
     ]
    }
   ],
   "source": [
    "class Student:  # クラスを定義\n",
    "        \n",
    "    def avg(self, math, english):  # メソッドの定義．\n",
    "        print((math + english) / 2)\n",
    "\n",
    "a001 = Student()  # インスタンス化\n",
    "a001.avg(80,70)  # 定義したメソッドて計算\n",
    "\n",
    "a001.name = \"sato\"  # nameというアトリビュートを定義する\n",
    "print(a001.name)\n",
    "\n",
    "print(a001.gender)  # 定義されていないのでエラーになる\n"
   ]
  },
  {
   "cell_type": "markdown",
   "id": "ac98a8d8-17e2-4be4-a7bb-e76700d0b035",
   "metadata": {},
   "source": [
    "アトリビュートはインスタンスごとに存在する．つまり，新しいインスタンスを作るごとにアトリビュートを定義する必要がある．"
   ]
  },
  {
   "cell_type": "code",
   "execution_count": 18,
   "id": "5c9efdfb-6260-492c-858c-0f6acdd63630",
   "metadata": {},
   "outputs": [
    {
     "name": "stdout",
     "output_type": "stream",
     "text": [
      "75.0\n",
      "sato\n"
     ]
    },
    {
     "ename": "AttributeError",
     "evalue": "'Student' object has no attribute 'name'",
     "output_type": "error",
     "traceback": [
      "\u001b[0;31m---------------------------------------------------------------------------\u001b[0m",
      "\u001b[0;31mAttributeError\u001b[0m                            Traceback (most recent call last)",
      "Cell \u001b[0;32mIn[18], line 13\u001b[0m\n\u001b[1;32m     10\u001b[0m \u001b[38;5;28mprint\u001b[39m(a001\u001b[38;5;241m.\u001b[39mname)\n\u001b[1;32m     12\u001b[0m a002 \u001b[38;5;241m=\u001b[39m Student()\n\u001b[0;32m---> 13\u001b[0m \u001b[38;5;28mprint\u001b[39m(\u001b[43ma002\u001b[49m\u001b[38;5;241;43m.\u001b[39;49m\u001b[43mname\u001b[49m)  \n",
      "\u001b[0;31mAttributeError\u001b[0m: 'Student' object has no attribute 'name'"
     ]
    }
   ],
   "source": [
    "class Student:  # クラスを定義\n",
    "    \n",
    "    def avg(self, math, english):  # メソッドの定義．\n",
    "        print((math + english) / 2)\n",
    "\n",
    "a001 = Student()  # インスタンス化\n",
    "a001.avg(80,70)  # 定義したメソッドて計算\n",
    "\n",
    "a001.name = \"sato\"  # nameというアトリビュートを定義する\n",
    "print(a001.name)\n",
    "\n",
    "a002 = Student()\n",
    "print(a002.name)  \n"
   ]
  },
  {
   "cell_type": "code",
   "execution_count": 20,
   "id": "01f61663-5c62-476b-b8a1-4571130f685c",
   "metadata": {},
   "outputs": [
    {
     "name": "stdout",
     "output_type": "stream",
     "text": [
      "75.0\n",
      "sato\n",
      "57.5\n",
      "tanaka\n"
     ]
    }
   ],
   "source": [
    "class Student:  # クラスを定義\n",
    "    \n",
    "    def avg(self, math, english):  # メソッドの定義．\n",
    "        print((math + english) / 2)\n",
    "\n",
    "a001 = Student()  # インスタンス化\n",
    "a001.avg(80,70)  # 定義したメソッドて計算\n",
    "a001.name = \"sato\"  # nameというアトリビュートを定義する\n",
    "print(a001.name)\n",
    "\n",
    "a002 = Student()\n",
    "a001.avg(50,65)  # 定義したメソッドて計算\n",
    "a002.name = \"tanaka\"\n",
    "print(a002.name)  # 定義されていないのでエラーになる\n",
    "\n"
   ]
  },
  {
   "cell_type": "markdown",
   "id": "1dab61f0-ddab-4668-a57f-7def41725ec8",
   "metadata": {},
   "source": [
    "### コンストラクタ(初期化メソッド)\n",
    "インスタンスごとにアトリビュートを定義するという不便さを解消するもので，インスタンス化するときに自動的に実行されるメソッドなので，アトリビュートを作っておくことに利用できる．"
   ]
  },
  {
   "cell_type": "code",
   "execution_count": 23,
   "id": "a93f2b4f-e0f2-4449-955c-36ac2193f17b",
   "metadata": {},
   "outputs": [
    {
     "name": "stdout",
     "output_type": "stream",
     "text": [
      "sato\n",
      "\n"
     ]
    }
   ],
   "source": [
    "class Student:  # クラスを定義\n",
    "    \n",
    "    def __init__(self):  # 初期化メソッドの定義．引数はselfとするのが慣例\n",
    "        self.name = \"\"  # アトリビュートを定義\n",
    "        \n",
    "    def avg(self, math , english):  # メソッドを定義．\n",
    "        print((math + english) / 2)\n",
    "\n",
    "a001 = Student()  # インスタンス化\n",
    "a001.name = \"sato\"  # nameというアトリビュートを定義する\n",
    "print(a001.name)\n",
    "\n",
    "a002 = Student()\n",
    "print(a002.name)  # 初期化メソッドで定義したので，エラーにはならない"
   ]
  },
  {
   "cell_type": "code",
   "execution_count": 25,
   "id": "240bca53-b992-4368-992b-e5f4e7aabbb5",
   "metadata": {},
   "outputs": [
    {
     "name": "stdout",
     "output_type": "stream",
     "text": [
      "sato\n",
      "tanaka\n"
     ]
    }
   ],
   "source": [
    "class Student:  # クラスを定義\n",
    "    \n",
    "    def __init__(self):  # 初期化メソッドの定義．引数はselfとするのが慣例\n",
    "        self.name = \"\"  # アトリビュートを定義\n",
    "        \n",
    "    def avg(self, math , english):  # メソッドを定義．\n",
    "        print((math + english) / 2)\n",
    "\n",
    "a001 = Student()  # インスタンス化\n",
    "a001.name = \"sato\"  # nameというアトリビュートを定義する\n",
    "print(a001.name)\n",
    "\n",
    "a002 = Student()\n",
    "a002.name = \"tanaka\"\n",
    "print(a002.name)  # 初期化メソッドで定義したので，エラーにはならない"
   ]
  },
  {
   "cell_type": "code",
   "execution_count": 27,
   "id": "1adc9a5c-e4c6-45bb-81d0-46f1f19a29b6",
   "metadata": {},
   "outputs": [
    {
     "name": "stdout",
     "output_type": "stream",
     "text": [
      "sato\n",
      "tanaka\n"
     ]
    }
   ],
   "source": [
    "class Student:  # クラスを定義\n",
    "    \n",
    "    def __init__(self, name):  # 初期化メソッドの定義．第2引数にアトリビュート代入用の変数を記述\n",
    "        self.name = name  # アトリビュートを定義\n",
    "        \n",
    "    def avg(self, math , english):  # メソッドを定義．\n",
    "        print((math + english) / 2)\n",
    "\n",
    "a001 = Student(\"sato\")  # インスタンス化と同時にアトリビュートを代入する\n",
    "print(a001.name)\n",
    "\n",
    "a002 = Student(\"tanaka\")\n",
    "print(a002.name)  # 初期化メソッドで定義したので，エラーにはならない"
   ]
  },
  {
   "cell_type": "markdown",
   "id": "4c3c0c9a-a67d-475f-9f03-fbda833cf190",
   "metadata": {},
   "source": [
    "## クラスの複雑な概念"
   ]
  },
  {
   "cell_type": "markdown",
   "id": "39587123-1680-4eac-894b-7478baae0961",
   "metadata": {},
   "source": [
    "## デストラクタ\n",
    "インスタンスが不要になり，削除されるときに呼び出されるメソッド．"
   ]
  },
  {
   "cell_type": "code",
   "execution_count": 41,
   "id": "bf34659e-a030-4c15-83a6-67fef19b3ca3",
   "metadata": {},
   "outputs": [
    {
     "name": "stdout",
     "output_type": "stream",
     "text": [
      "Good Bye!\n",
      "sato\n"
     ]
    }
   ],
   "source": [
    "class Student:  # クラスを定義\n",
    "    \n",
    "    def __init__(self, name):  # コンストラクタを定義\n",
    "        self.name = name  # アトリビュートを定義\n",
    "        \n",
    "    def __del__(self):  # デストラクタを定義．\n",
    "        print(\"Good Bye!\")\n",
    "        \n",
    "person = Student(\"sato\")  # インスタンス化\n",
    "print(person.name)\n"
   ]
  },
  {
   "cell_type": "code",
   "execution_count": 43,
   "id": "21986989-4501-4fdc-b988-7ed0ac4373d2",
   "metadata": {},
   "outputs": [
    {
     "name": "stdout",
     "output_type": "stream",
     "text": [
      "Good Bye!\n",
      "sato\n",
      "Good Bye!\n",
      "hoge\n"
     ]
    }
   ],
   "source": [
    "# del文でインスタンスを削除し，デストラクタを呼び出す\n",
    "class Student:  # クラスを定義\n",
    "    \n",
    "    def __init__(self, name):  # コンストラクタを定義\n",
    "        self.name = name  # アトリビュートを定義\n",
    "        \n",
    "    def __del__(self):  # デストラクタを定義．\n",
    "        print(\"Good Bye!\")\n",
    "        \n",
    "person = Student(\"sato\")  # インスタンス化\n",
    "print(person.name)\n",
    "del person  # インスタンスを削除\n",
    "print(\"hoge\")"
   ]
  },
  {
   "cell_type": "code",
   "execution_count": 47,
   "id": "248c1565-d787-4fcc-bc92-104d53269b79",
   "metadata": {},
   "outputs": [
    {
     "name": "stdout",
     "output_type": "stream",
     "text": [
      "sato\n",
      "Good Bye!\n"
     ]
    },
    {
     "ename": "NameError",
     "evalue": "name 'person' is not defined",
     "output_type": "error",
     "traceback": [
      "\u001b[0;31m---------------------------------------------------------------------------\u001b[0m",
      "\u001b[0;31mNameError\u001b[0m                                 Traceback (most recent call last)",
      "Cell \u001b[0;32mIn[47], line 13\u001b[0m\n\u001b[1;32m     11\u001b[0m \u001b[38;5;28mprint\u001b[39m(person\u001b[38;5;241m.\u001b[39mname)\n\u001b[1;32m     12\u001b[0m \u001b[38;5;28;01mdel\u001b[39;00m person  \u001b[38;5;66;03m# インスタンスを削除\u001b[39;00m\n\u001b[0;32m---> 13\u001b[0m \u001b[38;5;28mprint\u001b[39m(\u001b[43mperson\u001b[49m\u001b[38;5;241m.\u001b[39mname)  \u001b[38;5;66;03m# 削除しちゃったので使えない\u001b[39;00m\n",
      "\u001b[0;31mNameError\u001b[0m: name 'person' is not defined"
     ]
    }
   ],
   "source": [
    "# del文でインスタンスを削除し，デストラクタを呼び出す\n",
    "class Student:  # クラスを定義\n",
    "    \n",
    "    def __init__(self, name):  # コンストラクタを定義\n",
    "        self.name = name  # アトリビュートを定義\n",
    "        \n",
    "    def __del__(self):  # デストラクタを定義．\n",
    "        print(\"Good Bye!\")\n",
    "        \n",
    "person = Student(\"sato\")  # インスタンス化\n",
    "print(person.name)\n",
    "del person  # インスタンスを削除\n",
    "print(person.name)  # 削除しちゃったので使えない"
   ]
  },
  {
   "cell_type": "markdown",
   "id": "df17b046-f43c-440b-a6d7-367dbabf8ee9",
   "metadata": {},
   "source": [
    "## クラスの継承\n",
    "あるクラスをきほんとして そこからさらに別の機能を持つクラスを作ること．\n",
    "- 親クラス(スーパークラス)：継承元のクラス\n",
    "- 子クラス(サブクラス)：継承先のクラス"
   ]
  },
  {
   "cell_type": "code",
   "execution_count": 51,
   "id": "92844aeb-83c3-49c6-b681-267b78e2516b",
   "metadata": {},
   "outputs": [
    {
     "name": "stdout",
     "output_type": "stream",
     "text": [
      "50\n",
      "60\n",
      "70\n"
     ]
    }
   ],
   "source": [
    "class Student:  # 学生全体に関するクラス\n",
    "    def math(self, score):\n",
    "        print(score)\n",
    "\n",
    "class Grade1:  # 1年生だけに関するクラス\n",
    "    def math(self, score):\n",
    "        print(score)\n",
    "\n",
    "    def english(self, score):\n",
    "        print(score)\n",
    "\n",
    "studentA = Student()\n",
    "studentB = Grade1()\n",
    "studentA.math(50)\n",
    "studentB.math(60)\n",
    "studentB.english(70)"
   ]
  },
  {
   "cell_type": "code",
   "execution_count": 53,
   "id": "be66d61c-f62e-4c8d-8da0-0de2372786ee",
   "metadata": {},
   "outputs": [
    {
     "name": "stdout",
     "output_type": "stream",
     "text": [
      "50\n",
      "60\n",
      "70\n"
     ]
    }
   ],
   "source": [
    "class Student:  # 親クラスの定義\n",
    "    def math(self, score):\n",
    "        print(score)\n",
    "\n",
    "class Grade1(Student):  # 子クラスの定義\n",
    "    def english(self, score):\n",
    "        print(score)\n",
    "\n",
    "studentA = Student()\n",
    "studentB = Grade1()\n",
    "studentA.math(50)\n",
    "studentB.math(60)\n",
    "studentB.english(70)"
   ]
  },
  {
   "cell_type": "code",
   "execution_count": 55,
   "id": "19fdd05f-05a6-428f-b54e-04ab6b6a4a67",
   "metadata": {},
   "outputs": [
    {
     "name": "stdout",
     "output_type": "stream",
     "text": [
      "50\n",
      "60\n",
      "70\n"
     ]
    },
    {
     "ename": "AttributeError",
     "evalue": "'Student' object has no attribute 'english'",
     "output_type": "error",
     "traceback": [
      "\u001b[0;31m---------------------------------------------------------------------------\u001b[0m",
      "\u001b[0;31mAttributeError\u001b[0m                            Traceback (most recent call last)",
      "Cell \u001b[0;32mIn[55], line 14\u001b[0m\n\u001b[1;32m     12\u001b[0m studentB\u001b[38;5;241m.\u001b[39mmath(\u001b[38;5;241m60\u001b[39m)\n\u001b[1;32m     13\u001b[0m studentB\u001b[38;5;241m.\u001b[39menglish(\u001b[38;5;241m70\u001b[39m)\n\u001b[0;32m---> 14\u001b[0m \u001b[43mstudentA\u001b[49m\u001b[38;5;241;43m.\u001b[39;49m\u001b[43menglish\u001b[49m(\u001b[38;5;241m40\u001b[39m)  \u001b[38;5;66;03m# 子クラスで定義したメソッドを親クラスで使うことはできない\u001b[39;00m\n",
      "\u001b[0;31mAttributeError\u001b[0m: 'Student' object has no attribute 'english'"
     ]
    }
   ],
   "source": [
    "class Student:  # 親クラスの定義\n",
    "    def math(self, score):\n",
    "        print(score)\n",
    "\n",
    "class Grade1(Student):  # 子クラスの定義\n",
    "    def english(self, score):\n",
    "        print(score)\n",
    "\n",
    "studentA = Student()\n",
    "studentB = Grade1()\n",
    "studentA.math(50)\n",
    "studentB.math(60)\n",
    "studentB.english(70)\n",
    "studentA.english(40)  # 子クラスで定義したメソッドを親クラスで使うことはできない"
   ]
  },
  {
   "cell_type": "markdown",
   "id": "cc81014c-0f65-49f5-8168-5a523bd52044",
   "metadata": {},
   "source": [
    "## メソッドのオーバーライド\n",
    "親クラスで定義したメソッドを子クラスで改めて定義する．親クラスで定義したメソッドが上書きされる．"
   ]
  },
  {
   "cell_type": "code",
   "execution_count": 63,
   "id": "7c19d4dd-2b42-4f2b-bb8d-c7e00815c5a6",
   "metadata": {},
   "outputs": [
    {
     "name": "stdout",
     "output_type": "stream",
     "text": [
      "Name : tanaka\n",
      " Age : 12\n"
     ]
    }
   ],
   "source": [
    "class Student:  # 親クラスの定義\n",
    "    def __init__(self, name, age):\n",
    "        self.name = name\n",
    "        self.age = age\n",
    "        \n",
    "    def math(self, score):\n",
    "        print(score)\n",
    "\n",
    "class Grade1(Student):  # 子クラスの定義\n",
    "    def __init__(self, name, age):  # 同じ名前のメソッドを書くことでオーバーライドができるようになる\n",
    "        self.name = name\n",
    "        self.age = age\n",
    "        print(\"Name :\", self.name)\n",
    "        print(\" Age :\", self.age)\n",
    "        \n",
    "    def english(self, score):\n",
    "        print(score)\n",
    "\n",
    "studentA = Student(\"sato\", 15)\n",
    "studentB = Grade1(\"tanaka\", 12)  # オーバーライドしたメソッドにはprint文があるので，NameとAgeが表示される"
   ]
  },
  {
   "cell_type": "code",
   "execution_count": 67,
   "id": "6645fa1c-8dc3-4473-ba61-8b76ba616107",
   "metadata": {},
   "outputs": [
    {
     "ename": "AttributeError",
     "evalue": "'Grade1' object has no attribute 'name'",
     "output_type": "error",
     "traceback": [
      "\u001b[0;31m---------------------------------------------------------------------------\u001b[0m",
      "\u001b[0;31mAttributeError\u001b[0m                            Traceback (most recent call last)",
      "Cell \u001b[0;32mIn[67], line 18\u001b[0m\n\u001b[1;32m     15\u001b[0m         \u001b[38;5;28mprint\u001b[39m(score)\n\u001b[1;32m     17\u001b[0m studentA \u001b[38;5;241m=\u001b[39m Student(\u001b[38;5;124m\"\u001b[39m\u001b[38;5;124msato\u001b[39m\u001b[38;5;124m\"\u001b[39m, \u001b[38;5;241m15\u001b[39m)\n\u001b[0;32m---> 18\u001b[0m studentB \u001b[38;5;241m=\u001b[39m \u001b[43mGrade1\u001b[49m\u001b[43m(\u001b[49m\u001b[38;5;124;43m\"\u001b[39;49m\u001b[38;5;124;43mtanaka\u001b[39;49m\u001b[38;5;124;43m\"\u001b[39;49m\u001b[43m,\u001b[49m\u001b[43m \u001b[49m\u001b[38;5;241;43m12\u001b[39;49m\u001b[43m)\u001b[49m  \u001b[38;5;66;03m# オーバーライドしたメソッドにはprint文があるので，NameとAgeが表示される\u001b[39;00m\n",
      "Cell \u001b[0;32mIn[67], line 11\u001b[0m, in \u001b[0;36mGrade1.__init__\u001b[0;34m(self, name, age)\u001b[0m\n\u001b[1;32m     10\u001b[0m \u001b[38;5;28;01mdef\u001b[39;00m \u001b[38;5;21m__init__\u001b[39m(\u001b[38;5;28mself\u001b[39m, name, age):  \u001b[38;5;66;03m# 同じ名前のメソッドを書くことでオーバーライドができるようになる\u001b[39;00m\n\u001b[0;32m---> 11\u001b[0m     \u001b[38;5;28mprint\u001b[39m(\u001b[38;5;124m\"\u001b[39m\u001b[38;5;124mName :\u001b[39m\u001b[38;5;124m\"\u001b[39m, \u001b[38;5;28;43mself\u001b[39;49m\u001b[38;5;241;43m.\u001b[39;49m\u001b[43mname\u001b[49m)  \u001b[38;5;66;03m# 上書きした子クラスのコンストラクタではアトリビュートが定義されていないので，エラーになる．\u001b[39;00m\n\u001b[1;32m     12\u001b[0m     \u001b[38;5;28mprint\u001b[39m(\u001b[38;5;124m\"\u001b[39m\u001b[38;5;124m Age :\u001b[39m\u001b[38;5;124m\"\u001b[39m, \u001b[38;5;28mself\u001b[39m\u001b[38;5;241m.\u001b[39mage)\n",
      "\u001b[0;31mAttributeError\u001b[0m: 'Grade1' object has no attribute 'name'"
     ]
    }
   ],
   "source": [
    "class Student:  # 親クラスの定義\n",
    "    def __init__(self, name, age):\n",
    "        self.name = name\n",
    "        self.age = age\n",
    "        \n",
    "    def math(self, score):\n",
    "        print(score)\n",
    "\n",
    "class Grade1(Student):  # 子クラスの定義\n",
    "    def __init__(self, name, age):  # 同じ名前のメソッドを書くことでオーバーライドができるようになる\n",
    "        print(\"Name :\", self.name)  # 上書きした子クラスのコンストラクタではアトリビュートが定義されていないので，エラーになる．\n",
    "        print(\" Age :\", self.age)\n",
    "        \n",
    "    def english(self, score):\n",
    "        print(score)\n",
    "\n",
    "studentA = Student(\"sato\", 15)\n",
    "studentB = Grade1(\"tanaka\", 12)  # オーバーライドしたメソッドにはprint文があるので，NameとAgeが表示される"
   ]
  },
  {
   "cell_type": "markdown",
   "id": "7f018625-aad6-4cc5-9b08-1d392f7a906a",
   "metadata": {},
   "source": [
    "## super関数\n",
    "親クラスのメソッドを継承しつつ，子クラス独自の機能を追加する"
   ]
  },
  {
   "cell_type": "code",
   "execution_count": 70,
   "id": "24422651-c2ea-49d7-a6d5-ead55e2678c4",
   "metadata": {},
   "outputs": [
    {
     "name": "stdout",
     "output_type": "stream",
     "text": [
      "Name : tanaka\n",
      " Age : 12\n"
     ]
    }
   ],
   "source": [
    "class Student:  # 親クラスの定義\n",
    "    def __init__(self, name, age):\n",
    "        self.name = name\n",
    "        self.age = age\n",
    "        \n",
    "    def math(self, score):\n",
    "        print(score)\n",
    "\n",
    "class Grade1(Student):  # 子クラスの定義\n",
    "    def __init__(self, name, age):  # 同じ名前のメソッドを書くことでオーバーライドができるようになる\n",
    "        super().__init__(name, age)  # 継承したい親クラスのメソッドを書く．引数のselfは不要．\n",
    "        print(\"Name :\", self.name)  \n",
    "        print(\" Age :\", self.age)\n",
    "        \n",
    "    def english(self, score):\n",
    "        print(score)\n",
    "\n",
    "studentA = Student(\"sato\", 15)\n",
    "studentB = Grade1(\"tanaka\", 12)  # オーバーライドしたメソッドにはprint文があるので，NameとAgeが表示される"
   ]
  },
  {
   "cell_type": "markdown",
   "id": "8244e5df-58ea-4ed5-b78d-f2827c41a7bb",
   "metadata": {},
   "source": [
    "## クラス変数\n",
    "そのクラスから作成された，全てのインスタンスで共有される変数．他方，インスタンス変数はそのインスタンス特有の変数．"
   ]
  },
  {
   "cell_type": "code",
   "execution_count": 77,
   "id": "95daa574-6159-496c-b3ea-9c8a8af3d56d",
   "metadata": {},
   "outputs": [
    {
     "name": "stdout",
     "output_type": "stream",
     "text": [
      "junior high school student\n",
      "sato\n",
      "15\n",
      "junior high school student\n",
      "tanaka\n",
      "12\n"
     ]
    }
   ],
   "source": [
    "class Student:  # 親クラスの定義\n",
    "    \n",
    "    job = \"junior high school student\"  # クラス変数に代入\n",
    "    \n",
    "    def __init__(self, name, age):  # nameとageはインスタンス変数\n",
    "        self.name = name\n",
    "        self.age = age\n",
    "        \n",
    "studentA = Student(\"sato\", 15)\n",
    "print(studentA.job)\n",
    "print(studentA.name)\n",
    "print(studentA.age)\n",
    "\n",
    "studentB = Student(\"tanaka\", 12)  \n",
    "print(studentB.job)\n",
    "print(studentB.name)\n",
    "print(studentB.age)\n"
   ]
  },
  {
   "cell_type": "code",
   "execution_count": 79,
   "id": "25034cc4-df96-4fb5-bc13-4315e36c84c7",
   "metadata": {},
   "outputs": [
    {
     "name": "stdout",
     "output_type": "stream",
     "text": [
      "junior high school student\n",
      "sato\n",
      "15\n",
      "junior high school student\n",
      "tanaka\n",
      "12\n"
     ]
    }
   ],
   "source": [
    "class Student:  # 親クラスの定義\n",
    "    \n",
    "    job = \"junior high school student\"  # クラス変数に代入\n",
    "    age = 14  # インスタンス変数にもある場合はインスタンス変数が優先される\n",
    "    \n",
    "    def __init__(self, name, age):  # nameとageはインスタンス変数\n",
    "        self.name = name\n",
    "        self.age = age\n",
    "        \n",
    "studentA = Student(\"sato\", 15)\n",
    "print(studentA.job)\n",
    "print(studentA.name)\n",
    "print(studentA.age)\n",
    "\n",
    "studentB = Student(\"tanaka\", 12)  \n",
    "print(studentB.job)\n",
    "print(studentB.name)\n",
    "print(studentB.age)\n"
   ]
  },
  {
   "cell_type": "code",
   "execution_count": 81,
   "id": "45b1defe-68d9-4452-8172-fdcf6af90bb9",
   "metadata": {},
   "outputs": [
    {
     "name": "stdout",
     "output_type": "stream",
     "text": [
      "junior high school student\n",
      "14\n"
     ]
    }
   ],
   "source": [
    "class Student:  # 親クラスの定義\n",
    "    \n",
    "    job = \"junior high school student\"  # クラス変数に代入\n",
    "    age = 14  # インスタンス変数にもある場合はインスタンス変数が優先される\n",
    "    \n",
    "    def __init__(self, name, age):  # nameとageはインスタンス変数\n",
    "        self.name = name\n",
    "        self.age = age\n",
    "        \n",
    "print(Student.job)  # クラス変数はインスタンスを作成しなくてもアクセスできる\n",
    "print(Student.age)"
   ]
  },
  {
   "cell_type": "markdown",
   "id": "f895d1d5-19ef-4013-9d5b-490ec6a87dad",
   "metadata": {},
   "source": [
    "## クラスメソッド\n",
    "インスタンスを作成しなくも呼び出せるメソッド．他方インスタンスメソッドはインスタンスを作成して呼び出す．"
   ]
  },
  {
   "cell_type": "code",
   "execution_count": 88,
   "id": "6c4e8da9-ca24-4d18-88e4-99c1d3b6fe47",
   "metadata": {},
   "outputs": [
    {
     "name": "stdout",
     "output_type": "stream",
     "text": [
      "15\n"
     ]
    }
   ],
   "source": [
    "class Student:  # 親クラスの定義\n",
    "    \n",
    "    job = \"junior high school student\"  # クラス変数に代入\n",
    "    age = 14  # インスタンス変数にもある場合はインスタンス変数が優先される\n",
    "\n",
    "    @classmethod\n",
    "    def add_age(cls):  # クラスメソッドの引数はclsとするのが慣例\n",
    "        cls.age += 1\n",
    "        return cls.age\n",
    "        \n",
    "    def __init__(self, name, age):  # nameとageはインスタンス変数\n",
    "        self.name = name\n",
    "        self.age = age\n",
    "        \n",
    "print(Student.add_age())  # 14 + 1"
   ]
  },
  {
   "cell_type": "code",
   "execution_count": 92,
   "id": "7ba3f1e5-c305-4d0b-b325-3835bccbbdeb",
   "metadata": {},
   "outputs": [
    {
     "name": "stdout",
     "output_type": "stream",
     "text": [
      "15\n"
     ]
    }
   ],
   "source": [
    "class Student:  # 親クラスの定義\n",
    "    \n",
    "    job = \"junior high school student\"  # クラス変数に代入\n",
    "    age = 14  # インスタンス変数にもある場合はインスタンス変数が優先される\n",
    "\n",
    "    @classmethod\n",
    "    def add_age(cls):  # クラスメソッドの引数はclsとするのが慣例\n",
    "        cls.age += 1\n",
    "        return cls.age\n",
    "        \n",
    "    def __init__(self, name, age):  # nameとageはインスタンス変数\n",
    "        self.name = name\n",
    "        self.age = age\n",
    "\n",
    "studentA = Student(\"sato\", 12)\n",
    "print(studentA.add_age())  # 14 + 1"
   ]
  },
  {
   "cell_type": "markdown",
   "id": "3f1a3796-e662-492d-9866-7da0ad3c4c6f",
   "metadata": {},
   "source": [
    "## スタティックメソッド\n",
    "クラスメソッドと同様にインスタンスを作成しなくても呼び出せるメソッド．引数を受け取らないのがクラスメソッドやインスタンスメソッドとの違い"
   ]
  },
  {
   "cell_type": "code",
   "execution_count": 96,
   "id": "485458bc-4112-4c38-b0e2-05eddf7b51c5",
   "metadata": {},
   "outputs": [
    {
     "name": "stdout",
     "output_type": "stream",
     "text": [
      "Hello!\n"
     ]
    }
   ],
   "source": [
    "class Student:  # 親クラスの定義\n",
    "    \n",
    "    job = \"junior high school student\"  # クラス変数に代入\n",
    "    age = 14  # インスタンス変数にもある場合はインスタンス変数が優先される\n",
    "\n",
    "    @classmethod\n",
    "    def add_age(cls):  # クラスメソッドの引数はclsとするのが慣例\n",
    "        cls.age += 1\n",
    "        return cls.age\n",
    "\n",
    "    @staticmethod\n",
    "    def greeting():\n",
    "        print(\"Hello!\")\n",
    "        \n",
    "    def __init__(self, name, age):  # nameとageはインスタンス変数\n",
    "        self.name = name\n",
    "        self.age = age\n",
    "\n",
    "Student.greeting()"
   ]
  },
  {
   "cell_type": "code",
   "execution_count": 102,
   "id": "f3aec4fe-7ef0-4fb9-895e-15d923ad9d0c",
   "metadata": {},
   "outputs": [
    {
     "name": "stdout",
     "output_type": "stream",
     "text": [
      "Hello!\n",
      "I am 14.\n"
     ]
    }
   ],
   "source": [
    "# スタティックメソッドはクラス内の変数やメソッドに直接アクセスしない\n",
    "\n",
    "class Student:  # 親クラスの定義\n",
    "    \n",
    "    job = \"junior high school student\"  # クラス変数に代入\n",
    "    age = 14  # インスタンス変数にもある場合はインスタンス変数が優先される\n",
    "\n",
    "    @classmethod\n",
    "    def add_age(cls):  # クラスメソッドの引数はclsとするのが慣例\n",
    "        cls.age += 1\n",
    "        return cls.age\n",
    "\n",
    "    @staticmethod\n",
    "    def greeting():\n",
    "        print(\"Hello!\")\n",
    "        print(f\"I am {Student.age}.\")\n",
    "        \n",
    "    def __init__(self, name, age):  # nameとageはインスタンス変数\n",
    "        self.name = name\n",
    "        self.age = age\n",
    "\n",
    "Student.greeting()"
   ]
  },
  {
   "cell_type": "code",
   "execution_count": 104,
   "id": "cbb19fdd-54d8-437c-89f5-5aa213790771",
   "metadata": {},
   "outputs": [
    {
     "name": "stdout",
     "output_type": "stream",
     "text": [
      "Hello!\n",
      "I am 14.\n"
     ]
    }
   ],
   "source": [
    "# スタティックメソッドはクラス内の変数やメソッドに直接アクセスしない\n",
    "# そのため，クラスの外で定義した普通の関数と同じ機能を持つ\n",
    "\n",
    "class Student:  # 親クラスの定義\n",
    "    \n",
    "    job = \"junior high school student\"  # クラス変数に代入\n",
    "    age = 14  # インスタンス変数にもある場合はインスタンス変数が優先される\n",
    "\n",
    "    @classmethod\n",
    "    def add_age(cls):  # クラスメソッドの引数はclsとするのが慣例\n",
    "        cls.age += 1\n",
    "        return cls.age\n",
    "        \n",
    "    def __init__(self, name, age):  # nameとageはインスタンス変数\n",
    "        self.name = name\n",
    "        self.age = age\n",
    "\n",
    "def greeting():\n",
    "        print(\"Hello!\")\n",
    "        print(f\"I am {Student.age}.\")\n",
    "    \n",
    "greeting()"
   ]
  },
  {
   "cell_type": "markdown",
   "id": "a17cf9d8-e856-496d-88c8-899dc5205bbe",
   "metadata": {},
   "source": [
    "参考：以上はキノコードさん([[ブログ](https://kino-code.com/)・[You Tube](https://youtube.com/@kinocode?si=B4f5QLuWVA9U65uI]))のYou Tube動画を見て勉強した内容をまとめたものです．"
   ]
  }
 ],
 "metadata": {
  "kernelspec": {
   "display_name": "model_estimation",
   "language": "python",
   "name": "model_estimation"
  },
  "language_info": {
   "codemirror_mode": {
    "name": "ipython",
    "version": 3
   },
   "file_extension": ".py",
   "mimetype": "text/x-python",
   "name": "python",
   "nbconvert_exporter": "python",
   "pygments_lexer": "ipython3",
   "version": "3.10.9"
  }
 },
 "nbformat": 4,
 "nbformat_minor": 5
}
