{
 "cells": [
  {
   "cell_type": "markdown",
   "id": "21ac676a-ba9e-49b6-aa6a-f6f70f1874f4",
   "metadata": {},
   "source": [
    "# 組み込み関数"
   ]
  },
  {
   "cell_type": "markdown",
   "id": "48114792-b217-4d51-8649-9c77d98bb0b6",
   "metadata": {},
   "source": [
    "## print関数\n",
    "数値や文字列，変数などを出力する関数"
   ]
  },
  {
   "cell_type": "code",
   "execution_count": 20,
   "id": "a5a6d1d6-ed29-4aae-b393-205d67101de4",
   "metadata": {},
   "outputs": [
    {
     "name": "stdout",
     "output_type": "stream",
     "text": [
      "ローソン セブンイレブン ファミリーマート\n",
      "サークルＫ\n"
     ]
    }
   ],
   "source": [
    "print(\"ローソン\", \"セブンイレブン\", \"ファミリーマート\")  # 1行で表示される\n",
    "print(\"サークルＫ\")"
   ]
  },
  {
   "cell_type": "code",
   "execution_count": 22,
   "id": "c4b28953-70e4-4bad-88c0-5cc53f2c6b73",
   "metadata": {},
   "outputs": [
    {
     "name": "stdout",
     "output_type": "stream",
     "text": [
      "ローソン-セブンイレブン-ファミリーマート\n",
      "サークルＫ\n"
     ]
    }
   ],
   "source": [
    "print(\"ローソン\", \"セブンイレブン\", \"ファミリーマート\", sep=\"-\")  # \"-\"で区切られる\n",
    "print(\"サークルＫ\")"
   ]
  },
  {
   "cell_type": "code",
   "execution_count": 24,
   "id": "a1304987-7e64-411e-bb14-9bfbbeb63c7c",
   "metadata": {},
   "outputs": [
    {
     "name": "stdout",
     "output_type": "stream",
     "text": [
      "ローソン-セブンイレブン-ファミリーマート-サークルＫ\n"
     ]
    }
   ],
   "source": [
    "print(\"ローソン\", \"セブンイレブン\", \"ファミリーマート\", sep=\"-\", end=\"-\")  # デフォルトではend=\"\\n\"(つまり改行)となっているがそれを\"-\"に変更\n",
    "print(\"サークルＫ\")"
   ]
  },
  {
   "cell_type": "markdown",
   "id": "32f63875-33cd-4e68-9cf8-779ec76d4597",
   "metadata": {},
   "source": [
    "## type関数\n",
    "引数に渡したオブジェクトの型を返す．"
   ]
  },
  {
   "cell_type": "code",
   "execution_count": 31,
   "id": "b35aab06-78a0-4a80-b37a-1402135fac63",
   "metadata": {},
   "outputs": [
    {
     "name": "stdout",
     "output_type": "stream",
     "text": [
      "<class 'int'>\n",
      "<class 'float'>\n",
      "<class 'str'>\n",
      "<class 'list'>\n"
     ]
    }
   ],
   "source": [
    "I = 5\n",
    "F = 3.14\n",
    "St = \"Hello python!\"\n",
    "L = [5, 3.14, \"Hello python!\"]\n",
    "\n",
    "print(type(I))\n",
    "print(type(F))\n",
    "print(type(St))\n",
    "print(type(L))"
   ]
  },
  {
   "cell_type": "code",
   "execution_count": 35,
   "id": "eb71f258-5fa3-445a-bec7-cd277e8f92cb",
   "metadata": {},
   "outputs": [
    {
     "name": "stdout",
     "output_type": "stream",
     "text": [
      "False\n",
      "True\n"
     ]
    }
   ],
   "source": [
    "# is演算子との組み合わせ\n",
    "I = 5\n",
    "F = 3.14\n",
    "\n",
    "print(type(I) is float)  # False\n",
    "print(type(F) is float)  # True"
   ]
  },
  {
   "cell_type": "markdown",
   "id": "aa78da07-f047-48f7-b8cb-8c68067c7f24",
   "metadata": {},
   "source": [
    "## float関数\n",
    "引数に渡した値を浮動小数点数に変換する．"
   ]
  },
  {
   "cell_type": "code",
   "execution_count": 41,
   "id": "65b09d86-e1da-40cf-b9ef-c3d2e5789120",
   "metadata": {},
   "outputs": [
    {
     "name": "stdout",
     "output_type": "stream",
     "text": [
      "<class 'str'>\n",
      "<class 'float'>\n"
     ]
    }
   ],
   "source": [
    "# String型\n",
    "St_float = \"3.14\"\n",
    "\n",
    "changed_St_float = float(St_float)\n",
    "\n",
    "print(type(St_float))\n",
    "print(type(changed_St_float))"
   ]
  },
  {
   "cell_type": "markdown",
   "id": "8a42498e-9365-4850-9ad0-9fb3eef5cc06",
   "metadata": {},
   "source": [
    "ちなみに，ほとんどの小数は2進数で表そうとすると循環小数になるので，コンピュータの内部では近似値として表されている．\n"
   ]
  },
  {
   "cell_type": "code",
   "execution_count": 48,
   "id": "ae0eb218-e3c8-4d32-bbae-f8f72e21f099",
   "metadata": {},
   "outputs": [
    {
     "name": "stdout",
     "output_type": "stream",
     "text": [
      "0.2\n",
      "0.30000000000000004\n"
     ]
    }
   ],
   "source": [
    "print(0.1 * 2)  # 誤差は小さいので，0.2になる\n",
    "print(0.1 * 3)  # 誤差が大きく，0.3とはならない"
   ]
  },
  {
   "cell_type": "code",
   "execution_count": 46,
   "id": "298ff555-904e-4ba0-99ae-b8d515143c84",
   "metadata": {},
   "outputs": [
    {
     "name": "stdout",
     "output_type": "stream",
     "text": [
      "True\n",
      "False\n"
     ]
    }
   ],
   "source": [
    "# したがって\n",
    "print(0.1 * 2 == 0.2)\n",
    "print(0.1 * 3 == 0.3)"
   ]
  },
  {
   "cell_type": "markdown",
   "id": "1afc412e-c141-473d-952d-57e7b1187ab3",
   "metadata": {},
   "source": [
    "## round関数\n",
    "小数や整数を任意の値に丸める．"
   ]
  },
  {
   "cell_type": "code",
   "execution_count": 76,
   "id": "28660528-7640-413a-86f5-0dd121db348c",
   "metadata": {},
   "outputs": [
    {
     "name": "stdout",
     "output_type": "stream",
     "text": [
      "3.14\n",
      "3.0\n"
     ]
    }
   ],
   "source": [
    "print(round(3.1415, 2))\n",
    "print(round(3.005, 2))"
   ]
  },
  {
   "cell_type": "code",
   "execution_count": 80,
   "id": "6bbf4633-cfd3-4b9b-a20e-b5e7c3cab4bc",
   "metadata": {},
   "outputs": [
    {
     "name": "stdout",
     "output_type": "stream",
     "text": [
      "2\n",
      "4\n"
     ]
    }
   ],
   "source": [
    "# 第2引数を省略すると整数になる．\n",
    "print(round(2.5))\n",
    "print(round(3.501))"
   ]
  },
  {
   "cell_type": "code",
   "execution_count": 86,
   "id": "20f3bba4-db29-46b4-93b1-2bb320d8a04a",
   "metadata": {},
   "outputs": [
    {
     "name": "stdout",
     "output_type": "stream",
     "text": [
      "1020\n"
     ]
    }
   ],
   "source": [
    "# 第2引数に負の値を指定すると整数部の指定となる\n",
    "print(round(1024, -1))  # 10の位に丸められる"
   ]
  },
  {
   "cell_type": "markdown",
   "id": "92f8fc82-04bf-4e29-8a3d-52530ae5e234",
   "metadata": {},
   "source": [
    "## bool関数\n",
    "引数に渡したオブジェクトがTrueかFalseかを判定する．"
   ]
  },
  {
   "cell_type": "code",
   "execution_count": 91,
   "id": "560c50bb-d634-4502-a48a-4fe3079979a3",
   "metadata": {},
   "outputs": [
    {
     "name": "stdout",
     "output_type": "stream",
     "text": [
      "True\n",
      "True\n",
      "True\n",
      "True\n",
      "True\n"
     ]
    }
   ],
   "source": [
    "# 正しい式，True，0以外の数値や要素のときはTrue\n",
    "print(bool(2 > 1))\n",
    "print(bool(True))\n",
    "print(bool(1))\n",
    "print(bool(\"Hello Python!\"))\n",
    "print(bool([1, 2, 3]))"
   ]
  },
  {
   "cell_type": "code",
   "execution_count": 93,
   "id": "4e31e66f-418f-47c4-914f-4a7e07e8215b",
   "metadata": {},
   "outputs": [
    {
     "name": "stdout",
     "output_type": "stream",
     "text": [
      "False\n",
      "False\n",
      "False\n",
      "False\n",
      "False\n"
     ]
    }
   ],
   "source": [
    "# 誤った式，False，0，空の要素のときはFalse\n",
    "print(bool(2 < 1))\n",
    "print(bool(False))\n",
    "print(bool(0))\n",
    "print(bool(\"\"))\n",
    "print(bool([]))"
   ]
  },
  {
   "cell_type": "markdown",
   "id": "b02d3bc7-51fa-4015-8544-bf5ee7b3300b",
   "metadata": {},
   "source": [
    "## len関数\n",
    "様々なオブジェクトの要素数を返す．"
   ]
  },
  {
   "cell_type": "code",
   "execution_count": 104,
   "id": "4f05bc3d-3b7b-47a3-9635-5a5596fc7207",
   "metadata": {},
   "outputs": [
    {
     "name": "stdout",
     "output_type": "stream",
     "text": [
      "13\n",
      "4\n"
     ]
    }
   ],
   "source": [
    "print(len(\"Hello Python!\"))  # スペースも1文字\n",
    "print(len([1,2,3,4]))  # リスト内の要素数"
   ]
  },
  {
   "cell_type": "markdown",
   "id": "74d358b9-18c7-410d-b524-719124777904",
   "metadata": {},
   "source": [
    "## sum関数\n",
    "要素の合計値を返す．"
   ]
  },
  {
   "cell_type": "code",
   "execution_count": 109,
   "id": "1a15b7c6-b154-43d5-8d53-ca781ae2f07c",
   "metadata": {},
   "outputs": [
    {
     "name": "stdout",
     "output_type": "stream",
     "text": [
      "33\n"
     ]
    }
   ],
   "source": [
    "L_fibo = [0,1,1,2,3,5,8,13]\n",
    "print(sum(L_fibo))  # 0+1+1+2+3+5+8+13"
   ]
  },
  {
   "cell_type": "code",
   "execution_count": 111,
   "id": "e7b6a530-181e-4f3f-a255-ae29142caa28",
   "metadata": {},
   "outputs": [
    {
     "name": "stdout",
     "output_type": "stream",
     "text": [
      "133\n"
     ]
    }
   ],
   "source": [
    "L_fibo = [0,1,1,2,3,5,8,13]\n",
    "print(sum(L_fibo, 100))  # 0+1+1+2+3+5+8+13+100"
   ]
  },
  {
   "cell_type": "markdown",
   "id": "76a20671-b89c-4d79-aa7f-9abdf7085959",
   "metadata": {},
   "source": [
    "## max関数\n",
    "オブジェクト内の要素の中で最大値を求める．"
   ]
  },
  {
   "cell_type": "code",
   "execution_count": 116,
   "id": "93d5659f-3c52-4364-801f-7b7a6f9ad280",
   "metadata": {},
   "outputs": [
    {
     "name": "stdout",
     "output_type": "stream",
     "text": [
      "13\n"
     ]
    }
   ],
   "source": [
    "L_fibo = [0,1,1,2,3,5,8,13]\n",
    "print(max(L_fibo))  "
   ]
  },
  {
   "cell_type": "code",
   "execution_count": 120,
   "id": "bd268701-24e9-40d8-a6c9-60900efd8760",
   "metadata": {},
   "outputs": [
    {
     "name": "stdout",
     "output_type": "stream",
     "text": [
      "Python\n"
     ]
    }
   ],
   "source": [
    "language = [\"Python\", \"JavaScript\", \"PHP\"]\n",
    "print(max(language))  # P > J and y > H"
   ]
  },
  {
   "cell_type": "code",
   "execution_count": 122,
   "id": "d0ee8a1c-88b4-449e-bcf0-2d2f0f02dd54",
   "metadata": {},
   "outputs": [
    {
     "name": "stdout",
     "output_type": "stream",
     "text": [
      "JavaScript\n"
     ]
    }
   ],
   "source": [
    "language = [\"Python\", \"JavaScript\", \"PHP\"]\n",
    "print(max(language, key=len))  # len(\"JavaScript\") > len(\"Python\") > len(\"PHP\")"
   ]
  },
  {
   "cell_type": "code",
   "execution_count": 126,
   "id": "7971ec49-6165-4cf6-b157-362d0c204bca",
   "metadata": {},
   "outputs": [
    {
     "name": "stdout",
     "output_type": "stream",
     "text": [
      "c\n",
      "3\n"
     ]
    }
   ],
   "source": [
    "D = {\"a\": 3, \"b\": 2, \"c\": 1}\n",
    "\n",
    "print(max(D))  # keyの最大値\n",
    "print(max(D.values()))  # Valueの最大値"
   ]
  },
  {
   "cell_type": "markdown",
   "id": "8969cbb4-ffc8-44ba-8ee4-716f6455cd2f",
   "metadata": {},
   "source": [
    "## min関数\n",
    "オブジェクト内の要素の数で最小値を求める．"
   ]
  },
  {
   "cell_type": "code",
   "execution_count": 129,
   "id": "0cb449a2-c14d-4cc2-9784-5def6d3508bc",
   "metadata": {},
   "outputs": [
    {
     "name": "stdout",
     "output_type": "stream",
     "text": [
      "0\n"
     ]
    }
   ],
   "source": [
    "L_fibo = [0,1,1,2,3,5,8,13]\n",
    "print(min(L_fibo))  "
   ]
  },
  {
   "cell_type": "code",
   "execution_count": 131,
   "id": "566a5c11-561e-4588-a0ee-c2c424b059f2",
   "metadata": {},
   "outputs": [
    {
     "name": "stdout",
     "output_type": "stream",
     "text": [
      "JavaScript\n"
     ]
    }
   ],
   "source": [
    "language = [\"Python\", \"JavaScript\", \"PHP\"]\n",
    "print(min(language))  # P > J"
   ]
  },
  {
   "cell_type": "code",
   "execution_count": 133,
   "id": "12324022-e3ec-4587-96e3-1c6d683f5aae",
   "metadata": {},
   "outputs": [
    {
     "name": "stdout",
     "output_type": "stream",
     "text": [
      "PHP\n"
     ]
    }
   ],
   "source": [
    "language = [\"Python\", \"JavaScript\", \"PHP\"]\n",
    "print(min(language, key=len))  # len(\"JavaScript\") > len(\"Python\") > len(\"PHP\")"
   ]
  },
  {
   "cell_type": "code",
   "execution_count": 135,
   "id": "ce1638eb-bdde-4229-b254-898b4331389b",
   "metadata": {},
   "outputs": [
    {
     "name": "stdout",
     "output_type": "stream",
     "text": [
      "a\n",
      "1\n"
     ]
    }
   ],
   "source": [
    "D = {\"a\": 3, \"b\": 2, \"c\": 1}\n",
    "\n",
    "print(min(D))  # keyの最小値\n",
    "print(min(D.values()))  # Valueの最小値"
   ]
  },
  {
   "cell_type": "markdown",
   "id": "626dfbec-fa95-4924-b512-2ce8fd63a7fe",
   "metadata": {},
   "source": [
    "## range関数\n",
    "連続した整数値を要素に持つオブジェクトを作成する．\n",
    "```python\n",
    "range(start, stop, step)\n",
    "```"
   ]
  },
  {
   "cell_type": "code",
   "execution_count": 138,
   "id": "64cfaeac-328b-4058-8922-860d3488f891",
   "metadata": {},
   "outputs": [
    {
     "name": "stdout",
     "output_type": "stream",
     "text": [
      "0\n",
      "1\n",
      "2\n",
      "3\n"
     ]
    }
   ],
   "source": [
    "for i in range(4):\n",
    "    print(i)"
   ]
  },
  {
   "cell_type": "code",
   "execution_count": 147,
   "id": "de0a4b0a-93a1-4590-80ee-e385c241b23a",
   "metadata": {},
   "outputs": [
    {
     "name": "stdout",
     "output_type": "stream",
     "text": [
      "0\n",
      "7\n",
      "14\n",
      "21\n",
      "28\n",
      "35\n",
      "42\n",
      "49\n",
      "56\n",
      "63\n",
      "70\n",
      "77\n",
      "84\n",
      "91\n",
      "98\n"
     ]
    }
   ],
   "source": [
    "for i in range(0, 100, 7):\n",
    "    print(i)"
   ]
  },
  {
   "cell_type": "code",
   "execution_count": 143,
   "id": "e5ff4ed6-6b8d-47c5-aab9-b572eb2f6cba",
   "metadata": {},
   "outputs": [
    {
     "name": "stdout",
     "output_type": "stream",
     "text": [
      "[3, 6, 9, 12, 13, 15, 18, 21, 23, 24, 27, 30, 31, 32, 33, 34, 35, 36, 37, 38, 39]\n"
     ]
    }
   ],
   "source": [
    "# 3の倍数と3のつく数を集める\n",
    "nabeatsu = [i for i in range(1, 40) if i % 3 == 0 or '3' in str(i)]\n",
    "print(nabeatsu)\n"
   ]
  },
  {
   "cell_type": "markdown",
   "id": "a469cc2d-ba28-4b50-a7fc-d1a99d06a4b7",
   "metadata": {},
   "source": [
    "## zip関数\n",
    "複数のリストやタプルに入った要素をまとめたオブジェクトを作成する．"
   ]
  },
  {
   "cell_type": "code",
   "execution_count": 166,
   "id": "84b06a79-29eb-4c1a-92cd-fc873c0cbf34",
   "metadata": {},
   "outputs": [
    {
     "name": "stdout",
     "output_type": "stream",
     "text": [
      "<zip object at 0x10f56f6c0>\n",
      "('石川', '太郎')\n",
      "('金沢', '花子')\n"
     ]
    }
   ],
   "source": [
    "last_name = [\"石川\", \"金沢\"]\n",
    "first_name = [\"太郎\", \"花子\"]\n",
    "\n",
    "print(zip(last_name, first_name))\n",
    "\n",
    "for i in zip(last_name, first_name):\n",
    "    print(i)"
   ]
  },
  {
   "cell_type": "code",
   "execution_count": 168,
   "id": "f263a89e-69c5-47ee-9c40-c5211b042cc5",
   "metadata": {},
   "outputs": [
    {
     "name": "stdout",
     "output_type": "stream",
     "text": [
      "石川\n",
      "太郎\n",
      "金沢\n",
      "花子\n"
     ]
    }
   ],
   "source": [
    "last_name = [\"石川\", \"金沢\"]\n",
    "first_name = [\"太郎\", \"花子\"]\n",
    "\n",
    "for i, j in zip(last_name, first_name):\n",
    "    print(i)\n",
    "    print(j)"
   ]
  },
  {
   "cell_type": "code",
   "execution_count": 172,
   "id": "1b9df3d3-acd3-45aa-b4f8-aeb0766ce37a",
   "metadata": {},
   "outputs": [
    {
     "name": "stdout",
     "output_type": "stream",
     "text": [
      "石川\n",
      "太郎\n",
      "金沢\n",
      "花子\n"
     ]
    }
   ],
   "source": [
    "last_name = [\"石川\", \"金沢\", \"福井\"]\n",
    "first_name = [\"太郎\", \"花子\"]\n",
    "\n",
    "for i, j in zip(last_name, first_name):  # 少ない方の要素数に合わせられる\n",
    "    print(i)\n",
    "    print(j)"
   ]
  },
  {
   "cell_type": "markdown",
   "id": "8e555871-3975-4adc-bc8e-e232a37a7ac6",
   "metadata": {},
   "source": [
    "## enumurate関数\n",
    "リストやタプルの要素とインデックスをまとめたオブジェクトを作成する"
   ]
  },
  {
   "cell_type": "code",
   "execution_count": 180,
   "id": "f0fa3e42-4d8a-440f-b6c6-233e7fc1bcb6",
   "metadata": {},
   "outputs": [
    {
     "name": "stdout",
     "output_type": "stream",
     "text": [
      "<enumerate object at 0x11801b300>\n",
      "(0, '石川')\n",
      "(1, '金沢')\n",
      "(2, '福井')\n"
     ]
    }
   ],
   "source": [
    "last_name = [\"石川\", \"金沢\", \"福井\"]\n",
    "\n",
    "print(enumerate(last_name))\n",
    "\n",
    "for i in enumerate(last_name):\n",
    "    print(i)"
   ]
  },
  {
   "cell_type": "code",
   "execution_count": 184,
   "id": "254e461c-9385-4ebd-b19e-7440936fd5d4",
   "metadata": {},
   "outputs": [
    {
     "name": "stdout",
     "output_type": "stream",
     "text": [
      "<enumerate object at 0x118019b40>\n",
      "0\n",
      "石川\n",
      "1\n",
      "金沢\n",
      "2\n",
      "福井\n"
     ]
    }
   ],
   "source": [
    "last_name = [\"石川\", \"金沢\", \"福井\"]\n",
    "\n",
    "print(enumerate(last_name))\n",
    "\n",
    "for i, j in enumerate(last_name):\n",
    "    print(i)\n",
    "    print(j)"
   ]
  },
  {
   "cell_type": "markdown",
   "id": "9b4562a1-6694-4f6a-ab1f-41c7fd5d3b7e",
   "metadata": {},
   "source": [
    "参考：以上はキノコードさん([[ブログ](https://kino-code.com/)・[You Tube](https://youtube.com/@kinocode?si=B4f5QLuWVA9U65uI]))のYou Tube動画を見て勉強した内容をまとめたものです．"
   ]
  }
 ],
 "metadata": {
  "kernelspec": {
   "display_name": "model_estimation",
   "language": "python",
   "name": "model_estimation"
  },
  "language_info": {
   "codemirror_mode": {
    "name": "ipython",
    "version": 3
   },
   "file_extension": ".py",
   "mimetype": "text/x-python",
   "name": "python",
   "nbconvert_exporter": "python",
   "pygments_lexer": "ipython3",
   "version": "3.10.9"
  }
 },
 "nbformat": 4,
 "nbformat_minor": 5
}
