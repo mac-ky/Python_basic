{
 "cells": [
  {
   "cell_type": "markdown",
   "id": "b0953193-5dd2-492d-ad97-38a413f03487",
   "metadata": {},
   "source": [
    "# 文字列操作"
   ]
  },
  {
   "cell_type": "markdown",
   "id": "1653bd2a-2315-473d-8145-1652858a7c75",
   "metadata": {},
   "source": [
    "## 文字列の結合\n",
    "文字列と文字列の間に\"+\"を入れると文字列を結合できる．\"*\"で繰り返すこともできる．"
   ]
  },
  {
   "cell_type": "code",
   "execution_count": 17,
   "id": "c7977879-2983-4c68-abe8-b4efd82e244f",
   "metadata": {},
   "outputs": [
    {
     "name": "stdout",
     "output_type": "stream",
     "text": [
      "551があるとき〜\n"
     ]
    }
   ],
   "source": [
    "wahaha = \"551\" + \"があるとき〜\"\n",
    "\n",
    "print(wahaha)"
   ]
  },
  {
   "cell_type": "code",
   "execution_count": 12,
   "id": "3acd927e-f612-4376-8b44-e0d166e35650",
   "metadata": {},
   "outputs": [
    {
     "name": "stdout",
     "output_type": "stream",
     "text": [
      "炙りカルビ炙りカルビ炙りカルビ\n"
     ]
    }
   ],
   "source": [
    "hayakuchi = \"炙りカルビ\" * 3\n",
    "\n",
    "print(hayakuchi)"
   ]
  },
  {
   "cell_type": "markdown",
   "id": "172b0d42-24e0-47b9-a318-d765a5853c1c",
   "metadata": {},
   "source": [
    "joinメソッドを用いた結合もできる．"
   ]
  },
  {
   "cell_type": "code",
   "execution_count": 15,
   "id": "04ac224c-9f7a-4c4b-b8d0-66161cb60d98",
   "metadata": {},
   "outputs": [
    {
     "name": "stdout",
     "output_type": "stream",
     "text": [
      "太郎とネ゙花子はネ゙遊んでネ゙いる．\n"
     ]
    }
   ],
   "source": [
    "bunnsetsu = \"ネ゙\".join([\"太郎と\",\"花子は\",\"遊んで\",\"いる．\"])\n",
    "\n",
    "print(bunnsetsu)"
   ]
  },
  {
   "cell_type": "markdown",
   "id": "dfb15a71-2e37-4c98-912b-da1417592f82",
   "metadata": {},
   "source": [
    "上記の方法は文字列同士でしか使えない．"
   ]
  },
  {
   "cell_type": "code",
   "execution_count": 20,
   "id": "4c66daa5-cd7e-415a-ac74-ab13050353be",
   "metadata": {},
   "outputs": [
    {
     "ename": "TypeError",
     "evalue": "unsupported operand type(s) for +: 'int' and 'str'",
     "output_type": "error",
     "traceback": [
      "\u001b[0;31m---------------------------------------------------------------------------\u001b[0m",
      "\u001b[0;31mTypeError\u001b[0m                                 Traceback (most recent call last)",
      "Cell \u001b[0;32mIn[20], line 3\u001b[0m\n\u001b[1;32m      1\u001b[0m \u001b[38;5;66;03m# これはエラーになる\u001b[39;00m\n\u001b[0;32m----> 3\u001b[0m wahaha \u001b[38;5;241m=\u001b[39m \u001b[38;5;241m551\u001b[39m \u001b[38;5;241m+\u001b[39m \u001b[38;5;124m\"\u001b[39m\u001b[38;5;124mがあるとき〜\u001b[39m\u001b[38;5;124m\"\u001b[39m\n\u001b[1;32m      5\u001b[0m \u001b[38;5;28mprint\u001b[39m(wahaha)\n",
      "\u001b[0;31mTypeError\u001b[0m: unsupported operand type(s) for +: 'int' and 'str'"
     ]
    }
   ],
   "source": [
    "# これはエラーになる\n",
    "\n",
    "wahaha = 551 + \"があるとき〜\"\n",
    "\n",
    "print(wahaha)"
   ]
  },
  {
   "cell_type": "markdown",
   "id": "e93b56e3-818e-4608-b265-423042cef4d5",
   "metadata": {},
   "source": [
    "## 文字列の分割\n",
    "splitメソッドで指定した区切り文字で分割することができる．"
   ]
  },
  {
   "cell_type": "code",
   "execution_count": 27,
   "id": "50c0e9db-6199-444a-8a55-59bc9413c2d0",
   "metadata": {},
   "outputs": [
    {
     "name": "stdout",
     "output_type": "stream",
     "text": [
      "['お', 'も', 'て', 'な', 'し']\n"
     ]
    }
   ],
   "source": [
    "x = \"お も て な し\"\n",
    "a = x.split()  # デフォルトはスペースで分割\n",
    "\n",
    "print(a)"
   ]
  },
  {
   "cell_type": "code",
   "execution_count": 31,
   "id": "3ec5a12f-e909-49bc-b358-76c51fadb37b",
   "metadata": {},
   "outputs": [
    {
     "name": "stdout",
     "output_type": "stream",
     "text": [
      "['お', 'も', 'て', 'な', 'し']\n"
     ]
    }
   ],
   "source": [
    "x = \"お-も-て-な-し\"\n",
    "a = x.split(sep=\"-\")  # 区切り文字にハイフンを指定\n",
    "\n",
    "print(a)"
   ]
  },
  {
   "cell_type": "markdown",
   "id": "b255d648-22d2-45bb-a4ec-adc9ca15cdb2",
   "metadata": {},
   "source": [
    "## 文字列の検索\n",
    "in演算子を用いて特定の文字が含まれているかを確認することができる．"
   ]
  },
  {
   "cell_type": "code",
   "execution_count": 34,
   "id": "943869ce-e077-430c-8379-f71aebed72c6",
   "metadata": {},
   "outputs": [
    {
     "name": "stdout",
     "output_type": "stream",
     "text": [
      "True\n",
      "False\n"
     ]
    }
   ],
   "source": [
    "right_phrase = \"オーロラを見られる．\"\n",
    "wrong_phrase = \"オーロラを見れる．\"\n",
    "\n",
    "print(\"ら\" in right_phrase)\n",
    "print(\"ら\" in wrong_phrase)  # ら抜き言葉"
   ]
  },
  {
   "cell_type": "markdown",
   "id": "ef82680f-985a-4e81-b3d7-86bee77fae50",
   "metadata": {},
   "source": [
    "findメソッドを使用すると，指定した文字のインデックス番号が返ってくる．含まれていない場合は-1が返ってくる．"
   ]
  },
  {
   "cell_type": "code",
   "execution_count": 41,
   "id": "a0c7b154-3f9a-4464-aa20-a050fb620f98",
   "metadata": {},
   "outputs": [
    {
     "name": "stdout",
     "output_type": "stream",
     "text": [
      "6\n",
      "-1\n"
     ]
    }
   ],
   "source": [
    "greeting = \"Hello Python!\"\n",
    "\n",
    "P = greeting.find(\"P\")  # スペースも1文字としてカウント\n",
    "python = greeting.find(\"python\")  # 大文字と小文字は区別する\n",
    "\n",
    "print(P)\n",
    "print(python)"
   ]
  },
  {
   "cell_type": "markdown",
   "id": "593bd1e8-74fe-4b7d-898e-ac42fa914d22",
   "metadata": {},
   "source": [
    "## 文字列の置換\n",
    "replaceメソッドを使用すると，文字列の一部を任意の文字列に置換することができる．"
   ]
  },
  {
   "cell_type": "code",
   "execution_count": 46,
   "id": "d0763958-5bfe-4c8d-9508-4d86e8a3fb4f",
   "metadata": {},
   "outputs": [
    {
     "name": "stdout",
     "output_type": "stream",
     "text": [
      "私達は マクドナルドのことを マックと呼びます\n",
      "私達は マクドナルドのことを マクドと呼びます\n"
     ]
    }
   ],
   "source": [
    "kanntou = \"私達は マクドナルドのことを マックと呼びます\"\n",
    "kannsai = kanntou.replace(\"マック\", \"マクド\")\n",
    "\n",
    "print(kanntou)\n",
    "print(kannsai)"
   ]
  },
  {
   "cell_type": "markdown",
   "id": "3b3b56bc-c894-427d-9568-3425ebc65120",
   "metadata": {},
   "source": [
    "## 変数を含む文字列\n",
    "formatメソッドを使用して，クオーテーションの中でも変数を呼び出せるようにする．"
   ]
  },
  {
   "cell_type": "code",
   "execution_count": 63,
   "id": "36dc041e-ff5e-4a6a-b4dd-028956fd494f",
   "metadata": {},
   "outputs": [
    {
     "name": "stdout",
     "output_type": "stream",
     "text": [
      "2の10乗は1024です．\n"
     ]
    }
   ],
   "source": [
    "N = 2 ** 10\n",
    "\n",
    "print(\"2の10乗は{}です．\".format(N))"
   ]
  },
  {
   "cell_type": "code",
   "execution_count": 69,
   "id": "cf4a99e5-bcd1-403d-8f01-da59820cf17b",
   "metadata": {},
   "outputs": [
    {
     "name": "stdout",
     "output_type": "stream",
     "text": [
      "2の10乗は1024です．\n"
     ]
    }
   ],
   "source": [
    "# formatメソッドの引数に計算式を与えることもできる．\n",
    "a = 2\n",
    "x = 10\n",
    "\n",
    "print(\"{}の{}乗は{}です．\".format(a, x, a ** x))"
   ]
  },
  {
   "cell_type": "code",
   "execution_count": 71,
   "id": "d0afa842-deb8-4493-9572-61843470d718",
   "metadata": {},
   "outputs": [
    {
     "name": "stdout",
     "output_type": "stream",
     "text": [
      "2の10乗は1024です．\n"
     ]
    }
   ],
   "source": [
    "# 呼び出す順番を変える方法．\n",
    "a = 2\n",
    "x = 10\n",
    "\n",
    "print(\"{1}の{0}乗は{2}です．\".format(x, a, a ** x))"
   ]
  },
  {
   "cell_type": "code",
   "execution_count": 73,
   "id": "d3e106a9-11e9-4e01-8411-08c4e02633ad",
   "metadata": {},
   "outputs": [
    {
     "name": "stdout",
     "output_type": "stream",
     "text": [
      "2の10乗は1024です．\n"
     ]
    }
   ],
   "source": [
    "# キーワード引数で呼び出すこともできる\n",
    "a = 2\n",
    "x = 10\n",
    "\n",
    "print(\"{tei}の{shisuu}乗は{result}です．\".format( result=a ** x, shisuu=x, tei=a))"
   ]
  },
  {
   "cell_type": "markdown",
   "id": "f911e562-c64d-49e2-be00-d1ff7ca7dd08",
   "metadata": {},
   "source": [
    "コロンの後に書式を指定することもできる．"
   ]
  },
  {
   "cell_type": "code",
   "execution_count": 76,
   "id": "61b25c94-f47f-4ebe-8138-d5bf6e5d9a41",
   "metadata": {},
   "outputs": [
    {
     "name": "stdout",
     "output_type": "stream",
     "text": [
      "2の10乗は1024.00です．\n"
     ]
    }
   ],
   "source": [
    "a = 2\n",
    "x = 10\n",
    "\n",
    "print(\"{}の{}乗は{:.2f}です．\".format(a, x, a ** x))"
   ]
  },
  {
   "cell_type": "markdown",
   "id": "e5368278-517b-4227-b95a-49f049195ebb",
   "metadata": {},
   "source": [
    "フォーマット済みメソッドを用いることもできる．(Python3.6以降)"
   ]
  },
  {
   "cell_type": "code",
   "execution_count": 80,
   "id": "abc69e05-b7a6-4e82-a29c-c37dcea981e5",
   "metadata": {},
   "outputs": [
    {
     "name": "stdout",
     "output_type": "stream",
     "text": [
      "2の10乗は1024です．\n"
     ]
    }
   ],
   "source": [
    "# formatメソッドの引数に計算式を与えることもできる．\n",
    "a = 2\n",
    "x = 10\n",
    "\n",
    "print(f\"{a}の{x}乗は{a ** x}です．\")"
   ]
  },
  {
   "cell_type": "code",
   "execution_count": 86,
   "id": "f63ecbeb-1486-4a9a-85ef-2df0576de853",
   "metadata": {},
   "outputs": [
    {
     "name": "stdout",
     "output_type": "stream",
     "text": [
      "2の10乗は1.02e+03です．\n"
     ]
    }
   ],
   "source": [
    "# formatメソッドでの書式指定\n",
    "a = 2\n",
    "x = 10\n",
    "\n",
    "print(f\"{a}の{x}乗は{a ** x:.2e}です．\")"
   ]
  },
  {
   "cell_type": "markdown",
   "id": "674e5ff8-0205-4b90-bd8b-2d3d943d6c7d",
   "metadata": {},
   "source": [
    "参考：以上はキノコードさん([[ブログ](https://kino-code.com/)・[You Tube](https://youtube.com/@kinocode?si=B4f5QLuWVA9U65uI]))のYou Tube動画を見て勉強した内容をまとめたものです．"
   ]
  },
  {
   "cell_type": "code",
   "execution_count": null,
   "id": "e5b19040-4526-4eec-a764-b0bcd6ffba33",
   "metadata": {},
   "outputs": [],
   "source": []
  }
 ],
 "metadata": {
  "kernelspec": {
   "display_name": "Python 3 (ipykernel)",
   "language": "python",
   "name": "python3"
  },
  "language_info": {
   "codemirror_mode": {
    "name": "ipython",
    "version": 3
   },
   "file_extension": ".py",
   "mimetype": "text/x-python",
   "name": "python",
   "nbconvert_exporter": "python",
   "pygments_lexer": "ipython3",
   "version": "3.11.9"
  }
 },
 "nbformat": 4,
 "nbformat_minor": 5
}
