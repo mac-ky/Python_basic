{
 "cells": [
  {
   "cell_type": "markdown",
   "id": "24966f57-c902-4cb9-b0d7-3f1f192af1f1",
   "metadata": {},
   "source": [
    "# ファイル操作"
   ]
  },
  {
   "cell_type": "markdown",
   "id": "8b990831-b44f-4cbf-ab59-f8ff643af07b",
   "metadata": {},
   "source": [
    "## ファイルの種類\n",
    "- テキストファイル：文字コードを使用して文字で出力できるファイル\n",
    "- バイナリファイル：コンピュータが理解できるように，データを0と1で表したファイル．"
   ]
  },
  {
   "cell_type": "markdown",
   "id": "fcc40bd4-de12-451a-957c-e2f7025ca13d",
   "metadata": {},
   "source": [
    "## ファイルの作成・書き込み\n",
    "open関数でファイルの作成や書き込みができる"
   ]
  },
  {
   "cell_type": "code",
   "execution_count": 5,
   "id": "2e55ca4d-1427-4c3e-bb61-90d47742f709",
   "metadata": {},
   "outputs": [],
   "source": [
    "f = open(\"hoge.txt\", \"w\")  # ファイル名とモード(ここでは新規作成作成のwriteモード)を引数に与える\n",
    "f.write(\"hogehoge\")  # テキストをファイルに書き込む\n",
    "f.close()  # ファイルの作成を完了\n"
   ]
  },
  {
   "cell_type": "markdown",
   "id": "c9484930-aa94-4b79-91c2-36f20e946b4e",
   "metadata": {},
   "source": [
    "hoge.txt：\n",
    "```text\n",
    "hogehoge\n",
    "```"
   ]
  },
  {
   "cell_type": "code",
   "execution_count": 9,
   "id": "df02b028-2dea-42d5-b8d4-4e1a592afcf9",
   "metadata": {},
   "outputs": [],
   "source": [
    "# with文と併せて使うと，close()を書く必要がなくなる\n",
    "with open(\"hoge.txt\", \"w\") as f:\n",
    "    f.write(\"hogehoge new\") \n"
   ]
  },
  {
   "cell_type": "markdown",
   "id": "3966ad1f-b195-4a59-aa65-e3982898ea54",
   "metadata": {},
   "source": [
    "hoge.txt：\n",
    "```text\n",
    "hogehoge new\n",
    "```"
   ]
  },
  {
   "cell_type": "code",
   "execution_count": 13,
   "id": "d1844534-9e77-4603-9176-5c981bf175e1",
   "metadata": {},
   "outputs": [],
   "source": [
    "# '''(トリプルクォート)で改行を含むテキストをそのまま書き込める\n",
    "convenience = '''\\\n",
    "ローソン\n",
    "セブンイレブン\n",
    "ファミリーマート\n",
    "'''\n",
    "\n",
    "with open (\"store.txt\", \"w\") as f:\n",
    "    f.write(convenience)"
   ]
  },
  {
   "cell_type": "markdown",
   "id": "598fffed-e147-4a35-a787-3478312d0b44",
   "metadata": {},
   "source": [
    "hoge.txt：\n",
    "```text\n",
    "ローソン\n",
    "セブンイレブン\n",
    "ファミリーマート\n",
    "```"
   ]
  },
  {
   "cell_type": "code",
   "execution_count": 16,
   "id": "9003f9d0-4bec-4d78-a5dc-575ca5238c27",
   "metadata": {},
   "outputs": [],
   "source": [
    "# モードを\"a\"にするとファイルの末尾にテキストが追加される(appendモード)\n",
    "with open(\"store.txt\", \"a\") as f:\n",
    "    f.write(\"サークルＫ\\n\") \n"
   ]
  },
  {
   "cell_type": "markdown",
   "id": "23e64488-e5ee-40b2-abbf-440229e62e61",
   "metadata": {},
   "source": [
    "hoge.txt：\n",
    "```text\n",
    "ローソン\n",
    "セブンイレブン\n",
    "ファミリーマート\n",
    "サークルＫ\n",
    "\n",
    "```"
   ]
  },
  {
   "cell_type": "markdown",
   "id": "2504fabe-3991-4a7e-bcaf-27a59077c242",
   "metadata": {},
   "source": [
    "## ファイルの読み込み\n",
    "open関数のモードを\"r\"(readモード)にする"
   ]
  },
  {
   "cell_type": "code",
   "execution_count": 22,
   "id": "eeb4a3e5-43b9-4a19-98df-1be1fb610d55",
   "metadata": {},
   "outputs": [
    {
     "name": "stdout",
     "output_type": "stream",
     "text": [
      "ローソン\n",
      "セブンイレブン\n",
      "ファミリーマート\n",
      "サークルＫ\n",
      "\n"
     ]
    }
   ],
   "source": [
    "with open(\"store.txt\", \"r\") as f:\n",
    "    print(f.read())\n"
   ]
  },
  {
   "cell_type": "code",
   "execution_count": 25,
   "id": "070be932-e80f-4baf-b8fb-f7676f5a8f79",
   "metadata": {},
   "outputs": [
    {
     "name": "stdout",
     "output_type": "stream",
     "text": [
      "ローソン\n",
      "セブンイレブン\n"
     ]
    }
   ],
   "source": [
    "# readlineメソッドではⅠ行ずつ読み込まれるので，任意の行数まで読み込みたいときにはreadlineメソッドを使う\n",
    "with open(\"store.txt\", \"r\") as f:\n",
    "    for i in range(2):\n",
    "        print(f.readline(), end=\"\")"
   ]
  },
  {
   "cell_type": "markdown",
   "id": "170d72cb-3193-47ae-a42e-d131afad0448",
   "metadata": {},
   "source": [
    "## ファイルの読み込み・書き込み\n",
    "open関数のモードを\"w+\", \"a+\", \"r+\"にすると，読み込みと書き込みができる．"
   ]
  },
  {
   "cell_type": "markdown",
   "id": "0ba6e31a-a32e-464c-a3f9-81a9e8c99c00",
   "metadata": {},
   "source": [
    "\"r+\"モードは基本は読み込みなので，存在しないファイルを指定するとエラーになる．\n"
   ]
  },
  {
   "cell_type": "code",
   "execution_count": 76,
   "id": "52e55cea-80d7-4e40-b062-6b89fa967ca9",
   "metadata": {},
   "outputs": [
    {
     "name": "stdout",
     "output_type": "stream",
     "text": [
      "デイリーヤマザキ\n",
      "レブン\n",
      "ファミリーマート\n",
      "サークルＫ\n",
      "デイリーヤマザキ\n"
     ]
    }
   ],
   "source": [
    "with open(\"store.txt\", \"r+\") as f:\n",
    "    print(f.read())\n",
    "    f.write(\"デイリーヤマザキ\\n\") \n"
   ]
  },
  {
   "cell_type": "markdown",
   "id": "3a03e759-0945-4e57-8c2d-6fb0424b67a0",
   "metadata": {},
   "source": [
    "hoge.txt：\n",
    "```text\n",
    "ローソン\n",
    "セブンイレブン\n",
    "ファミリーマート\n",
    "サークルＫ\n",
    "デイリーヤマザキ\n",
    "\n",
    "```"
   ]
  },
  {
   "cell_type": "code",
   "execution_count": 45,
   "id": "ee99dd9c-5ebe-4eb8-8883-f10152e23fc1",
   "metadata": {},
   "outputs": [],
   "source": [
    "# readメソッドを使用しない場合テキストの最初から書き込まれる\n",
    "with open(\"store.txt\", \"r+\") as f:\n",
    "    f.write(\"デイリーヤマザキ\\n\") \n"
   ]
  },
  {
   "cell_type": "markdown",
   "id": "16fb32a7-842b-49f5-84d5-df92317c05ee",
   "metadata": {},
   "source": [
    "hoge.txt：\n",
    "```text\n",
    "デイリーヤマザキ\n",
    "レブン\n",
    "ファミリーマート\n",
    "サークルＫ\n",
    "デイリーヤマザキ\n",
    "\n",
    "```"
   ]
  },
  {
   "cell_type": "code",
   "execution_count": 73,
   "id": "4a5460e7-6202-4fd1-a9c9-bef7f10b660f",
   "metadata": {},
   "outputs": [],
   "source": [
    "# seekメソッドにテキストの途中の任意の位置から操作できる．\n",
    "with open(\"hoge.txt\", \"r+\") as f:\n",
    "    f.seek(4)\n",
    "    f.write(\"fuga\")  \n"
   ]
  },
  {
   "cell_type": "markdown",
   "id": "a7153a5e-ffba-4c66-bee6-a31c0ca644d8",
   "metadata": {},
   "source": [
    "hoge.txt：\n",
    "```text\n",
    "hogefuga new\n",
    "```"
   ]
  },
  {
   "cell_type": "markdown",
   "id": "d6b9b9bf-9047-4dbf-8dea-4f2bc387bf2b",
   "metadata": {},
   "source": [
    "\"w+\"モードはファイルが存在しない場合は新規作成，存在する場合は上書き"
   ]
  },
  {
   "cell_type": "code",
   "execution_count": 89,
   "id": "5c21d315-0e8e-4cc1-80a7-1d74c276825e",
   "metadata": {},
   "outputs": [
    {
     "name": "stdout",
     "output_type": "stream",
     "text": [
      "\n"
     ]
    }
   ],
   "source": [
    "company = '''\\\n",
    "JR北海道\n",
    "JR東日本\n",
    "JR東海\n",
    "JR西日本\n",
    "JR四国\n",
    "JR九州\n",
    "'''\n",
    "\n",
    "with open(\"JR.txt\", \"w+\") as f:\n",
    "    f.write(company)\n",
    "    print(f.read())  # 書き込んだ時点でファイルの末尾にいるので，それ以降を読み込もうとしても何も表示されない．"
   ]
  },
  {
   "cell_type": "markdown",
   "id": "c8419186-c68d-4075-94b9-bd02894eb835",
   "metadata": {},
   "source": [
    "JR.txt：\n",
    "```text\n",
    "JR北海道\n",
    "JR東日本\n",
    "JR東海\n",
    "JR西日本\n",
    "JR四国\n",
    "JR九州\n",
    "```"
   ]
  },
  {
   "cell_type": "code",
   "execution_count": 92,
   "id": "b50c8594-c26f-440e-9411-b6452723764c",
   "metadata": {},
   "outputs": [
    {
     "name": "stdout",
     "output_type": "stream",
     "text": [
      "JR北海道\n",
      "JR東日本\n",
      "JR東海\n",
      "JR西日本\n",
      "JR四国\n",
      "JR九州\n",
      "\n"
     ]
    }
   ],
   "source": [
    "company = '''\\\n",
    "JR北海道\n",
    "JR東日本\n",
    "JR東海\n",
    "JR西日本\n",
    "JR四国\n",
    "JR九州\n",
    "'''\n",
    "\n",
    "with open(\"JR.txt\", \"w+\") as f:\n",
    "    f.write(company)\n",
    "    f.seek(0)  # 先頭に移動\n",
    "    print(f.read())"
   ]
  },
  {
   "cell_type": "markdown",
   "id": "617b45f7-d667-4e36-a19e-1aa681a7eab4",
   "metadata": {},
   "source": [
    "\"w+\"モードはファイルの末尾へのテキストの追加と読み込みができる"
   ]
  },
  {
   "cell_type": "code",
   "execution_count": 95,
   "id": "68f73785-c5c3-4f13-bf23-a4bab3010f93",
   "metadata": {},
   "outputs": [
    {
     "name": "stdout",
     "output_type": "stream",
     "text": [
      "JR北海道\n",
      "JR東日本\n",
      "JR東海\n",
      "JR西日本\n",
      "JR四国\n",
      "JR九州\n",
      "JR貨物\n",
      "\n"
     ]
    }
   ],
   "source": [
    "with open(\"JR.txt\", \"a+\") as f:\n",
    "    f.write(\"JR貨物\\n\")\n",
    "    f.seek(0)  # 先頭に移動\n",
    "    print(f.read())"
   ]
  },
  {
   "cell_type": "markdown",
   "id": "c1f5d9b6-3bae-4ded-999c-d623ab23ab7c",
   "metadata": {},
   "source": [
    "JR.txt：\n",
    "```text\n",
    "JR北海道\n",
    "JR東日本\n",
    "JR東海\n",
    "JR西日本\n",
    "JR四国\n",
    "JR九州\n",
    "JR貨物\n",
    "```"
   ]
  },
  {
   "cell_type": "markdown",
   "id": "cec7c885-1f56-441f-8166-0a5d7772a5f5",
   "metadata": {},
   "source": [
    "参考：以上はキノコードさん([[ブログ](https://kino-code.com/)・[You Tube](https://youtube.com/@kinocode?si=B4f5QLuWVA9U65uI]))のYou Tube動画を見て勉強した内容をまとめたものです．"
   ]
  },
  {
   "cell_type": "code",
   "execution_count": null,
   "id": "d9618d4e-cab9-44e8-8864-5b5aeb4902fc",
   "metadata": {},
   "outputs": [],
   "source": []
  }
 ],
 "metadata": {
  "kernelspec": {
   "display_name": "model_estimation",
   "language": "python",
   "name": "model_estimation"
  },
  "language_info": {
   "codemirror_mode": {
    "name": "ipython",
    "version": 3
   },
   "file_extension": ".py",
   "mimetype": "text/x-python",
   "name": "python",
   "nbconvert_exporter": "python",
   "pygments_lexer": "ipython3",
   "version": "3.10.9"
  }
 },
 "nbformat": 4,
 "nbformat_minor": 5
}
