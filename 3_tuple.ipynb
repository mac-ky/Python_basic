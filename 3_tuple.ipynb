{
 "cells": [
  {
   "cell_type": "markdown",
   "id": "f3b08c13-698c-498a-b890-b3fa425ec8c8",
   "metadata": {},
   "source": [
    "# tuple型\n",
    "リストとよく似ているが，要素の追加，変更，削除ができない点が異なる．：indexメソッドとcountメソッドしか用意されていない．"
   ]
  },
  {
   "cell_type": "markdown",
   "id": "291cc21e-e225-45dd-905d-0a5c02673792",
   "metadata": {},
   "source": [
    "## タプルの作り方\n",
    "丸括弧とコンマで記述する．"
   ]
  },
  {
   "cell_type": "code",
   "execution_count": 219,
   "id": "12699eca-d1f5-4a74-98dd-61ca6f066e44",
   "metadata": {},
   "outputs": [
    {
     "name": "stdout",
     "output_type": "stream",
     "text": [
      "('Hokkaido', 'Tohoku', 'Tokyo', 'Nagoya', 'Kyoto', 'Osaka', 'Kyusyu')\n",
      "<class 'tuple'>\n"
     ]
    }
   ],
   "source": [
    "T_university = ('Hokkaido','Tohoku','Tokyo','Nagoya', 'Kyoto','Osaka','Kyusyu')\n",
    "print(T_university)\n",
    "print(type(T_university))"
   ]
  },
  {
   "cell_type": "markdown",
   "id": "03515592-b00d-44bd-a191-51e5ae841972",
   "metadata": {},
   "source": [
    "## タプルへのアクセス\n",
    "タプルの要素にアクセスするときはインデックス番号を指定する．"
   ]
  },
  {
   "cell_type": "code",
   "execution_count": 223,
   "id": "8dc0c934-eede-4e5e-b40e-0d6498a8dc98",
   "metadata": {},
   "outputs": [
    {
     "name": "stdout",
     "output_type": "stream",
     "text": [
      "Hokkaido\n",
      "Nagoya\n"
     ]
    }
   ],
   "source": [
    "T_university = ('Hokkaido','Tohoku','Tokyo','Nagoya', 'Kyoto','Osaka','Kyusyu')\n",
    "\n",
    "# インデックスは0から順に振られている．\n",
    "# 角括弧の中にインデックス番号を指定することでアクセスできる．\n",
    "print(T_university[0])  # 1つ目の要素が表示される\n",
    "print(T_university[3])  # 4つ目の要素が表示される"
   ]
  },
  {
   "cell_type": "markdown",
   "id": "0a28a1be-63db-4c16-8cb6-49f0e4e4eb92",
   "metadata": {},
   "source": [
    "タプルでは要素の追加，変更，削除ができない．"
   ]
  },
  {
   "cell_type": "code",
   "execution_count": 229,
   "id": "fd39419e-299e-41d8-a336-9458277eb0a3",
   "metadata": {},
   "outputs": [
    {
     "ename": "TypeError",
     "evalue": "'tuple' object does not support item assignment",
     "output_type": "error",
     "traceback": [
      "\u001b[0;31m---------------------------------------------------------------------------\u001b[0m",
      "\u001b[0;31mTypeError\u001b[0m                                 Traceback (most recent call last)",
      "Cell \u001b[0;32mIn[229], line 4\u001b[0m\n\u001b[1;32m      1\u001b[0m \u001b[38;5;66;03m# これはエラーになる．\u001b[39;00m\n\u001b[1;32m      2\u001b[0m T_university \u001b[38;5;241m=\u001b[39m (\u001b[38;5;124m'\u001b[39m\u001b[38;5;124mHokkaido\u001b[39m\u001b[38;5;124m'\u001b[39m,\u001b[38;5;124m'\u001b[39m\u001b[38;5;124mTohoku\u001b[39m\u001b[38;5;124m'\u001b[39m,\u001b[38;5;124m'\u001b[39m\u001b[38;5;124mTokyo\u001b[39m\u001b[38;5;124m'\u001b[39m,\u001b[38;5;124m'\u001b[39m\u001b[38;5;124mNagoya\u001b[39m\u001b[38;5;124m'\u001b[39m, \u001b[38;5;124m'\u001b[39m\u001b[38;5;124mKyoto\u001b[39m\u001b[38;5;124m'\u001b[39m,\u001b[38;5;124m'\u001b[39m\u001b[38;5;124mOsaka\u001b[39m\u001b[38;5;124m'\u001b[39m,\u001b[38;5;124m'\u001b[39m\u001b[38;5;124mKyusyu\u001b[39m\u001b[38;5;124m'\u001b[39m)\n\u001b[0;32m----> 4\u001b[0m T_university[\u001b[38;5;241m3\u001b[39m] \u001b[38;5;241m=\u001b[39m \u001b[38;5;124m'\u001b[39m\u001b[38;5;124mTsukuba\u001b[39m\u001b[38;5;124m'\u001b[39m\n\u001b[1;32m      6\u001b[0m \u001b[38;5;28mprint\u001b[39m(T_university)\n",
      "\u001b[0;31mTypeError\u001b[0m: 'tuple' object does not support item assignment"
     ]
    }
   ],
   "source": [
    "# これはエラーになる．\n",
    "T_university = ('Hokkaido','Tohoku','Tokyo','Nagoya', 'Kyoto','Osaka','Kyusyu')\n",
    "\n",
    "T_university[3] = 'Tsukuba'\n",
    "\n",
    "print(T_university)"
   ]
  },
  {
   "cell_type": "markdown",
   "id": "f8445e2e-9522-46ba-b9b9-f871185947b1",
   "metadata": {},
   "source": [
    "## タプルのスライス\n",
    "要素の取得では，開始位置と終了位置のインデックスを指定することができる．"
   ]
  },
  {
   "cell_type": "code",
   "execution_count": 235,
   "id": "c89c46e8-13ac-4e02-913d-8c5a6389e975",
   "metadata": {},
   "outputs": [
    {
     "name": "stdout",
     "output_type": "stream",
     "text": [
      "(1, 2)\n",
      "(2, 3, 5, 8, 13)\n",
      "(0,)\n"
     ]
    }
   ],
   "source": [
    "T_fibo = (0,1,1,2,3,5,8,13)\n",
    "\n",
    "# インデックスを範囲で指定する\n",
    "print(T_fibo[2:4])  # 2番目から4番目(4番目は含まない)\n",
    "print(T_fibo[3:])  # 3番目以降\n",
    "print(T_fibo[:1])  # 1番目まで(1番目は含まない)"
   ]
  },
  {
   "cell_type": "code",
   "execution_count": 237,
   "id": "62b9e2b6-02f2-4ddd-aa37-23362624ef8a",
   "metadata": {},
   "outputs": [
    {
     "name": "stdout",
     "output_type": "stream",
     "text": [
      "(0, 2, 8)\n",
      "(13, 5, 2, 1)\n"
     ]
    }
   ],
   "source": [
    "T_fibo = (0,1,1,2,3,5,8,13)\n",
    "\n",
    "# コロンを２つ重ねると，ステップして指定することができる．\n",
    "print(T_fibo[::3])  # 2つ飛ばしで指定\n",
    "print(T_fibo[::-2])  # 後ろから1つ飛ばしで指定"
   ]
  },
  {
   "cell_type": "markdown",
   "id": "0a52c1f1-a6a7-45cf-a671-ad30b6cde422",
   "metadata": {},
   "source": [
    "## 多次元タプル\n",
    "タプルの中にタプルを入れることができる"
   ]
  },
  {
   "cell_type": "code",
   "execution_count": 243,
   "id": "9cb090ca-9c60-4d2b-87ea-34518aa0a31a",
   "metadata": {},
   "outputs": [
    {
     "name": "stdout",
     "output_type": "stream",
     "text": [
      "Tokyo\n"
     ]
    }
   ],
   "source": [
    "T_university = (['Hokkaido','Tohoku'],['Tokyo','Nagoya'], ['Kyoto','Osaka'],['Kyusyu'])\n",
    "\n",
    "print(T_university[1][0])  # 1つ目のリストの1番目の要素"
   ]
  },
  {
   "cell_type": "markdown",
   "id": "5248c3fc-7338-4279-b2b7-83f6fb139501",
   "metadata": {},
   "source": [
    "## タプルの足し算，掛け算"
   ]
  },
  {
   "cell_type": "code",
   "execution_count": 251,
   "id": "0dd78f82-1636-4c32-a0a3-1d57735490f5",
   "metadata": {},
   "outputs": [
    {
     "name": "stdout",
     "output_type": "stream",
     "text": [
      "(0, 1, 1, 2, 3, 5, 8, 13, 21, 34)\n"
     ]
    }
   ],
   "source": [
    "T_fibo = (0,1,1,2,3,5,8,13)\n",
    "\n",
    "# データ型を揃えると足し算が可能\n",
    "T_fibo_append = T_fibo + (21,34)\n",
    "\n",
    "print(T_fibo_append)"
   ]
  },
  {
   "cell_type": "code",
   "execution_count": 253,
   "id": "dd7e0edf-bc25-46a7-adb6-98aea0a14ed4",
   "metadata": {},
   "outputs": [
    {
     "name": "stdout",
     "output_type": "stream",
     "text": [
      "(0, 1, 1, 2, 3, 5, 8, 13, 0, 1, 1, 2, 3, 5, 8, 13)\n"
     ]
    }
   ],
   "source": [
    "T_fibo = (0,1,1,2,3,5,8,13)\n",
    "\n",
    "# 掛け算によってリストの要素を繰り返すことができる\n",
    "T_fibo_repeat = T_fibo * 2\n",
    "\n",
    "print(T_fibo_repeat)"
   ]
  },
  {
   "cell_type": "markdown",
   "id": "21cc7971-78e5-460d-aec2-8d69d77de537",
   "metadata": {},
   "source": [
    "## タプルのメソッド・組み込み関数・演算子"
   ]
  },
  {
   "cell_type": "markdown",
   "id": "aa3bc674-afb1-4d1b-8ebb-e1a06b578eda",
   "metadata": {},
   "source": [
    "indexメソッドで要素が何個目にあるか調べることができる．"
   ]
  },
  {
   "cell_type": "code",
   "execution_count": 267,
   "id": "1b86279b-2369-45aa-9d06-f763e9480409",
   "metadata": {},
   "outputs": [
    {
     "name": "stdout",
     "output_type": "stream",
     "text": [
      "5\n",
      "1\n"
     ]
    }
   ],
   "source": [
    "T_fibo = (0,1,1,2,3,5,8,13)\n",
    "\n",
    "print(T_fibo.index(5))\n",
    "print(T_fibo.index(1))"
   ]
  },
  {
   "cell_type": "markdown",
   "id": "60e32f2d-8dce-4a67-b0f9-25b46a9a30c9",
   "metadata": {},
   "source": [
    "countメソッドで指定した要素がいくつあるかを取得することができる．"
   ]
  },
  {
   "cell_type": "code",
   "execution_count": 262,
   "id": "93b5f752-47d4-49b6-ad08-9e52d2a08bb5",
   "metadata": {},
   "outputs": [
    {
     "name": "stdout",
     "output_type": "stream",
     "text": [
      "2\n"
     ]
    }
   ],
   "source": [
    "T_fibo = (0,1,1,2,3,5,8,13)\n",
    "\n",
    "print(T_fibo.count(1))"
   ]
  },
  {
   "cell_type": "markdown",
   "id": "576c29a5-e6fd-4a8b-adb1-97666b2238d0",
   "metadata": {},
   "source": [
    "in演算子でリストの中に指定した要素が含まれているかを判定する．"
   ]
  },
  {
   "cell_type": "code",
   "execution_count": 276,
   "id": "6655f1e3-a085-47cc-a27b-6fdc20c31390",
   "metadata": {},
   "outputs": [
    {
     "name": "stdout",
     "output_type": "stream",
     "text": [
      "True\n",
      "False\n"
     ]
    }
   ],
   "source": [
    "T_university = ('Hokkaido','Tohoku','Tokyo','Nagoya', 'Kyoto','Osaka','Kyusyu')\n",
    "\n",
    "print('Osaka' in T_university)  # True\n",
    "print('Kanazawa' in T_university)  # False"
   ]
  },
  {
   "cell_type": "markdown",
   "id": "9317f047-7ddc-42dc-adbf-6c600f0bdaba",
   "metadata": {},
   "source": [
    "sorted関数でタプルの要素を並び替えることができる．"
   ]
  },
  {
   "cell_type": "code",
   "execution_count": 287,
   "id": "16f4718f-f3cb-4a7c-bd6a-752fafbc6495",
   "metadata": {},
   "outputs": [
    {
     "name": "stdout",
     "output_type": "stream",
     "text": [
      "[0, 1, 1, 2, 3, 5, 8, 13]\n"
     ]
    }
   ],
   "source": [
    "T_fibo = (0,1,2,13,8,1,5,3)\n",
    "\n",
    "print(sorted(T_fibo))  # reverse=Trueを指定すると大きい順に並び替えられる．"
   ]
  },
  {
   "cell_type": "markdown",
   "id": "cf1b8abb-962c-4f7f-aaad-b5307bd60305",
   "metadata": {},
   "source": [
    "max関数/min関数でリスト内の要素の最大値/最小値を取得できる．\n"
   ]
  },
  {
   "cell_type": "code",
   "execution_count": 289,
   "id": "87f21163-d6d6-443f-835c-863d1e8183e9",
   "metadata": {},
   "outputs": [
    {
     "name": "stdout",
     "output_type": "stream",
     "text": [
      "13\n",
      "0\n"
     ]
    }
   ],
   "source": [
    "T_fibo = (0,1,1,2,3,5,8,13)\n",
    "\n",
    "print(max(T_fibo))\n",
    "print(min(T_fibo))"
   ]
  },
  {
   "cell_type": "markdown",
   "id": "f0e4b7ff-7b43-47c6-9f0c-6b8be07a696c",
   "metadata": {},
   "source": [
    "参考：以上はキノコードさん([[ブログ](https://kino-code.com/)・[You Tube](https://youtube.com/@kinocode?si=B4f5QLuWVA9U65uI]))のYou Tube動画を見て勉強した内容をまとめたものです．"
   ]
  },
  {
   "cell_type": "code",
   "execution_count": null,
   "id": "b61f601b-3afc-4f9a-ae39-f9bb7f9fee2e",
   "metadata": {},
   "outputs": [],
   "source": []
  }
 ],
 "metadata": {
  "kernelspec": {
   "display_name": "Python 3 (ipykernel)",
   "language": "python",
   "name": "python3"
  },
  "language_info": {
   "codemirror_mode": {
    "name": "ipython",
    "version": 3
   },
   "file_extension": ".py",
   "mimetype": "text/x-python",
   "name": "python",
   "nbconvert_exporter": "python",
   "pygments_lexer": "ipython3",
   "version": "3.11.9"
  }
 },
 "nbformat": 4,
 "nbformat_minor": 5
}
