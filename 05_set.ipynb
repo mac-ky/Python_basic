{
 "cells": [
  {
   "cell_type": "markdown",
   "id": "2614669c-093c-4564-a8ea-647a73249143",
   "metadata": {},
   "source": [
    "# set型(集合)\n",
    "ある条件を満たす集まりのことで，リストやタプルと異なり，要素に順番がなく，重複にも意味がない．そのため，重複した要素を削除したいときなどに利用する．"
   ]
  },
  {
   "cell_type": "markdown",
   "id": "3a9e83ed-d257-4854-a37e-cc917b26b190",
   "metadata": {},
   "source": [
    "## 集合の作り方\n",
    "波括弧とコンマで記述する．"
   ]
  },
  {
   "cell_type": "code",
   "execution_count": 23,
   "id": "12173a7f-990b-4e63-8b32-1561898175e4",
   "metadata": {},
   "outputs": [
    {
     "name": "stdout",
     "output_type": "stream",
     "text": [
      "{2, 3, 6, 7, -2}\n",
      "<class 'set'>\n"
     ]
    }
   ],
   "source": [
    "Se_int = {-2, 3, 6, 7, 3, 3, 2, 6}\n",
    "\n",
    "print(Se_int)  # 重複，順番がないので，{2, 3, 6, 7, -2}となる．\n",
    "\n",
    "print(type(Se_int))"
   ]
  },
  {
   "cell_type": "markdown",
   "id": "2062e9f6-45e6-4615-add5-3b9e5504a467",
   "metadata": {},
   "source": [
    "集合の要素に更新や削除ができる，リストや辞書を含むことはできない．"
   ]
  },
  {
   "cell_type": "code",
   "execution_count": 25,
   "id": "9cddb594-f8a8-4e5f-9ec9-ee2da434d634",
   "metadata": {},
   "outputs": [
    {
     "ename": "TypeError",
     "evalue": "unhashable type: 'list'",
     "output_type": "error",
     "traceback": [
      "\u001b[0;31m---------------------------------------------------------------------------\u001b[0m",
      "\u001b[0;31mTypeError\u001b[0m                                 Traceback (most recent call last)",
      "Cell \u001b[0;32mIn[25], line 1\u001b[0m\n\u001b[0;32m----> 1\u001b[0m Se_int \u001b[38;5;241m=\u001b[39m {\u001b[38;5;241m-\u001b[39m\u001b[38;5;241m2\u001b[39m, \u001b[38;5;241m3\u001b[39m, [\u001b[38;5;241m6\u001b[39m, \u001b[38;5;241m7\u001b[39m, \u001b[38;5;241m3\u001b[39m], \u001b[38;5;241m3\u001b[39m, \u001b[38;5;241m2\u001b[39m, \u001b[38;5;241m6\u001b[39m}\n\u001b[1;32m      3\u001b[0m \u001b[38;5;28mprint\u001b[39m(Se_int)  \u001b[38;5;66;03m# これはエラーになる\u001b[39;00m\n\u001b[1;32m      5\u001b[0m \u001b[38;5;28mprint\u001b[39m(\u001b[38;5;28mtype\u001b[39m(Se_int))\n",
      "\u001b[0;31mTypeError\u001b[0m: unhashable type: 'list'"
     ]
    }
   ],
   "source": [
    "Se_int = {-2, 3, [6, 7, 3], 3, 2, 6}\n",
    "\n",
    "print(Se_int)  # これはエラーになる\n",
    "\n",
    "print(type(Se_int))"
   ]
  },
  {
   "cell_type": "markdown",
   "id": "0b426718-890c-4857-b504-e69cc177583f",
   "metadata": {},
   "source": [
    "set関数で作成することもできる．"
   ]
  },
  {
   "cell_type": "code",
   "execution_count": 31,
   "id": "a775dbc8-4af9-4e38-b4bc-2e6686c2a18e",
   "metadata": {},
   "outputs": [
    {
     "name": "stdout",
     "output_type": "stream",
     "text": [
      "<class 'list'>\n",
      "{2, 3, 6, 7, -2}\n",
      "<class 'set'>\n"
     ]
    }
   ],
   "source": [
    "L_int = [-2, 3, 6, 7, 3, 3, 2, 6] \n",
    "print(type(L_int))  # リストを用意する．\n",
    "\n",
    "Se_int = set(L_int)\n",
    "\n",
    "print(Se_int)\n",
    "\n",
    "print(type(Se_int))"
   ]
  },
  {
   "cell_type": "markdown",
   "id": "d5dc3f57-e681-4010-a024-0c5271d21243",
   "metadata": {},
   "source": [
    "空集合を作成するときは辞書型と認識されないように，set関数を使う．"
   ]
  },
  {
   "cell_type": "code",
   "execution_count": 36,
   "id": "d7add1fb-a65d-464e-8f97-7a396a8152d5",
   "metadata": {},
   "outputs": [
    {
     "name": "stdout",
     "output_type": "stream",
     "text": [
      "<class 'set'>\n",
      "<class 'dict'>\n"
     ]
    }
   ],
   "source": [
    "Se_empty = set()\n",
    "D_empty = {}\n",
    "\n",
    "print(type(Se_empty))  # これは集合\n",
    "print(type(D_empty))  # これは辞書"
   ]
  },
  {
   "cell_type": "markdown",
   "id": "68a8befd-7d0f-4c7e-81aa-dcc7a5fedbb0",
   "metadata": {},
   "source": [
    "## 集合のメソッド・関数・演算子"
   ]
  },
  {
   "cell_type": "markdown",
   "id": "f72727e1-b727-4c82-b5f1-863bcd23e981",
   "metadata": {},
   "source": [
    "addメソッドで集合に要素を追加することができる．"
   ]
  },
  {
   "cell_type": "code",
   "execution_count": 42,
   "id": "b0be74dc-79a3-453a-93a6-0f3a86f25e6a",
   "metadata": {},
   "outputs": [
    {
     "name": "stdout",
     "output_type": "stream",
     "text": [
      "{1, 2, 3, 6, 7, -2}\n"
     ]
    }
   ],
   "source": [
    "Se_int = {-2, 3, 6, 7, 3, 3, 2, 6}\n",
    "\n",
    "Se_int.add(1)\n",
    "\n",
    "print(Se_int)"
   ]
  },
  {
   "cell_type": "markdown",
   "id": "ab971608-2b83-4f81-ba75-302a90cb5660",
   "metadata": {},
   "source": [
    "removeメソッドで集合から要素を削除することができる．"
   ]
  },
  {
   "cell_type": "code",
   "execution_count": 45,
   "id": "f6e9ef06-844f-476f-ba1c-11309c45bec9",
   "metadata": {},
   "outputs": [
    {
     "name": "stdout",
     "output_type": "stream",
     "text": [
      "{2, 6, 7, -2}\n"
     ]
    }
   ],
   "source": [
    "Se_int = {-2, 3, 6, 7, 3, 3, 2, 6}\n",
    "\n",
    "Se_int.remove(3)\n",
    "\n",
    "print(Se_int)"
   ]
  },
  {
   "cell_type": "markdown",
   "id": "2433394e-6f9e-42a6-8ab9-d7d55386ab75",
   "metadata": {},
   "source": [
    "clearメソッドで集合から全ての要素を削除できる．"
   ]
  },
  {
   "cell_type": "code",
   "execution_count": 48,
   "id": "ed3fab0d-e768-4927-8e27-22c4266e9e74",
   "metadata": {},
   "outputs": [
    {
     "name": "stdout",
     "output_type": "stream",
     "text": [
      "set()\n"
     ]
    }
   ],
   "source": [
    "Se_int = {-2, 3, 6, 7, 3, 3, 2, 6}\n",
    "\n",
    "Se_int.clear()\n",
    "\n",
    "print(Se_int)"
   ]
  },
  {
   "cell_type": "markdown",
   "id": "2270db06-6a1d-4b2f-8b7f-fd5ecd780ae4",
   "metadata": {},
   "source": [
    "## 要素の追加や削除ができない集合\n",
    "frozenset関数を利用することで作成できる．"
   ]
  },
  {
   "cell_type": "code",
   "execution_count": 52,
   "id": "000c0a19-5039-4ce6-8a50-7edaab46aa34",
   "metadata": {},
   "outputs": [
    {
     "name": "stdout",
     "output_type": "stream",
     "text": [
      "<class 'list'>\n",
      "frozenset({2, 3, 6, 7, -2})\n",
      "<class 'frozenset'>\n"
     ]
    }
   ],
   "source": [
    "L_int = [-2, 3, 6, 7, 3, 3, 2, 6] \n",
    "print(type(L_int))  # リストを用意する．\n",
    "\n",
    "Se_int_f = frozenset(L_int)\n",
    "\n",
    "print(Se_int_f)\n",
    "\n",
    "print(type(Se_int_f))"
   ]
  },
  {
   "cell_type": "code",
   "execution_count": 56,
   "id": "2fd50b30-e2f2-413c-81b6-27ce8e934c56",
   "metadata": {},
   "outputs": [
    {
     "name": "stdout",
     "output_type": "stream",
     "text": [
      "<class 'list'>\n"
     ]
    },
    {
     "ename": "AttributeError",
     "evalue": "'frozenset' object has no attribute 'add'",
     "output_type": "error",
     "traceback": [
      "\u001b[0;31m---------------------------------------------------------------------------\u001b[0m",
      "\u001b[0;31mAttributeError\u001b[0m                            Traceback (most recent call last)",
      "Cell \u001b[0;32mIn[56], line 6\u001b[0m\n\u001b[1;32m      2\u001b[0m \u001b[38;5;28mprint\u001b[39m(\u001b[38;5;28mtype\u001b[39m(L_int))  \u001b[38;5;66;03m# リストを用意する．\u001b[39;00m\n\u001b[1;32m      4\u001b[0m Se_int_f \u001b[38;5;241m=\u001b[39m \u001b[38;5;28mfrozenset\u001b[39m(L_int)\n\u001b[0;32m----> 6\u001b[0m Se_int_f\u001b[38;5;241m.\u001b[39madd(\u001b[38;5;241m1\u001b[39m)  \u001b[38;5;66;03m# 要素の追加や削除ができないので，これはエラーになる\u001b[39;00m\n\u001b[1;32m      8\u001b[0m \u001b[38;5;28mprint\u001b[39m(Se_int_f)\n",
      "\u001b[0;31mAttributeError\u001b[0m: 'frozenset' object has no attribute 'add'"
     ]
    }
   ],
   "source": [
    "L_int = [-2, 3, 6, 7, 3, 3, 2, 6] \n",
    "print(type(L_int))  # リストを用意する．\n",
    "\n",
    "Se_int_f = frozenset(L_int)\n",
    "\n",
    "Se_int_f.add(1)  # 要素の追加や削除ができないので，これはエラーになる\n",
    "\n",
    "print(Se_int_f)"
   ]
  },
  {
   "cell_type": "markdown",
   "id": "0633aff8-93f9-4f54-aa58-de41a6ddd0e7",
   "metadata": {},
   "source": [
    "## 集合の演算\n",
    " - 和集合：集合の少なくともどちらか1つに含まれる要素の集合\n",
    " - 積集合：2つの集合のどちらにも含まれる要素の集合\n",
    " - 差集合：2つの集合のうち，集合Aには含まれ，集合Bには含まれない要素の集合\n",
    " - 対称差集合：2つの集合のうち，どちらかにだけ含まれる要素の集合"
   ]
  },
  {
   "cell_type": "markdown",
   "id": "538bbd1a-03f7-4e5f-8157-dbd41a368913",
   "metadata": {},
   "source": [
    "バーティカルライン(|)やunionメソッドを使用すると，和集合を作成できる"
   ]
  },
  {
   "cell_type": "code",
   "execution_count": 62,
   "id": "107d7558-d568-4896-80d7-51686bb98070",
   "metadata": {},
   "outputs": [
    {
     "name": "stdout",
     "output_type": "stream",
     "text": [
      "{3, 4, 5, 6}\n",
      "{3, 4, 5, 6}\n"
     ]
    }
   ],
   "source": [
    "Se_int_1 = {3, 4, 5}\n",
    "Se_int_2 = {4, 5, 6}\n",
    "\n",
    "# バーティカルラインで作成\n",
    "Se_int_uni = Se_int_1 | Se_int_2\n",
    "print(Se_int_uni)\n",
    "\n",
    "# unionメソッドで作成\n",
    "Se_int_uni = Se_int_1.union(Se_int_2)\n",
    "print(Se_int_uni)"
   ]
  },
  {
   "cell_type": "markdown",
   "id": "e05fa16d-7ce6-4e94-9b18-c3b977fb4cbd",
   "metadata": {},
   "source": [
    "アンパサンド(&)やintersectionメソッドを使用すると積集合を作成できる．"
   ]
  },
  {
   "cell_type": "code",
   "execution_count": 65,
   "id": "b5286f3f-1e54-4d0d-9645-080181453d23",
   "metadata": {},
   "outputs": [
    {
     "name": "stdout",
     "output_type": "stream",
     "text": [
      "{5}\n",
      "{5}\n"
     ]
    }
   ],
   "source": [
    "Se_int_1 = {3, 4, 5}\n",
    "Se_int_2 = {4, 5, 6}\n",
    "Se_int_3 = {5, 6, 7}\n",
    "\n",
    "# アンパサンドで作成\n",
    "Se_int_int = Se_int_1 & Se_int_2 & Se_int_3\n",
    "print(Se_int_int)\n",
    "\n",
    "# intersectionメソッドで作成\n",
    "Se_int_int = Se_int_1.intersection(Se_int_2, Se_int_3)\n",
    "print(Se_int_int)"
   ]
  },
  {
   "cell_type": "markdown",
   "id": "c415916a-4174-4101-b3e4-77a931728fe5",
   "metadata": {},
   "source": [
    "マイナス(-)やdifferenceメソッドを使用すると，差集合を作成できる．"
   ]
  },
  {
   "cell_type": "code",
   "execution_count": 70,
   "id": "5650f2f9-c60a-4760-a69b-42a86304f192",
   "metadata": {},
   "outputs": [
    {
     "name": "stdout",
     "output_type": "stream",
     "text": [
      "{3}\n",
      "{3}\n"
     ]
    }
   ],
   "source": [
    "Se_int_1 = {3, 4, 5}\n",
    "Se_int_2 = {4, 5, 6}\n",
    "\n",
    "# マイナスで作成\n",
    "Se_int_dif = Se_int_1 - Se_int_2\n",
    "print(Se_int_dif)\n",
    "\n",
    "# differenceメソッドで作成\n",
    "Se_int_dif = Se_int_1.difference(Se_int_2)\n",
    "print(Se_int_dif)"
   ]
  },
  {
   "cell_type": "markdown",
   "id": "9a73c443-415d-430a-9247-1f350a7fe00d",
   "metadata": {},
   "source": [
    "ハット(^)やsymmetric_differenceメソッドを使用すると，対称差集合を作成できる．"
   ]
  },
  {
   "cell_type": "code",
   "execution_count": 74,
   "id": "44dbec94-48af-40f4-b64d-b072ac94476b",
   "metadata": {},
   "outputs": [
    {
     "name": "stdout",
     "output_type": "stream",
     "text": [
      "{3, 6}\n",
      "{3, 6}\n"
     ]
    }
   ],
   "source": [
    "Se_int_1 = {3, 4, 5}\n",
    "Se_int_2 = {4, 5, 6}\n",
    "\n",
    "# ハットで作成\n",
    "Se_int_sym = Se_int_1 ^ Se_int_2\n",
    "print(Se_int_sym)\n",
    "\n",
    "# differenceメソッドで作成\n",
    "Se_int_sym = Se_int_1.symmetric_difference(Se_int_2)\n",
    "print(Se_int_sym)"
   ]
  },
  {
   "cell_type": "markdown",
   "id": "45cc986e-11c4-4ae0-a3ad-d8375298fd46",
   "metadata": {},
   "source": [
    "## 集合の関係\n",
    "<=やissubsetメソッドを使用すると，部分集合かどうかを判定できる．"
   ]
  },
  {
   "cell_type": "code",
   "execution_count": 78,
   "id": "3060d80e-68e4-4e4d-b2bf-23940da20e74",
   "metadata": {},
   "outputs": [
    {
     "name": "stdout",
     "output_type": "stream",
     "text": [
      "True\n",
      "True\n"
     ]
    }
   ],
   "source": [
    "Se_int_1 = {3, 4, 5}\n",
    "Se_int_2 = {3, 4, 5, 6}\n",
    "\n",
    "# <=で判定\n",
    "print(Se_int_1 <= Se_int_2)\n",
    "\n",
    "# issubsetメソッドで判定\n",
    "print(Se_int_1.issubset(Se_int_2))\n"
   ]
  },
  {
   "cell_type": "markdown",
   "id": "b9287d60-6e1a-40d1-97c2-1c8255144f65",
   "metadata": {},
   "source": [
    "==で集合が等しいかどうかを判定できる．"
   ]
  },
  {
   "cell_type": "code",
   "execution_count": 83,
   "id": "a0e32bc4-6dbf-41a5-ac10-ef8b1cc70358",
   "metadata": {},
   "outputs": [
    {
     "name": "stdout",
     "output_type": "stream",
     "text": [
      "False\n",
      "True\n"
     ]
    }
   ],
   "source": [
    "Se_int_1 = {3, 4, 5}\n",
    "Se_int_2 = {3, 4, 5, 6, 2}\n",
    "Se_int_3 = {5, 3, 4}\n",
    "\n",
    "print(Se_int_1 == Se_int_2)  # False\n",
    "print(Se_int_1 == Se_int_3)  # True"
   ]
  },
  {
   "cell_type": "markdown",
   "id": "35c106c3-4a68-44e7-8e89-f88ecd2aeb98",
   "metadata": {},
   "source": [
    "<で真部分集合(部分集合でかつ，等しい集合ではない)かどうか判定できる．"
   ]
  },
  {
   "cell_type": "code",
   "execution_count": 88,
   "id": "061d9680-cc91-41e5-a150-1eed98bef462",
   "metadata": {},
   "outputs": [
    {
     "name": "stdout",
     "output_type": "stream",
     "text": [
      "True\n",
      "False\n"
     ]
    }
   ],
   "source": [
    "Se_int_1 = {3, 4, 5}\n",
    "Se_int_2 = {3, 4, 5, 6, 2}\n",
    "Se_int_3 = {5, 3, 4}\n",
    "\n",
    "print(Se_int_1 < Se_int_2)  # True\n",
    "print(Se_int_1 < Se_int_3)  # False"
   ]
  },
  {
   "cell_type": "markdown",
   "id": "2021c18d-5bb7-47ba-93e4-47aae2401207",
   "metadata": {},
   "source": [
    "isdisjointメソッドで2つの集合が互いに素(要素が1つも一致しない)かどうか判定できる．"
   ]
  },
  {
   "cell_type": "code",
   "execution_count": 93,
   "id": "9f1ef43c-c1b1-40b7-9b20-7a83e654e0ab",
   "metadata": {},
   "outputs": [
    {
     "name": "stdout",
     "output_type": "stream",
     "text": [
      "False\n",
      "True\n"
     ]
    }
   ],
   "source": [
    "Se_int_1 = {3, 4, 5}\n",
    "Se_int_2 = {4, 5, 6}\n",
    "Se_int_3 = {7, 8, 9}\n",
    "\n",
    "print(Se_int_1.isdisjoint(Se_int_2))  # False\n",
    "print(Se_int_1.isdisjoint(Se_int_3))  # True"
   ]
  },
  {
   "cell_type": "markdown",
   "id": "66eb102e-91f1-4fb7-a10a-5b6ef8b4e0c3",
   "metadata": {},
   "source": [
    "## 要素の存在確認\n",
    "in演算子を用いて，ある要素が集合に含まれていいるか確認できる．"
   ]
  },
  {
   "cell_type": "code",
   "execution_count": 96,
   "id": "77704640-bddd-4163-b3cf-1efdd2bd1205",
   "metadata": {},
   "outputs": [
    {
     "name": "stdout",
     "output_type": "stream",
     "text": [
      "True\n",
      "False\n"
     ]
    }
   ],
   "source": [
    "Se_int = {-2, 3, 6, 7, 3, 3, 2, 6}\n",
    "\n",
    "print(7 in Se_int)  # True\n",
    "print(1 in Se_int)  # False"
   ]
  },
  {
   "cell_type": "markdown",
   "id": "26198a59-0830-4794-93e4-6bc17bcbbd16",
   "metadata": {},
   "source": [
    "for文で集合の要素を取得することができる．"
   ]
  },
  {
   "cell_type": "code",
   "execution_count": 99,
   "id": "a371a055-7d54-4777-9ce5-7b4cc15757ab",
   "metadata": {},
   "outputs": [
    {
     "name": "stdout",
     "output_type": "stream",
     "text": [
      "2\n",
      "3\n",
      "6\n",
      "7\n",
      "-2\n"
     ]
    }
   ],
   "source": [
    "Se_int = {-2, 3, 6, 7, 3, 3, 2, 6}\n",
    "\n",
    "for i in Se_int:\n",
    "    print(i)"
   ]
  },
  {
   "cell_type": "markdown",
   "id": "fcd044fb-aac0-44d2-9bb2-cfb30b8f6dbc",
   "metadata": {},
   "source": [
    "listに変換してもOK"
   ]
  },
  {
   "cell_type": "code",
   "execution_count": 105,
   "id": "df7771fe-a0a2-4b70-b907-cae81d4015b0",
   "metadata": {},
   "outputs": [
    {
     "name": "stdout",
     "output_type": "stream",
     "text": [
      "3\n"
     ]
    }
   ],
   "source": [
    "Se_int = {-2, 3, 6, 7, 3, 3, 2, 6}\n",
    "L_int = list(Se_int)\n",
    "\n",
    "print(L_int[1])"
   ]
  },
  {
   "cell_type": "markdown",
   "id": "c3bcdd7b-cfe9-41cc-b18b-cf4a44565145",
   "metadata": {},
   "source": [
    "参考：以上はキノコードさん([[ブログ](https://kino-code.com/)・[You Tube](https://youtube.com/@kinocode?si=B4f5QLuWVA9U65uI]))のYou Tube動画を見て勉強した内容をまとめたものです．"
   ]
  },
  {
   "cell_type": "code",
   "execution_count": null,
   "id": "8a9e6e2e-f8e8-4989-a3f2-bfc0904ddd58",
   "metadata": {},
   "outputs": [],
   "source": []
  }
 ],
 "metadata": {
  "kernelspec": {
   "display_name": "Python 3 (ipykernel)",
   "language": "python",
   "name": "python3"
  },
  "language_info": {
   "codemirror_mode": {
    "name": "ipython",
    "version": 3
   },
   "file_extension": ".py",
   "mimetype": "text/x-python",
   "name": "python",
   "nbconvert_exporter": "python",
   "pygments_lexer": "ipython3",
   "version": "3.11.9"
  }
 },
 "nbformat": 4,
 "nbformat_minor": 5
}
