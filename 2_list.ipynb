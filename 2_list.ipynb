{
 "cells": [
  {
   "cell_type": "markdown",
   "id": "e2b37c19-0d9d-48db-a9ec-8463fdc407af",
   "metadata": {},
   "source": [
    "# list型\n",
    "Pythonでよく使われるデータ型の一つで複数のデータを格納することができる．"
   ]
  },
  {
   "cell_type": "markdown",
   "id": "d3c62e86-c0a0-42b4-ba76-954bb9e84fb1",
   "metadata": {},
   "source": [
    "## リストの作り方\n",
    "角括弧とコンマで記述する．"
   ]
  },
  {
   "cell_type": "code",
   "execution_count": 88,
   "id": "1e71ca51-ee7e-4cb2-b320-6e5d5f7a1a0c",
   "metadata": {},
   "outputs": [
    {
     "name": "stdout",
     "output_type": "stream",
     "text": [
      "['Hokkaido', 'Tohoku', 'Tokyo', 'Nagoya', 'Kyoto', 'Osaka', 'Kyusyu']\n",
      "<class 'list'>\n"
     ]
    }
   ],
   "source": [
    "L_university = ['Hokkaido','Tohoku','Tokyo','Nagoya', 'Kyoto','Osaka','Kyusyu']\n",
    "print(L_university)\n",
    "print(type(L_university))"
   ]
  },
  {
   "cell_type": "markdown",
   "id": "22b5323b-7d74-4840-9dbf-84663642c0f3",
   "metadata": {},
   "source": [
    "## リストの要素の変更\n",
    "リストの要素にアクセスするときはインデックス番号を指定する．"
   ]
  },
  {
   "cell_type": "code",
   "execution_count": 107,
   "id": "83f46f1f-fe36-4e39-bce3-1ff9f26d4b5b",
   "metadata": {},
   "outputs": [
    {
     "name": "stdout",
     "output_type": "stream",
     "text": [
      "Hokkaido\n",
      "Nagoya\n"
     ]
    }
   ],
   "source": [
    "L_university = ['Hokkaido','Tohoku','Tokyo','Nagoya', 'Kyoto','Osaka','Kyusyu']\n",
    "\n",
    "# インデックスは0から順に振られている．\n",
    "# 角括弧の中にインデックス番号を指定することでアクセスできる．\n",
    "print(L_university[0])  # 1つ目の要素が表示される\n",
    "print(L_university[3])  # 4つ目の要素が表示される"
   ]
  },
  {
   "cell_type": "code",
   "execution_count": 225,
   "id": "ec03b7c6-c3a6-4b91-a588-52c9753d9fb6",
   "metadata": {},
   "outputs": [
    {
     "name": "stdout",
     "output_type": "stream",
     "text": [
      "['Hokkaido', 'Tohoku', 'Tokyo', 'Tsukuba', 'Kyoto', 'Osaka', 'Kyusyu']\n"
     ]
    }
   ],
   "source": [
    "L_university = ['Hokkaido','Tohoku','Tokyo','Nagoya', 'Kyoto','Osaka','Kyusyu']\n",
    "\n",
    "# インデックス番号を指定して，要素を変更する\n",
    "L_university[3] = 'Tsukuba'\n",
    "\n",
    "print(L_university)"
   ]
  },
  {
   "cell_type": "code",
   "execution_count": 111,
   "id": "82b8e343-f622-4f1f-a984-c529f4b5077b",
   "metadata": {},
   "outputs": [
    {
     "name": "stdout",
     "output_type": "stream",
     "text": [
      "['Hokkaido', 'Tohoku', 'Tokyo', 'Nagoya', 'Kyoto', 'Kobe', 'Kyusyu']\n"
     ]
    }
   ],
   "source": [
    "L_university = ['Hokkaido','Tohoku','Tokyo','Nagoya', 'Kyoto','Osaka','Kyusyu']\n",
    "\n",
    "# インデックス番号の値をマイナスにすると，後ろから数えた順番になる\n",
    "L_university[-2] = 'Kobe'\n",
    "\n",
    "print(L_university)"
   ]
  },
  {
   "cell_type": "code",
   "execution_count": 120,
   "id": "ccafff34-acb2-4f63-acea-29e4e641bd5a",
   "metadata": {},
   "outputs": [
    {
     "name": "stdout",
     "output_type": "stream",
     "text": [
      "[1, 2]\n",
      "[2, 3, 5, 8, 13]\n",
      "[0]\n"
     ]
    }
   ],
   "source": [
    "L_fibo = [0,1,1,2,3,5,8,13]\n",
    "\n",
    "# インデックスを範囲で指定する\n",
    "print(L_fibo[2:4])  # 2番目から4番目(4番目は含まない)\n",
    "print(L_fibo[3:])  # 3番目以降\n",
    "print(L_fibo[:1])  # 1番目まで(1番目は含まない)"
   ]
  },
  {
   "cell_type": "code",
   "execution_count": 124,
   "id": "4c273939-86bf-40fd-a6b9-c4928e8e2a00",
   "metadata": {},
   "outputs": [
    {
     "name": "stdout",
     "output_type": "stream",
     "text": [
      "[0, 2, 8]\n",
      "[13, 5, 2, 1]\n"
     ]
    }
   ],
   "source": [
    "L_fibo = [0,1,1,2,3,5,8,13]\n",
    "\n",
    "# コロンを２つ重ねると，ステップして指定することができる．\n",
    "print(L_fibo[::3])  # 2つ飛ばしで指定\n",
    "print(L_fibo[::-2])  # 後ろから1つ飛ばしで指定"
   ]
  },
  {
   "cell_type": "markdown",
   "id": "890c34a5-63e3-4f3d-b215-4788560fd325",
   "metadata": {},
   "source": [
    "### リストのネスト\n",
    "リストの中にリストを入れることができる"
   ]
  },
  {
   "cell_type": "code",
   "execution_count": 128,
   "id": "d9379e76-bd61-489a-9e80-fd9a42793f98",
   "metadata": {},
   "outputs": [
    {
     "name": "stdout",
     "output_type": "stream",
     "text": [
      "Tokyo\n"
     ]
    }
   ],
   "source": [
    "L_university = [['Hokkaido','Tohoku'],['Tokyo','Nagoya'], ['Kyoto','Osaka'],['Kyusyu']]\n",
    "\n",
    "print(L_university[1][0])  # 1つ目のリストの1番目の要素"
   ]
  },
  {
   "cell_type": "markdown",
   "id": "4197da16-9616-48e3-a64f-29a26c307ebb",
   "metadata": {},
   "source": [
    "## リストの足し算，掛け算"
   ]
  },
  {
   "cell_type": "code",
   "execution_count": 300,
   "id": "3f15758e-7c1c-43bc-9e38-f2a9784c7812",
   "metadata": {},
   "outputs": [
    {
     "name": "stdout",
     "output_type": "stream",
     "text": [
      "[0, 1, 1, 2, 3, 5, 8, 13, 21]\n"
     ]
    }
   ],
   "source": [
    "L_fibo = [0,1,1,2,3,5,8,13]\n",
    "\n",
    "# データ型を揃えると足し算が可能\n",
    "L_fibo_append = L_fibo + [21]\n",
    "\n",
    "print(L_fibo_append)"
   ]
  },
  {
   "cell_type": "code",
   "execution_count": 138,
   "id": "c3185cad-6879-4981-b09c-912c7fc5b1ff",
   "metadata": {},
   "outputs": [
    {
     "ename": "TypeError",
     "evalue": "can only concatenate list (not \"int\") to list",
     "output_type": "error",
     "traceback": [
      "\u001b[0;31m---------------------------------------------------------------------------\u001b[0m",
      "\u001b[0;31mTypeError\u001b[0m                                 Traceback (most recent call last)",
      "Cell \u001b[0;32mIn[138], line 4\u001b[0m\n\u001b[1;32m      1\u001b[0m L_fibo \u001b[38;5;241m=\u001b[39m [\u001b[38;5;241m0\u001b[39m,\u001b[38;5;241m1\u001b[39m,\u001b[38;5;241m1\u001b[39m,\u001b[38;5;241m2\u001b[39m,\u001b[38;5;241m3\u001b[39m,\u001b[38;5;241m5\u001b[39m,\u001b[38;5;241m8\u001b[39m,\u001b[38;5;241m13\u001b[39m]\n\u001b[1;32m      3\u001b[0m \u001b[38;5;66;03m# データ型がそろっていないとエラーになる．\u001b[39;00m\n\u001b[0;32m----> 4\u001b[0m L_fibo_append \u001b[38;5;241m=\u001b[39m L_fibo \u001b[38;5;241m+\u001b[39m \u001b[38;5;241m21\u001b[39m\n\u001b[1;32m      6\u001b[0m \u001b[38;5;28mprint\u001b[39m(L_fibo_append)\n",
      "\u001b[0;31mTypeError\u001b[0m: can only concatenate list (not \"int\") to list"
     ]
    }
   ],
   "source": [
    "L_fibo = [0,1,1,2,3,5,8,13]\n",
    "\n",
    "# データ型がそろっていないとエラーになる．\n",
    "L_fibo_append = L_fibo + 21\n",
    "\n",
    "print(L_fibo_append)"
   ]
  },
  {
   "cell_type": "code",
   "execution_count": 142,
   "id": "8a39d3e1-75c7-4ff9-ac41-fc52da7be42e",
   "metadata": {},
   "outputs": [
    {
     "name": "stdout",
     "output_type": "stream",
     "text": [
      "[0, 1, 1, 2, 3, 5, 8, 13, 0, 1, 1, 2, 3, 5, 8, 13]\n"
     ]
    }
   ],
   "source": [
    "L_fibo = [0,1,1,2,3,5,8,13]\n",
    "\n",
    "# 掛け算によってリストの要素を繰り返すことができる\n",
    "L_fibo_repeat = L_fibo * 2\n",
    "\n",
    "print(L_fibo_repeat)"
   ]
  },
  {
   "cell_type": "markdown",
   "id": "bb12428d-30f5-44a4-99c2-f993abb799fb",
   "metadata": {},
   "source": [
    "## リストのメソッド・組み込み関数・演算子"
   ]
  },
  {
   "cell_type": "markdown",
   "id": "c25535a9-17a7-4ebd-a6e5-e97c111b782c",
   "metadata": {},
   "source": [
    "appendメソッドはリストに要素を追加することができる．"
   ]
  },
  {
   "cell_type": "code",
   "execution_count": 160,
   "id": "a850089d-66fa-4e56-a77a-19e4c4c825a2",
   "metadata": {},
   "outputs": [
    {
     "name": "stdout",
     "output_type": "stream",
     "text": [
      "[0, 1, 1, 2, 3, 5, 8, 13, [21, 34]]\n"
     ]
    }
   ],
   "source": [
    "L_fibo = [0,1,1,2,3,5,8,13]\n",
    "\n",
    "L_fibo.append([21,34])\n",
    "print(L_fibo)"
   ]
  },
  {
   "cell_type": "markdown",
   "id": "0dd36933-9ccf-4773-96ed-0133a1fe5d0d",
   "metadata": {},
   "source": [
    "extendメソッドではリスト内のデータを分解して要素として末尾に追加できる．"
   ]
  },
  {
   "cell_type": "code",
   "execution_count": 163,
   "id": "f4d5a006-8157-4bf7-bd11-46b7589f3a11",
   "metadata": {},
   "outputs": [
    {
     "name": "stdout",
     "output_type": "stream",
     "text": [
      "[0, 1, 1, 2, 3, 5, 8, 13, 21, 34]\n"
     ]
    }
   ],
   "source": [
    "L_fibo = [0,1,1,2,3,5,8,13]\n",
    "\n",
    "L_fibo.extend([21,34])\n",
    "print(L_fibo)"
   ]
  },
  {
   "cell_type": "markdown",
   "id": "5bde6256-4191-4541-93c2-e062ddae18ce",
   "metadata": {},
   "source": [
    "insertメソッドを使うとリストの指定した位置に要素を追加することができる．"
   ]
  },
  {
   "cell_type": "code",
   "execution_count": 168,
   "id": "417ed339-30a5-4bd6-9a83-7f10aa3a0029",
   "metadata": {},
   "outputs": [
    {
     "name": "stdout",
     "output_type": "stream",
     "text": [
      "['Hokkaido', 'Tohoku', 'Tokyo', 'Nagoya', 'Kanazawa', 'Kyoto', 'Osaka', 'Kyusyu']\n"
     ]
    }
   ],
   "source": [
    "L_university = ['Hokkaido','Tohoku','Tokyo','Nagoya', 'Kyoto','Osaka','Kyusyu']\n",
    "\n",
    "# インデックスと追加したい要素を指定する．\n",
    "L_university.insert(4, 'Kanazawa')\n",
    "\n",
    "print(L_university)"
   ]
  },
  {
   "cell_type": "markdown",
   "id": "a9b9e3b7-3770-4acd-9c7d-d80ef7aa6e63",
   "metadata": {},
   "source": [
    "del文を使用してリストの要素を削除する"
   ]
  },
  {
   "cell_type": "code",
   "execution_count": 171,
   "id": "2de13be7-2c10-400a-8f37-067dad46b940",
   "metadata": {},
   "outputs": [
    {
     "name": "stdout",
     "output_type": "stream",
     "text": [
      "['Hokkaido', 'Tohoku', 'Tokyo', 'Kyoto', 'Osaka', 'Kyusyu']\n"
     ]
    }
   ],
   "source": [
    "L_university = ['Hokkaido','Tohoku','Tokyo','Nagoya', 'Kyoto','Osaka','Kyusyu']\n",
    "\n",
    "# 削除したい要素のインデックスを指定する．\n",
    "del L_university[3]\n",
    "\n",
    "print(L_university)"
   ]
  },
  {
   "cell_type": "markdown",
   "id": "c52e8f06-2e0d-4d3d-ab08-69c0bec393d4",
   "metadata": {},
   "source": [
    "popメソッドを使うと，リストを削除し，削除した要素を表示することができる．"
   ]
  },
  {
   "cell_type": "code",
   "execution_count": 176,
   "id": "a0f66a60-7cc5-4215-a8f3-cc68a3c20772",
   "metadata": {},
   "outputs": [
    {
     "name": "stdout",
     "output_type": "stream",
     "text": [
      "Nagoya\n",
      "['Hokkaido', 'Tohoku', 'Tokyo', 'Kyoto', 'Osaka', 'Kyusyu']\n"
     ]
    }
   ],
   "source": [
    "L_university = ['Hokkaido','Tohoku','Tokyo','Nagoya', 'Kyoto','Osaka','Kyusyu']\n",
    "\n",
    "# 丸括弧の中でインデックスを指定する．\n",
    "print(L_university.pop(3))\n",
    "\n",
    "print(L_university)"
   ]
  },
  {
   "cell_type": "markdown",
   "id": "e673079d-066d-43b2-bec7-e86d8c1f3c7c",
   "metadata": {},
   "source": [
    "removeメソッドを使うと指定した要素を検索し，削除することができる．"
   ]
  },
  {
   "cell_type": "code",
   "execution_count": 179,
   "id": "53eb436a-529f-4ed3-a3a6-99a671aa93b0",
   "metadata": {},
   "outputs": [
    {
     "name": "stdout",
     "output_type": "stream",
     "text": [
      "['Hokkaido', 'Tokyo', 'Nagoya', 'Kyoto', 'Osaka', 'Kyusyu']\n"
     ]
    }
   ],
   "source": [
    "L_university = ['Hokkaido','Tohoku','Tokyo','Nagoya', 'Kyoto','Osaka','Kyusyu']\n",
    "\n",
    "L_university.remove('Tohoku')\n",
    "\n",
    "print(L_university)"
   ]
  },
  {
   "cell_type": "markdown",
   "id": "219109fc-73da-4dd4-982c-922fc47d2ebf",
   "metadata": {},
   "source": [
    "clearメソッドでリストの全ての要素を削除することができる．"
   ]
  },
  {
   "cell_type": "code",
   "execution_count": 182,
   "id": "ceff41b7-b9f1-49f7-9037-a8dacdaae421",
   "metadata": {},
   "outputs": [
    {
     "name": "stdout",
     "output_type": "stream",
     "text": [
      "[]\n"
     ]
    }
   ],
   "source": [
    "L_fibo = [0,1,1,2,3,5,8,13]\n",
    "\n",
    "L_fibo.clear()\n",
    "\n",
    "print(L_fibo)"
   ]
  },
  {
   "cell_type": "markdown",
   "id": "19327cf0-8c45-44aa-a50c-cd15b54d93df",
   "metadata": {},
   "source": [
    "in演算子でリストの中に指定した要素が含まれているかを判定する．"
   ]
  },
  {
   "cell_type": "code",
   "execution_count": 271,
   "id": "9240baed-a6ae-4d24-8f15-d7b7b7259145",
   "metadata": {},
   "outputs": [
    {
     "name": "stdout",
     "output_type": "stream",
     "text": [
      "True\n",
      "False\n"
     ]
    }
   ],
   "source": [
    "L_university = ['Hokkaido','Tohoku','Tokyo','Nagoya', 'Kyoto','Osaka','Kyusyu']\n",
    "\n",
    "print('Osaka' in L_university)  # True\n",
    "print('Kanazawa' in L_university)  # False"
   ]
  },
  {
   "cell_type": "markdown",
   "id": "674ec3c8-103e-41f1-bc18-c31b8f2bbdc6",
   "metadata": {},
   "source": [
    "countメソッドでリストに指定した要素が何個含まれているかを取得する．"
   ]
  },
  {
   "cell_type": "code",
   "execution_count": 188,
   "id": "a256ff1d-3764-4dff-814c-a622c20076c8",
   "metadata": {},
   "outputs": [
    {
     "name": "stdout",
     "output_type": "stream",
     "text": [
      "2\n"
     ]
    }
   ],
   "source": [
    "L_fibo = [0,1,1,2,3,5,8,13]\n",
    "\n",
    "print(L_fibo.count(1))"
   ]
  },
  {
   "cell_type": "markdown",
   "id": "fefa3207-3038-45ce-8a24-cc2c4b5ab134",
   "metadata": {},
   "source": [
    "indexメソッドで指定した要素がリストの何番目にあるかを取得できる．"
   ]
  },
  {
   "cell_type": "code",
   "execution_count": 191,
   "id": "2da2b3a1-e803-42f5-9706-2f471cca9710",
   "metadata": {},
   "outputs": [
    {
     "name": "stdout",
     "output_type": "stream",
     "text": [
      "5\n",
      "1\n"
     ]
    }
   ],
   "source": [
    "L_fibo = [0,1,1,2,3,5,8,13]\n",
    "\n",
    "print(L_fibo.index(5))\n",
    "print(L_fibo.index(1))"
   ]
  },
  {
   "cell_type": "markdown",
   "id": "73c9621c-3589-4f9c-88ab-d987ea942db0",
   "metadata": {},
   "source": [
    "sortメソッドでリストの数値を小さい順に並び替えることができる．"
   ]
  },
  {
   "cell_type": "code",
   "execution_count": 197,
   "id": "57682bc6-905a-470f-a15a-b667f3b0af9f",
   "metadata": {},
   "outputs": [
    {
     "name": "stdout",
     "output_type": "stream",
     "text": [
      "[0, 1, 1, 2, 3, 5, 8, 13]\n"
     ]
    }
   ],
   "source": [
    "L_fibo = [0,1,2,13,8,1,5,3]\n",
    "\n",
    "L_fibo.sort()  # reverse=Trueを指定すると大きい順に並び替えられる．\n",
    "\n",
    "print(L_fibo)"
   ]
  },
  {
   "cell_type": "markdown",
   "id": "f4dba07b-4683-4335-94b5-f7d05b68872a",
   "metadata": {},
   "source": [
    "reverseメソッドでリストの並び順を逆にすることができる．"
   ]
  },
  {
   "cell_type": "code",
   "execution_count": 202,
   "id": "2a7e6653-076b-428c-822f-b8fb493c9b9e",
   "metadata": {},
   "outputs": [
    {
     "name": "stdout",
     "output_type": "stream",
     "text": [
      "['Kyusyu', 'Osaka', 'Kyoto', 'Nagoya', 'Tokyo', 'Tohoku', 'Hokkaido']\n"
     ]
    }
   ],
   "source": [
    "L_university = ['Hokkaido','Tohoku','Tokyo','Nagoya', 'Kyoto','Osaka','Kyusyu']\n",
    "\n",
    "L_university.reverse()\n",
    "\n",
    "print(L_university)"
   ]
  },
  {
   "cell_type": "markdown",
   "id": "5cb69d66-ebaf-4fc2-8a09-df92c48fd17c",
   "metadata": {},
   "source": [
    "max関数/min関数でリスト内の要素の最大値/最小値を取得できる．"
   ]
  },
  {
   "cell_type": "code",
   "execution_count": 284,
   "id": "ecc326e3-4a19-4193-b9c9-2f8acfb704f9",
   "metadata": {},
   "outputs": [
    {
     "name": "stdout",
     "output_type": "stream",
     "text": [
      "13\n",
      "0\n"
     ]
    }
   ],
   "source": [
    "L_fibo = [0,1,1,2,3,5,8,13]\n",
    "\n",
    "print(max(L_fibo))\n",
    "print(min(L_fibo))"
   ]
  },
  {
   "cell_type": "code",
   "execution_count": 207,
   "id": "abd03c03-63e3-4fbf-8f55-c3ab3759d776",
   "metadata": {},
   "outputs": [
    {
     "name": "stdout",
     "output_type": "stream",
     "text": [
      "7\n",
      "0\n"
     ]
    }
   ],
   "source": [
    "L_fibo = [0,1,1,2,3,5,8,13]\n",
    "\n",
    "# indexメソッドとの組み合わせ\n",
    "print(L_fibo.index(max(L_fibo)))\n",
    "print(L_fibo.index(min(L_fibo)))"
   ]
  },
  {
   "cell_type": "markdown",
   "id": "b8828680-bf1d-49e4-ba59-8efa5c5923fc",
   "metadata": {},
   "source": [
    "組み込み関数のlen関数でリスト内の要素の個数を調べることができる．"
   ]
  },
  {
   "cell_type": "code",
   "execution_count": 210,
   "id": "4ef26d4a-b18d-4e3a-8861-39ed1fe44086",
   "metadata": {},
   "outputs": [
    {
     "name": "stdout",
     "output_type": "stream",
     "text": [
      "8\n"
     ]
    }
   ],
   "source": [
    "L_fibo = [0,1,1,2,3,5,8,13]\n",
    "\n",
    "print(len(L_fibo))"
   ]
  },
  {
   "cell_type": "markdown",
   "id": "ff6a1042-af87-4c73-9719-839b23d5b97b",
   "metadata": {},
   "source": [
    "参考：以上はキノコードさん([[ブログ](https://kino-code.com/)・[You Tube](https://youtube.com/@kinocode?si=B4f5QLuWVA9U65uI]))のYou Tube動画を見て勉強した内容をまとめたものです．"
   ]
  },
  {
   "cell_type": "code",
   "execution_count": null,
   "id": "2fc0c079-5231-4a3d-86f8-f839c4f5aa23",
   "metadata": {},
   "outputs": [],
   "source": []
  }
 ],
 "metadata": {
  "kernelspec": {
   "display_name": "Python 3 (ipykernel)",
   "language": "python",
   "name": "python3"
  },
  "language_info": {
   "codemirror_mode": {
    "name": "ipython",
    "version": 3
   },
   "file_extension": ".py",
   "mimetype": "text/x-python",
   "name": "python",
   "nbconvert_exporter": "python",
   "pygments_lexer": "ipython3",
   "version": "3.11.9"
  }
 },
 "nbformat": 4,
 "nbformat_minor": 5
}
